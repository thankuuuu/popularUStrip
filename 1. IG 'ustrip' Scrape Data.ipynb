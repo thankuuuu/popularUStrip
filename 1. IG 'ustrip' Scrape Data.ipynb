{
 "cells": [
  {
   "cell_type": "markdown",
   "metadata": {},
   "source": [
    "<b>\n",
    "\n",
    "<p>\n",
    "<center>\n",
    "<font size=\"6\">\n",
    "Data Mining Project 2\n",
    "</font>\n",
    "</center>\n",
    "</p>\n",
    "\n",
    "<p>\n",
    "<center>\n",
    "<font size=\"5\">\n",
    "Instagram \"ustrip\" Check-ins Databease \n",
    "</font>\n",
    "</center>\n",
    "</p>\n",
    "\n",
    "<p>\n",
    "<center>\n",
    "<font size=\"3\">\n",
    "Data Mining, Columbian College of Arts & Sciences, George Washington University\n",
    "</font>\n",
    "</center>\n",
    "</p>\n",
    "\n",
    "<p>\n",
    "<center>\n",
    "<font size=\"3\">\n",
    "Author: Voratham Tiabrat\n",
    "</font>\n",
    "</center>\n",
    "</p>\n",
    "\n",
    "</b>"
   ]
  },
  {
   "cell_type": "markdown",
   "metadata": {},
   "source": [
    "# Part 1 : Instagram 'ustrip' Scraping Data"
   ]
  },
  {
   "cell_type": "code",
   "execution_count": 3,
   "metadata": {},
   "outputs": [],
   "source": [
    "from selenium import webdriver\n",
    "from bs4 import BeautifulSoup\n",
    "import re\n",
    "import time\n",
    "import pandas as pd\n",
    "import numpy as np"
   ]
  },
  {
   "cell_type": "code",
   "execution_count": 5,
   "metadata": {},
   "outputs": [
    {
     "name": "stdout",
     "output_type": "stream",
     "text": [
      "\n"
     ]
    }
   ],
   "source": [
    "# Create the driver to open instagram browser\n",
    "driver = webdriver.Chrome()\n",
    "driver.get('https://www.instagram.com/explore/tags/ustrip')\n",
    "driver.maximize_window()\n",
    "height = driver.execute_script(\"return document.body.scrollHeight\")\n",
    "links = []\n",
    "\n",
    "for i in range(20000):\n",
    "    # Instagram use infinite scroll webpage, therefore to scrape the data, have to scroll down for updating the new content\n",
    "    driver.execute_script(\"window.scrollTo(0, document.body.scrollHeight);\")\n",
    "    source = driver.page_source\n",
    "    data = BeautifulSoup(source, 'lxml')\n",
    "    body = data.find('body')\n",
    "    span = body.find('span')\n",
    "    for link in span.findAll('a'):\n",
    "        # As in the html, the link of each posts would contain /p before each unique value\n",
    "        if re.match(\"/p\", link.get('href')):\n",
    "            links.append('https://www.instagram.com'+link.get('href'))\n",
    "    update_height = driver.execute_script(\"return document.body.scrollHeight\")\n",
    "    #Sometimes,the webpage failed to load the new content, then I scroll the page up to refresh it  \n",
    "    if update_height == height:\n",
    "        driver.execute_script(\"window.scrollBy(0,-1000)\") \n",
    "    height = update_height\n",
    "    #Set each scrolling time for waiting the website to load the information\n",
    "    time.sleep(1)\n",
    "    \n",
    "### Caution : This process take a lot of time (nearly a day)"
   ]
  },
  {
   "cell_type": "code",
   "execution_count": 3,
   "metadata": {},
   "outputs": [
    {
     "data": {
      "text/plain": [
       "1257279"
      ]
     },
     "execution_count": 3,
     "metadata": {},
     "output_type": "execute_result"
    }
   ],
   "source": [
    "# As I collect all the links from each loop, it will contain a lot of duplicate link while scroll down in each loop.\n",
    "len(links)"
   ]
  },
  {
   "cell_type": "code",
   "execution_count": 4,
   "metadata": {
    "scrolled": true
   },
   "outputs": [
    {
     "data": {
      "text/plain": [
       "70263"
      ]
     },
     "execution_count": 4,
     "metadata": {},
     "output_type": "execute_result"
    }
   ],
   "source": [
    "# Delete the duplicate links\n",
    "links2 = list(dict.fromkeys(links))\n",
    "len(links2)"
   ]
  },
  {
   "cell_type": "code",
   "execution_count": 5,
   "metadata": {},
   "outputs": [],
   "source": [
    "check_ins = []\n",
    "date = []\n",
    "driver2 = webdriver.Chrome()\n",
    "\n",
    "# Collect the chech-ins location and date\n",
    "for url in links2 :\n",
    "    try :\n",
    "        #Find the specific div of Check-ins\n",
    "        driver2.get(url)\n",
    "        page = driver2.page_source\n",
    "        soup = BeautifulSoup(page, 'lxml')\n",
    "        body = soup.find(\"body\")\n",
    "        span = body.find(\"span\")\n",
    "        section = span.find(\"section\")\n",
    "        main = section.find(\"main\")\n",
    "        div = main.find(\"div\")\n",
    "        div2 = div.find(\"div\")\n",
    "        article = div2.find(\"article\")\n",
    "        header = article.find(\"header\")\n",
    "        div3 = header.find(\"div\",attrs={\"class\": \"JF9hh\"})\n",
    "        check_ins.append(div3.text)\n",
    "    \n",
    "        #Find the specific div of Check-ins Date page = driver.page_source\n",
    "        div4 = article.find(\"div\",attrs={\"class\": \"eo2As\"})\n",
    "        div5 = div4.find(\"div\",attrs={\"class\": \"k_Q0X NnvRN\"})\n",
    "        time = div.find(\"time\")\n",
    "        date.append(time.get(\"datetime\"))\n",
    "    \n",
    "    except :\n",
    "        pass"
   ]
  },
  {
   "cell_type": "code",
   "execution_count": 6,
   "metadata": {},
   "outputs": [],
   "source": [
    "# Create data frame\n",
    "join = {'Location':check_ins,'Date':date}\n",
    "df = pd.DataFrame(join)\n",
    "# Set index to Location\n",
    "df.set_index('Location', inplace=True)"
   ]
  },
  {
   "cell_type": "code",
   "execution_count": 7,
   "metadata": {},
   "outputs": [
    {
     "data": {
      "text/plain": [
       "(70114, 1)"
      ]
     },
     "execution_count": 7,
     "metadata": {},
     "output_type": "execute_result"
    }
   ],
   "source": [
    "df.shape"
   ]
  },
  {
   "cell_type": "code",
   "execution_count": 10,
   "metadata": {},
   "outputs": [],
   "source": [
    "# Export as csv file\n",
    "df.to_csv('IG.csv')"
   ]
  }
 ],
 "metadata": {
  "kernelspec": {
   "display_name": "Python 3",
   "language": "python",
   "name": "python3"
  },
  "language_info": {
   "codemirror_mode": {
    "name": "ipython",
    "version": 3
   },
   "file_extension": ".py",
   "mimetype": "text/x-python",
   "name": "python",
   "nbconvert_exporter": "python",
   "pygments_lexer": "ipython3",
   "version": "3.6.5"
  }
 },
 "nbformat": 4,
 "nbformat_minor": 2
}
