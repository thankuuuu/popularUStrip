{
 "cells": [
  {
   "cell_type": "markdown",
   "metadata": {},
   "source": [
    "<b>\n",
    "\n",
    "<p>\n",
    "<center>\n",
    "<font size=\"6\">\n",
    "Data Mining Project 2\n",
    "</font>\n",
    "</center>\n",
    "</p>\n",
    "\n",
    "<p>\n",
    "<center>\n",
    "<font size=\"5\">\n",
    "Instagram \"ustrip\" Check-ins Databease \n",
    "</font>\n",
    "</center>\n",
    "</p>\n",
    "\n",
    "<p>\n",
    "<center>\n",
    "<font size=\"3\">\n",
    "Data Mining, Columbian College of Arts & Sciences, George Washington University\n",
    "</font>\n",
    "</center>\n",
    "</p>\n",
    "\n",
    "<p>\n",
    "<center>\n",
    "<font size=\"3\">\n",
    "Author: Voratham Tiabrat\n",
    "</font>\n",
    "</center>\n",
    "</p>\n",
    "\n",
    "</b>"
   ]
  },
  {
   "cell_type": "markdown",
   "metadata": {},
   "source": [
    "# Part 2 : Cleaning & Preparing Data "
   ]
  },
  {
   "cell_type": "code",
   "execution_count": 1,
   "metadata": {},
   "outputs": [],
   "source": [
    "import pandas as pd "
   ]
  },
  {
   "cell_type": "code",
   "execution_count": 2,
   "metadata": {},
   "outputs": [
    {
     "data": {
      "text/html": [
       "<div>\n",
       "<style scoped>\n",
       "    .dataframe tbody tr th:only-of-type {\n",
       "        vertical-align: middle;\n",
       "    }\n",
       "\n",
       "    .dataframe tbody tr th {\n",
       "        vertical-align: top;\n",
       "    }\n",
       "\n",
       "    .dataframe thead th {\n",
       "        text-align: right;\n",
       "    }\n",
       "</style>\n",
       "<table border=\"1\" class=\"dataframe\">\n",
       "  <thead>\n",
       "    <tr style=\"text-align: right;\">\n",
       "      <th></th>\n",
       "      <th>Location</th>\n",
       "      <th>Date</th>\n",
       "    </tr>\n",
       "  </thead>\n",
       "  <tbody>\n",
       "    <tr>\n",
       "      <th>0</th>\n",
       "      <td>Disney's Hollywood Studios, Orlando Florida</td>\n",
       "      <td>2019-10-29T20:13:19.000Z</td>\n",
       "    </tr>\n",
       "    <tr>\n",
       "      <th>1</th>\n",
       "      <td>Las Vegas, Nevada</td>\n",
       "      <td>2019-10-24T04:29:06.000Z</td>\n",
       "    </tr>\n",
       "    <tr>\n",
       "      <th>2</th>\n",
       "      <td>Index, Washington</td>\n",
       "      <td>2019-10-31T15:23:41.000Z</td>\n",
       "    </tr>\n",
       "    <tr>\n",
       "      <th>3</th>\n",
       "      <td>Delicate Arch, Arches National Park</td>\n",
       "      <td>2019-10-20T04:04:54.000Z</td>\n",
       "    </tr>\n",
       "    <tr>\n",
       "      <th>4</th>\n",
       "      <td>Golden Gate Bridge</td>\n",
       "      <td>2019-10-09T02:39:43.000Z</td>\n",
       "    </tr>\n",
       "    <tr>\n",
       "      <th>5</th>\n",
       "      <td>New Orleans, Louisiana</td>\n",
       "      <td>2019-08-12T14:33:05.000Z</td>\n",
       "    </tr>\n",
       "    <tr>\n",
       "      <th>6</th>\n",
       "      <td>Seven Magic Mountains, Nevada</td>\n",
       "      <td>2019-10-23T02:15:47.000Z</td>\n",
       "    </tr>\n",
       "    <tr>\n",
       "      <th>7</th>\n",
       "      <td>Monument Valley</td>\n",
       "      <td>2019-10-27T19:48:15.000Z</td>\n",
       "    </tr>\n",
       "    <tr>\n",
       "      <th>8</th>\n",
       "      <td>The Lodge on Route 66</td>\n",
       "      <td>2019-09-15T03:58:53.000Z</td>\n",
       "    </tr>\n",
       "    <tr>\n",
       "      <th>9</th>\n",
       "      <td>Chesapeake, Virginia</td>\n",
       "      <td>2019-10-31T23:44:34.000Z</td>\n",
       "    </tr>\n",
       "  </tbody>\n",
       "</table>\n",
       "</div>"
      ],
      "text/plain": [
       "                                      Location                      Date\n",
       "0  Disney's Hollywood Studios, Orlando Florida  2019-10-29T20:13:19.000Z\n",
       "1                            Las Vegas, Nevada  2019-10-24T04:29:06.000Z\n",
       "2                            Index, Washington  2019-10-31T15:23:41.000Z\n",
       "3          Delicate Arch, Arches National Park  2019-10-20T04:04:54.000Z\n",
       "4                           Golden Gate Bridge  2019-10-09T02:39:43.000Z\n",
       "5                       New Orleans, Louisiana  2019-08-12T14:33:05.000Z\n",
       "6                Seven Magic Mountains, Nevada  2019-10-23T02:15:47.000Z\n",
       "7                              Monument Valley  2019-10-27T19:48:15.000Z\n",
       "8                        The Lodge on Route 66  2019-09-15T03:58:53.000Z\n",
       "9                         Chesapeake, Virginia  2019-10-31T23:44:34.000Z"
      ]
     },
     "execution_count": 2,
     "metadata": {},
     "output_type": "execute_result"
    }
   ],
   "source": [
    "AllIG = pd.read_csv('IG.csv')\n",
    "AllIG.head(10)"
   ]
  },
  {
   "cell_type": "code",
   "execution_count": 3,
   "metadata": {},
   "outputs": [
    {
     "data": {
      "text/plain": [
       "(70114, 2)"
      ]
     },
     "execution_count": 3,
     "metadata": {},
     "output_type": "execute_result"
    }
   ],
   "source": [
    "AllIG.shape"
   ]
  },
  {
   "cell_type": "code",
   "execution_count": 7,
   "metadata": {},
   "outputs": [
    {
     "data": {
      "text/html": [
       "<div>\n",
       "<style scoped>\n",
       "    .dataframe tbody tr th:only-of-type {\n",
       "        vertical-align: middle;\n",
       "    }\n",
       "\n",
       "    .dataframe tbody tr th {\n",
       "        vertical-align: top;\n",
       "    }\n",
       "\n",
       "    .dataframe thead th {\n",
       "        text-align: right;\n",
       "    }\n",
       "</style>\n",
       "<table border=\"1\" class=\"dataframe\">\n",
       "  <thead>\n",
       "    <tr style=\"text-align: right;\">\n",
       "      <th></th>\n",
       "      <th>Location</th>\n",
       "      <th>Date</th>\n",
       "    </tr>\n",
       "  </thead>\n",
       "  <tbody>\n",
       "    <tr>\n",
       "      <th>0</th>\n",
       "      <td>Disney's Hollywood Studios, Orlando Florida</td>\n",
       "      <td>2019-10-29T20:13:19.000Z</td>\n",
       "    </tr>\n",
       "    <tr>\n",
       "      <th>1</th>\n",
       "      <td>Las Vegas, Nevada</td>\n",
       "      <td>2019-10-24T04:29:06.000Z</td>\n",
       "    </tr>\n",
       "    <tr>\n",
       "      <th>2</th>\n",
       "      <td>Index, Washington</td>\n",
       "      <td>2019-10-31T15:23:41.000Z</td>\n",
       "    </tr>\n",
       "    <tr>\n",
       "      <th>3</th>\n",
       "      <td>Delicate Arch, Arches National Park</td>\n",
       "      <td>2019-10-20T04:04:54.000Z</td>\n",
       "    </tr>\n",
       "    <tr>\n",
       "      <th>4</th>\n",
       "      <td>Golden Gate Bridge</td>\n",
       "      <td>2019-10-09T02:39:43.000Z</td>\n",
       "    </tr>\n",
       "    <tr>\n",
       "      <th>5</th>\n",
       "      <td>New Orleans, Louisiana</td>\n",
       "      <td>2019-08-12T14:33:05.000Z</td>\n",
       "    </tr>\n",
       "    <tr>\n",
       "      <th>6</th>\n",
       "      <td>Seven Magic Mountains, Nevada</td>\n",
       "      <td>2019-10-23T02:15:47.000Z</td>\n",
       "    </tr>\n",
       "    <tr>\n",
       "      <th>7</th>\n",
       "      <td>Monument Valley</td>\n",
       "      <td>2019-10-27T19:48:15.000Z</td>\n",
       "    </tr>\n",
       "    <tr>\n",
       "      <th>8</th>\n",
       "      <td>The Lodge on Route 66</td>\n",
       "      <td>2019-09-15T03:58:53.000Z</td>\n",
       "    </tr>\n",
       "    <tr>\n",
       "      <th>9</th>\n",
       "      <td>Chesapeake, Virginia</td>\n",
       "      <td>2019-10-31T23:44:34.000Z</td>\n",
       "    </tr>\n",
       "  </tbody>\n",
       "</table>\n",
       "</div>"
      ],
      "text/plain": [
       "                                      Location                      Date\n",
       "0  Disney's Hollywood Studios, Orlando Florida  2019-10-29T20:13:19.000Z\n",
       "1                            Las Vegas, Nevada  2019-10-24T04:29:06.000Z\n",
       "2                            Index, Washington  2019-10-31T15:23:41.000Z\n",
       "3          Delicate Arch, Arches National Park  2019-10-20T04:04:54.000Z\n",
       "4                           Golden Gate Bridge  2019-10-09T02:39:43.000Z\n",
       "5                       New Orleans, Louisiana  2019-08-12T14:33:05.000Z\n",
       "6                Seven Magic Mountains, Nevada  2019-10-23T02:15:47.000Z\n",
       "7                              Monument Valley  2019-10-27T19:48:15.000Z\n",
       "8                        The Lodge on Route 66  2019-09-15T03:58:53.000Z\n",
       "9                         Chesapeake, Virginia  2019-10-31T23:44:34.000Z"
      ]
     },
     "execution_count": 7,
     "metadata": {},
     "output_type": "execute_result"
    }
   ],
   "source": [
    "#Clear all none location Check-ins\n",
    "df = AllIG.dropna()\n",
    "#Reset the index\n",
    "df = IG.reset_index(drop=True)\n",
    "df.head(10)"
   ]
  },
  {
   "cell_type": "code",
   "execution_count": 9,
   "metadata": {},
   "outputs": [
    {
     "data": {
      "text/plain": [
       "(48778, 2)"
      ]
     },
     "execution_count": 9,
     "metadata": {},
     "output_type": "execute_result"
    }
   ],
   "source": [
    "df.shape"
   ]
  },
  {
   "cell_type": "code",
   "execution_count": null,
   "metadata": {},
   "outputs": [],
   "source": [
    "# Extracting Month and Year of each post and add the season\n",
    "month = []\n",
    "year = []\n",
    "season = []\n",
    "for i in range (len(df.index)):\n",
    "        year.append((df.loc[i,'Date'][0:4]))\n",
    "        month.append((df.loc[i,'Date'][5:7]))  \n",
    "        if df.loc[i,'Date'][5:7] in ['03','04','05'] :\n",
    "            season.append('Spring')\n",
    "        elif df.loc[i,'Date'][5:7] in ['06','07','08'] :\n",
    "            season.append('Summer')\n",
    "        elif df.loc[i,'Date'][5:7] in ['09','10','11'] :\n",
    "            season.append('Fall')\n",
    "        elif df.loc[i,'Date'][5:7] in ['12','01','02'] :\n",
    "            season.append('Winter') "
   ]
  },
  {
   "cell_type": "code",
   "execution_count": 11,
   "metadata": {},
   "outputs": [
    {
     "data": {
      "text/plain": [
       "(48778, 3)"
      ]
     },
     "execution_count": 11,
     "metadata": {},
     "output_type": "execute_result"
    }
   ],
   "source": [
    "join = {'Month':month,'Year':year,'Season':season}\n",
    "df2 = pd.DataFrame(join)\n",
    "df2.shape"
   ]
  },
  {
   "cell_type": "code",
   "execution_count": 73,
   "metadata": {},
   "outputs": [
    {
     "data": {
      "text/plain": [
       "(48778, 5)"
      ]
     },
     "execution_count": 73,
     "metadata": {},
     "output_type": "execute_result"
    }
   ],
   "source": [
    "Data = pd.concat([df,df2], axis=1)\n",
    "Data.shape"
   ]
  },
  {
   "cell_type": "code",
   "execution_count": 88,
   "metadata": {},
   "outputs": [
    {
     "data": {
      "text/html": [
       "<div>\n",
       "<style scoped>\n",
       "    .dataframe tbody tr th:only-of-type {\n",
       "        vertical-align: middle;\n",
       "    }\n",
       "\n",
       "    .dataframe tbody tr th {\n",
       "        vertical-align: top;\n",
       "    }\n",
       "\n",
       "    .dataframe thead th {\n",
       "        text-align: right;\n",
       "    }\n",
       "</style>\n",
       "<table border=\"1\" class=\"dataframe\">\n",
       "  <thead>\n",
       "    <tr style=\"text-align: right;\">\n",
       "      <th></th>\n",
       "      <th>Location</th>\n",
       "      <th>Month</th>\n",
       "      <th>Year</th>\n",
       "      <th>Season</th>\n",
       "    </tr>\n",
       "  </thead>\n",
       "  <tbody>\n",
       "    <tr>\n",
       "      <th>0</th>\n",
       "      <td>Disney's Hollywood Studios, Orlando Florida</td>\n",
       "      <td>10</td>\n",
       "      <td>2019</td>\n",
       "      <td>Fall</td>\n",
       "    </tr>\n",
       "    <tr>\n",
       "      <th>1</th>\n",
       "      <td>Las Vegas, Nevada</td>\n",
       "      <td>10</td>\n",
       "      <td>2019</td>\n",
       "      <td>Fall</td>\n",
       "    </tr>\n",
       "    <tr>\n",
       "      <th>2</th>\n",
       "      <td>Index, Washington</td>\n",
       "      <td>10</td>\n",
       "      <td>2019</td>\n",
       "      <td>Fall</td>\n",
       "    </tr>\n",
       "    <tr>\n",
       "      <th>3</th>\n",
       "      <td>Delicate Arch, Arches National Park</td>\n",
       "      <td>10</td>\n",
       "      <td>2019</td>\n",
       "      <td>Fall</td>\n",
       "    </tr>\n",
       "    <tr>\n",
       "      <th>4</th>\n",
       "      <td>Golden Gate Bridge</td>\n",
       "      <td>10</td>\n",
       "      <td>2019</td>\n",
       "      <td>Fall</td>\n",
       "    </tr>\n",
       "    <tr>\n",
       "      <th>5</th>\n",
       "      <td>New Orleans, Louisiana</td>\n",
       "      <td>08</td>\n",
       "      <td>2019</td>\n",
       "      <td>Summer</td>\n",
       "    </tr>\n",
       "    <tr>\n",
       "      <th>6</th>\n",
       "      <td>Seven Magic Mountains, Nevada</td>\n",
       "      <td>10</td>\n",
       "      <td>2019</td>\n",
       "      <td>Fall</td>\n",
       "    </tr>\n",
       "    <tr>\n",
       "      <th>7</th>\n",
       "      <td>Monument Valley</td>\n",
       "      <td>10</td>\n",
       "      <td>2019</td>\n",
       "      <td>Fall</td>\n",
       "    </tr>\n",
       "    <tr>\n",
       "      <th>8</th>\n",
       "      <td>The Lodge on Route 66</td>\n",
       "      <td>09</td>\n",
       "      <td>2019</td>\n",
       "      <td>Fall</td>\n",
       "    </tr>\n",
       "    <tr>\n",
       "      <th>9</th>\n",
       "      <td>Chesapeake, Virginia</td>\n",
       "      <td>10</td>\n",
       "      <td>2019</td>\n",
       "      <td>Fall</td>\n",
       "    </tr>\n",
       "  </tbody>\n",
       "</table>\n",
       "</div>"
      ],
      "text/plain": [
       "                                      Location Month  Year  Season\n",
       "0  Disney's Hollywood Studios, Orlando Florida    10  2019    Fall\n",
       "1                            Las Vegas, Nevada    10  2019    Fall\n",
       "2                            Index, Washington    10  2019    Fall\n",
       "3          Delicate Arch, Arches National Park    10  2019    Fall\n",
       "4                           Golden Gate Bridge    10  2019    Fall\n",
       "5                       New Orleans, Louisiana    08  2019  Summer\n",
       "6                Seven Magic Mountains, Nevada    10  2019    Fall\n",
       "7                              Monument Valley    10  2019    Fall\n",
       "8                        The Lodge on Route 66    09  2019    Fall\n",
       "9                         Chesapeake, Virginia    10  2019    Fall"
      ]
     },
     "execution_count": 88,
     "metadata": {},
     "output_type": "execute_result"
    }
   ],
   "source": [
    "Data = Data.drop(['Date'],axis =1)\n",
    "Data.head(10)"
   ]
  },
  {
   "cell_type": "code",
   "execution_count": 91,
   "metadata": {},
   "outputs": [],
   "source": [
    "# Export as csv file\n",
    "Data.to_csv('IG_clean.csv', index = False)"
   ]
  }
 ],
 "metadata": {
  "kernelspec": {
   "display_name": "Python 3",
   "language": "python",
   "name": "python3"
  },
  "language_info": {
   "codemirror_mode": {
    "name": "ipython",
    "version": 3
   },
   "file_extension": ".py",
   "mimetype": "text/x-python",
   "name": "python",
   "nbconvert_exporter": "python",
   "pygments_lexer": "ipython3",
   "version": "3.6.5"
  }
 },
 "nbformat": 4,
 "nbformat_minor": 2
}
