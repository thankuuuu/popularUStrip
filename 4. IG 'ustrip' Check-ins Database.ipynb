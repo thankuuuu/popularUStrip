{
 "cells": [
  {
   "cell_type": "markdown",
   "metadata": {},
   "source": [
    "<b>\n",
    "\n",
    "<p>\n",
    "<center>\n",
    "<font size=\"6\">\n",
    "Data Mining Project 2\n",
    "</font>\n",
    "</center>\n",
    "</p>\n",
    "\n",
    "<p>\n",
    "<center>\n",
    "<font size=\"5\">\n",
    "Instagram \"ustrip\" Check-ins Databease \n",
    "</font>\n",
    "</center>\n",
    "</p>\n",
    "\n",
    "<p>\n",
    "<center>\n",
    "<font size=\"3\">\n",
    "Data Mining, Columbian College of Arts & Sciences, George Washington University\n",
    "</font>\n",
    "</center>\n",
    "</p>\n",
    "\n",
    "<p>\n",
    "<center>\n",
    "<font size=\"3\">\n",
    "Author: Voratham Tiabrat\n",
    "</font>\n",
    "</center>\n",
    "</p>\n",
    "\n",
    "</b>"
   ]
  },
  {
   "cell_type": "markdown",
   "metadata": {},
   "source": [
    "# Part 4 : Instagram 'ustrip' Check-ins Database\n",
    "\n",
    "##  4.1 Preparing Data"
   ]
  },
  {
   "cell_type": "code",
   "execution_count": 1,
   "metadata": {},
   "outputs": [
    {
     "name": "stdout",
     "output_type": "stream",
     "text": [
      "4.1.1\n"
     ]
    }
   ],
   "source": [
    "import pandas as pd \n",
    "import numpy as np\n",
    "from gmplot import gmplot\n",
    "from matplotlib import pyplot as plt \n",
    "from geopy.geocoders import Nominatim\n",
    "import plotly\n",
    "import chart_studio.plotly as py\n",
    "import plotly.graph_objects as go\n",
    "py.sign_in('thankuuuu', 'KEwJDOVZyb6iwoblLuQO')\n",
    "print(plotly.__version__)"
   ]
  },
  {
   "cell_type": "code",
   "execution_count": 2,
   "metadata": {},
   "outputs": [
    {
     "data": {
      "text/html": [
       "<div>\n",
       "<style scoped>\n",
       "    .dataframe tbody tr th:only-of-type {\n",
       "        vertical-align: middle;\n",
       "    }\n",
       "\n",
       "    .dataframe tbody tr th {\n",
       "        vertical-align: top;\n",
       "    }\n",
       "\n",
       "    .dataframe thead th {\n",
       "        text-align: right;\n",
       "    }\n",
       "</style>\n",
       "<table border=\"1\" class=\"dataframe\">\n",
       "  <thead>\n",
       "    <tr style=\"text-align: right;\">\n",
       "      <th></th>\n",
       "      <th>Location</th>\n",
       "      <th>Month</th>\n",
       "      <th>Year</th>\n",
       "      <th>Season</th>\n",
       "      <th>Address</th>\n",
       "      <th>Latitude</th>\n",
       "      <th>Longitude</th>\n",
       "    </tr>\n",
       "  </thead>\n",
       "  <tbody>\n",
       "    <tr>\n",
       "      <th>0</th>\n",
       "      <td>Las Vegas, Nevada</td>\n",
       "      <td>10</td>\n",
       "      <td>2019</td>\n",
       "      <td>Fall</td>\n",
       "      <td>Las Vegas, Clark County, Nevada, United States</td>\n",
       "      <td>36.166286</td>\n",
       "      <td>-115.149225</td>\n",
       "    </tr>\n",
       "    <tr>\n",
       "      <th>1</th>\n",
       "      <td>Index, Washington</td>\n",
       "      <td>10</td>\n",
       "      <td>2019</td>\n",
       "      <td>Fall</td>\n",
       "      <td>Index, Snohomish County, Washington, United St...</td>\n",
       "      <td>47.820831</td>\n",
       "      <td>-121.553891</td>\n",
       "    </tr>\n",
       "    <tr>\n",
       "      <th>2</th>\n",
       "      <td>Golden Gate Bridge</td>\n",
       "      <td>10</td>\n",
       "      <td>2019</td>\n",
       "      <td>Fall</td>\n",
       "      <td>Golden Gate Bridge, Redwood Highway, Waldo, Ma...</td>\n",
       "      <td>37.817616</td>\n",
       "      <td>-122.478312</td>\n",
       "    </tr>\n",
       "    <tr>\n",
       "      <th>3</th>\n",
       "      <td>New Orleans, Louisiana</td>\n",
       "      <td>8</td>\n",
       "      <td>2019</td>\n",
       "      <td>Summer</td>\n",
       "      <td>New Orleans, Orleans Parish, Louisiana, United...</td>\n",
       "      <td>29.949932</td>\n",
       "      <td>-90.070116</td>\n",
       "    </tr>\n",
       "    <tr>\n",
       "      <th>4</th>\n",
       "      <td>Seven Magic Mountains, Nevada</td>\n",
       "      <td>10</td>\n",
       "      <td>2019</td>\n",
       "      <td>Fall</td>\n",
       "      <td>Seven Magic Mountains, South Las Vegas Bouleva...</td>\n",
       "      <td>35.838291</td>\n",
       "      <td>-115.270879</td>\n",
       "    </tr>\n",
       "  </tbody>\n",
       "</table>\n",
       "</div>"
      ],
      "text/plain": [
       "                        Location  Month  Year  Season  \\\n",
       "0              Las Vegas, Nevada     10  2019    Fall   \n",
       "1              Index, Washington     10  2019    Fall   \n",
       "2             Golden Gate Bridge     10  2019    Fall   \n",
       "3         New Orleans, Louisiana      8  2019  Summer   \n",
       "4  Seven Magic Mountains, Nevada     10  2019    Fall   \n",
       "\n",
       "                                             Address   Latitude   Longitude  \n",
       "0     Las Vegas, Clark County, Nevada, United States  36.166286 -115.149225  \n",
       "1  Index, Snohomish County, Washington, United St...  47.820831 -121.553891  \n",
       "2  Golden Gate Bridge, Redwood Highway, Waldo, Ma...  37.817616 -122.478312  \n",
       "3  New Orleans, Orleans Parish, Louisiana, United...  29.949932  -90.070116  \n",
       "4  Seven Magic Mountains, South Las Vegas Bouleva...  35.838291 -115.270879  "
      ]
     },
     "execution_count": 2,
     "metadata": {},
     "output_type": "execute_result"
    }
   ],
   "source": [
    "Data = pd.read_csv('Location.csv')\n",
    "Data.head()"
   ]
  },
  {
   "cell_type": "code",
   "execution_count": 3,
   "metadata": {},
   "outputs": [
    {
     "data": {
      "text/plain": [
       "(41686, 7)"
      ]
     },
     "execution_count": 3,
     "metadata": {},
     "output_type": "execute_result"
    }
   ],
   "source": [
    "Data.shape"
   ]
  },
  {
   "cell_type": "code",
   "execution_count": 4,
   "metadata": {},
   "outputs": [
    {
     "data": {
      "text/html": [
       "<div>\n",
       "<style scoped>\n",
       "    .dataframe tbody tr th:only-of-type {\n",
       "        vertical-align: middle;\n",
       "    }\n",
       "\n",
       "    .dataframe tbody tr th {\n",
       "        vertical-align: top;\n",
       "    }\n",
       "\n",
       "    .dataframe thead th {\n",
       "        text-align: right;\n",
       "    }\n",
       "</style>\n",
       "<table border=\"1\" class=\"dataframe\">\n",
       "  <thead>\n",
       "    <tr style=\"text-align: right;\">\n",
       "      <th></th>\n",
       "      <th>Location</th>\n",
       "      <th>Month</th>\n",
       "      <th>Year</th>\n",
       "      <th>Season</th>\n",
       "      <th>Address</th>\n",
       "      <th>Latitude</th>\n",
       "      <th>Longitude</th>\n",
       "      <th>Date</th>\n",
       "    </tr>\n",
       "  </thead>\n",
       "  <tbody>\n",
       "    <tr>\n",
       "      <th>0</th>\n",
       "      <td>Las Vegas, Nevada</td>\n",
       "      <td>10</td>\n",
       "      <td>2019</td>\n",
       "      <td>Fall</td>\n",
       "      <td>Las Vegas, Clark County, Nevada, United States</td>\n",
       "      <td>36.166286</td>\n",
       "      <td>-115.149225</td>\n",
       "      <td>2019/10</td>\n",
       "    </tr>\n",
       "    <tr>\n",
       "      <th>1</th>\n",
       "      <td>Index, Washington</td>\n",
       "      <td>10</td>\n",
       "      <td>2019</td>\n",
       "      <td>Fall</td>\n",
       "      <td>Index, Snohomish County, Washington, United St...</td>\n",
       "      <td>47.820831</td>\n",
       "      <td>-121.553891</td>\n",
       "      <td>2019/10</td>\n",
       "    </tr>\n",
       "    <tr>\n",
       "      <th>2</th>\n",
       "      <td>Golden Gate Bridge</td>\n",
       "      <td>10</td>\n",
       "      <td>2019</td>\n",
       "      <td>Fall</td>\n",
       "      <td>Golden Gate Bridge, Redwood Highway, Waldo, Ma...</td>\n",
       "      <td>37.817616</td>\n",
       "      <td>-122.478312</td>\n",
       "      <td>2019/10</td>\n",
       "    </tr>\n",
       "    <tr>\n",
       "      <th>3</th>\n",
       "      <td>New Orleans, Louisiana</td>\n",
       "      <td>08</td>\n",
       "      <td>2019</td>\n",
       "      <td>Summer</td>\n",
       "      <td>New Orleans, Orleans Parish, Louisiana, United...</td>\n",
       "      <td>29.949932</td>\n",
       "      <td>-90.070116</td>\n",
       "      <td>2019/08</td>\n",
       "    </tr>\n",
       "    <tr>\n",
       "      <th>4</th>\n",
       "      <td>Seven Magic Mountains, Nevada</td>\n",
       "      <td>10</td>\n",
       "      <td>2019</td>\n",
       "      <td>Fall</td>\n",
       "      <td>Seven Magic Mountains, South Las Vegas Bouleva...</td>\n",
       "      <td>35.838291</td>\n",
       "      <td>-115.270879</td>\n",
       "      <td>2019/10</td>\n",
       "    </tr>\n",
       "  </tbody>\n",
       "</table>\n",
       "</div>"
      ],
      "text/plain": [
       "                        Location Month  Year  Season  \\\n",
       "0              Las Vegas, Nevada    10  2019    Fall   \n",
       "1              Index, Washington    10  2019    Fall   \n",
       "2             Golden Gate Bridge    10  2019    Fall   \n",
       "3         New Orleans, Louisiana    08  2019  Summer   \n",
       "4  Seven Magic Mountains, Nevada    10  2019    Fall   \n",
       "\n",
       "                                             Address   Latitude   Longitude  \\\n",
       "0     Las Vegas, Clark County, Nevada, United States  36.166286 -115.149225   \n",
       "1  Index, Snohomish County, Washington, United St...  47.820831 -121.553891   \n",
       "2  Golden Gate Bridge, Redwood Highway, Waldo, Ma...  37.817616 -122.478312   \n",
       "3  New Orleans, Orleans Parish, Louisiana, United...  29.949932  -90.070116   \n",
       "4  Seven Magic Mountains, South Las Vegas Bouleva...  35.838291 -115.270879   \n",
       "\n",
       "      Date  \n",
       "0  2019/10  \n",
       "1  2019/10  \n",
       "2  2019/10  \n",
       "3  2019/08  \n",
       "4  2019/10  "
      ]
     },
     "execution_count": 4,
     "metadata": {},
     "output_type": "execute_result"
    }
   ],
   "source": [
    "for i in range (len(Data.index)) :\n",
    "    if Data.loc[i,'Month'] in [1,2,3,4,5,6,7,8,9] :\n",
    "        Data.loc[i,'Month'] =  '0'+str(Data.loc[i,'Month'])\n",
    "        \n",
    "Data['Date']  = Data.Year.astype(str).str.cat(Data.Month.astype(str), sep='/')\n",
    "Data.head()"
   ]
  },
  {
   "cell_type": "code",
   "execution_count": 5,
   "metadata": {},
   "outputs": [
    {
     "data": {
      "text/html": [
       "<div>\n",
       "<style scoped>\n",
       "    .dataframe tbody tr th:only-of-type {\n",
       "        vertical-align: middle;\n",
       "    }\n",
       "\n",
       "    .dataframe tbody tr th {\n",
       "        vertical-align: top;\n",
       "    }\n",
       "\n",
       "    .dataframe thead th {\n",
       "        text-align: right;\n",
       "    }\n",
       "</style>\n",
       "<table border=\"1\" class=\"dataframe\">\n",
       "  <thead>\n",
       "    <tr style=\"text-align: right;\">\n",
       "      <th></th>\n",
       "      <th>Month</th>\n",
       "      <th>Year</th>\n",
       "      <th>Season</th>\n",
       "      <th>Latitude</th>\n",
       "      <th>Longitude</th>\n",
       "      <th>Date</th>\n",
       "    </tr>\n",
       "    <tr>\n",
       "      <th>Address</th>\n",
       "      <th></th>\n",
       "      <th></th>\n",
       "      <th></th>\n",
       "      <th></th>\n",
       "      <th></th>\n",
       "      <th></th>\n",
       "    </tr>\n",
       "  </thead>\n",
       "  <tbody>\n",
       "    <tr>\n",
       "      <th>Las Vegas, Clark County, Nevada, United States</th>\n",
       "      <td>10</td>\n",
       "      <td>2019</td>\n",
       "      <td>Fall</td>\n",
       "      <td>36.166286</td>\n",
       "      <td>-115.149225</td>\n",
       "      <td>2019/10</td>\n",
       "    </tr>\n",
       "    <tr>\n",
       "      <th>Index, Snohomish County, Washington, United States</th>\n",
       "      <td>10</td>\n",
       "      <td>2019</td>\n",
       "      <td>Fall</td>\n",
       "      <td>47.820831</td>\n",
       "      <td>-121.553891</td>\n",
       "      <td>2019/10</td>\n",
       "    </tr>\n",
       "    <tr>\n",
       "      <th>Golden Gate Bridge, Redwood Highway, Waldo, Marin County, California, 94965, United States of America</th>\n",
       "      <td>10</td>\n",
       "      <td>2019</td>\n",
       "      <td>Fall</td>\n",
       "      <td>37.817616</td>\n",
       "      <td>-122.478312</td>\n",
       "      <td>2019/10</td>\n",
       "    </tr>\n",
       "    <tr>\n",
       "      <th>New Orleans, Orleans Parish, Louisiana, United States</th>\n",
       "      <td>08</td>\n",
       "      <td>2019</td>\n",
       "      <td>Summer</td>\n",
       "      <td>29.949932</td>\n",
       "      <td>-90.070116</td>\n",
       "      <td>2019/08</td>\n",
       "    </tr>\n",
       "    <tr>\n",
       "      <th>Seven Magic Mountains, South Las Vegas Boulevard, Enterprise, Henderson, Clark County, Nevada, 89026, United States of America</th>\n",
       "      <td>10</td>\n",
       "      <td>2019</td>\n",
       "      <td>Fall</td>\n",
       "      <td>35.838291</td>\n",
       "      <td>-115.270879</td>\n",
       "      <td>2019/10</td>\n",
       "    </tr>\n",
       "  </tbody>\n",
       "</table>\n",
       "</div>"
      ],
      "text/plain": [
       "                                                   Month  Year  Season  \\\n",
       "Address                                                                  \n",
       "Las Vegas, Clark County, Nevada, United States        10  2019    Fall   \n",
       "Index, Snohomish County, Washington, United States    10  2019    Fall   \n",
       "Golden Gate Bridge, Redwood Highway, Waldo, Mar...    10  2019    Fall   \n",
       "New Orleans, Orleans Parish, Louisiana, United ...    08  2019  Summer   \n",
       "Seven Magic Mountains, South Las Vegas Boulevar...    10  2019    Fall   \n",
       "\n",
       "                                                     Latitude   Longitude  \\\n",
       "Address                                                                     \n",
       "Las Vegas, Clark County, Nevada, United States      36.166286 -115.149225   \n",
       "Index, Snohomish County, Washington, United States  47.820831 -121.553891   \n",
       "Golden Gate Bridge, Redwood Highway, Waldo, Mar...  37.817616 -122.478312   \n",
       "New Orleans, Orleans Parish, Louisiana, United ...  29.949932  -90.070116   \n",
       "Seven Magic Mountains, South Las Vegas Boulevar...  35.838291 -115.270879   \n",
       "\n",
       "                                                       Date  \n",
       "Address                                                      \n",
       "Las Vegas, Clark County, Nevada, United States      2019/10  \n",
       "Index, Snohomish County, Washington, United States  2019/10  \n",
       "Golden Gate Bridge, Redwood Highway, Waldo, Mar...  2019/10  \n",
       "New Orleans, Orleans Parish, Louisiana, United ...  2019/08  \n",
       "Seven Magic Mountains, South Las Vegas Boulevar...  2019/10  "
      ]
     },
     "execution_count": 5,
     "metadata": {},
     "output_type": "execute_result"
    }
   ],
   "source": [
    "Data = Data.drop(['Location'],axis =1)\n",
    "Data = Data.set_index('Address')\n",
    "Data.head()"
   ]
  },
  {
   "cell_type": "code",
   "execution_count": 6,
   "metadata": {},
   "outputs": [
    {
     "data": {
      "text/html": [
       "<div>\n",
       "<style scoped>\n",
       "    .dataframe tbody tr th:only-of-type {\n",
       "        vertical-align: middle;\n",
       "    }\n",
       "\n",
       "    .dataframe tbody tr th {\n",
       "        vertical-align: top;\n",
       "    }\n",
       "\n",
       "    .dataframe thead th {\n",
       "        text-align: right;\n",
       "    }\n",
       "</style>\n",
       "<table border=\"1\" class=\"dataframe\">\n",
       "  <thead>\n",
       "    <tr style=\"text-align: right;\">\n",
       "      <th></th>\n",
       "      <th>state</th>\n",
       "      <th>abbreviation</th>\n",
       "    </tr>\n",
       "  </thead>\n",
       "  <tbody>\n",
       "    <tr>\n",
       "      <th>0</th>\n",
       "      <td>Alabama</td>\n",
       "      <td>AL</td>\n",
       "    </tr>\n",
       "    <tr>\n",
       "      <th>1</th>\n",
       "      <td>Alaska</td>\n",
       "      <td>AK</td>\n",
       "    </tr>\n",
       "    <tr>\n",
       "      <th>2</th>\n",
       "      <td>Arizona</td>\n",
       "      <td>AZ</td>\n",
       "    </tr>\n",
       "    <tr>\n",
       "      <th>3</th>\n",
       "      <td>Arkansas</td>\n",
       "      <td>AR</td>\n",
       "    </tr>\n",
       "    <tr>\n",
       "      <th>4</th>\n",
       "      <td>California</td>\n",
       "      <td>CA</td>\n",
       "    </tr>\n",
       "  </tbody>\n",
       "</table>\n",
       "</div>"
      ],
      "text/plain": [
       "        state abbreviation\n",
       "0     Alabama           AL\n",
       "1      Alaska           AK\n",
       "2     Arizona           AZ\n",
       "3    Arkansas           AR\n",
       "4  California           CA"
      ]
     },
     "execution_count": 6,
     "metadata": {},
     "output_type": "execute_result"
    }
   ],
   "source": [
    "statesheet = pd.read_csv('state-abbrevs.csv')\n",
    "statelist = statesheet['state'].tolist()\n",
    "statecode = statesheet['abbreviation'].tolist()\n",
    "statesheet.head()"
   ]
  },
  {
   "cell_type": "code",
   "execution_count": 7,
   "metadata": {},
   "outputs": [],
   "source": [
    "#Extracting state from address and adding state code\n",
    "for address in Data.index:\n",
    "    for i in range (len(statelist)) :\n",
    "        if statelist[i] in address :\n",
    "            Data.loc[address,'State'] = statelist[i]\n",
    "            Data.loc[address,'Code'] = statecode[i]"
   ]
  },
  {
   "cell_type": "code",
   "execution_count": 8,
   "metadata": {},
   "outputs": [
    {
     "data": {
      "text/plain": [
       "(38526, 8)"
      ]
     },
     "execution_count": 8,
     "metadata": {},
     "output_type": "execute_result"
    }
   ],
   "source": [
    "Data = Data.dropna()\n",
    "Data.shape"
   ]
  },
  {
   "cell_type": "code",
   "execution_count": 9,
   "metadata": {
    "scrolled": true
   },
   "outputs": [
    {
     "data": {
      "text/plain": [
       "Year\n",
       "2011        3\n",
       "2012       86\n",
       "2013      218\n",
       "2014      990\n",
       "2015     3070\n",
       "2016     5853\n",
       "2017     9019\n",
       "2018    10700\n",
       "2019     8587\n",
       "dtype: int64"
      ]
     },
     "execution_count": 9,
     "metadata": {},
     "output_type": "execute_result"
    }
   ],
   "source": [
    "#See how many posts for each year\n",
    "Data_group = Data.groupby(['Year'])\n",
    "Data_size = Data_group.size()\n",
    "Data_size"
   ]
  },
  {
   "cell_type": "code",
   "execution_count": 10,
   "metadata": {},
   "outputs": [],
   "source": [
    "#Subsetting each year\n",
    "#Focusing on 2016-1019\n",
    "Data_2016 = Data.loc[(Data.Year == 2016),]\n",
    "Data_2017 = Data.loc[(Data.Year == 2017),]\n",
    "Data_2018 = Data.loc[(Data.Year == 2018),]\n",
    "Data_2019 = Data.loc[(Data.Year == 2019),]"
   ]
  },
  {
   "cell_type": "code",
   "execution_count": 11,
   "metadata": {},
   "outputs": [
    {
     "data": {
      "text/plain": [
       "(34159, 8)"
      ]
     },
     "execution_count": 11,
     "metadata": {},
     "output_type": "execute_result"
    }
   ],
   "source": [
    "Data = pd.concat([Data_2016,Data_2017,Data_2018,Data_2019])\n",
    "Data.shape"
   ]
  },
  {
   "cell_type": "code",
   "execution_count": 12,
   "metadata": {},
   "outputs": [],
   "source": [
    "#Subsetting each month\n",
    "Data_01 = Data.loc[(Data.Month == '01'),]\n",
    "Data_02 = Data.loc[(Data.Month == '02'),]\n",
    "Data_03 = Data.loc[(Data.Month == '03'),]\n",
    "Data_04 = Data.loc[(Data.Month == '04'),]\n",
    "Data_05 = Data.loc[(Data.Month == '05'),]\n",
    "Data_06 = Data.loc[(Data.Month == '06'),]\n",
    "Data_07 = Data.loc[(Data.Month == '07'),]\n",
    "Data_08 = Data.loc[(Data.Month == '08'),]\n",
    "Data_09 = Data.loc[(Data.Month == '09'),]\n",
    "Data_10 = Data.loc[(Data.Month == '10'),]\n",
    "Data_11 = Data.loc[(Data.Month == '11'),]\n",
    "Data_12 = Data.loc[(Data.Month == '12'),]"
   ]
  },
  {
   "cell_type": "code",
   "execution_count": 13,
   "metadata": {},
   "outputs": [],
   "source": [
    "#Subsetting each season\n",
    "Spring = Data.loc[(Data.Season == 'Spring'),]\n",
    "Summer = Data.loc[(Data.Season == 'Summer'),]\n",
    "Fall = Data.loc[(Data.Season == 'Fall'),]\n",
    "Winter = Data.loc[(Data.Season == 'Winter'),]"
   ]
  },
  {
   "cell_type": "code",
   "execution_count": 14,
   "metadata": {},
   "outputs": [],
   "source": [
    "#Total Data\n",
    "Data_grouped1 = Data.groupby(['Code'])\n",
    "Data_grouped1_sum = Data_grouped1.size()\n",
    "Data_grouped1_sum = Data_grouped1_sum.to_frame()\n",
    "Data_grouped1_sum.columns = ['TOTAL']"
   ]
  },
  {
   "cell_type": "code",
   "execution_count": 15,
   "metadata": {},
   "outputs": [],
   "source": [
    "#Each Season Data\n",
    "Data_grouped2 = Spring.groupby(['Code'])\n",
    "Data_grouped2_sum = Data_grouped2.size()\n",
    "Data_grouped2_sum = Data_grouped2_sum.to_frame()\n",
    "Data_grouped2_sum.columns = ['SPRING']\n",
    "\n",
    "Data_grouped3 = Summer.groupby(['Code'])\n",
    "Data_grouped3_sum = Data_grouped3.size()\n",
    "Data_grouped3_sum = Data_grouped3_sum.to_frame()\n",
    "Data_grouped3_sum.columns = ['SUMMER']\n",
    "\n",
    "Data_grouped3 = Fall.groupby(['Code'])\n",
    "Data_grouped3_sum = Data_grouped3.size()\n",
    "Data_grouped3_sum = Data_grouped3_sum.to_frame()\n",
    "Data_grouped3_sum.columns = ['FALL']\n",
    "\n",
    "Data_grouped4 = Winter.groupby(['Code'])\n",
    "Data_grouped4_sum = Data_grouped4.size()\n",
    "Data_grouped4_sum = Data_grouped4_sum.to_frame()\n",
    "Data_grouped4_sum.columns = ['WINTER']\n",
    "\n",
    "Data_grouped_sum1 = pd.concat([Data_grouped2_sum,Data_grouped3_sum,Data_grouped4_sum], axis=1,sort=False)"
   ]
  },
  {
   "cell_type": "code",
   "execution_count": 16,
   "metadata": {},
   "outputs": [],
   "source": [
    "#Each Year Data\n",
    "Data_grouped5 = Data_2016.groupby(['Code'])\n",
    "Data_grouped5_sum = Data_grouped5.size()\n",
    "Data_grouped5_sum = Data_grouped5_sum.to_frame()\n",
    "Data_grouped5_sum.columns = ['2016']\n",
    "\n",
    "Data_grouped6 = Data_2017.groupby(['Code'])\n",
    "Data_grouped6_sum = Data_grouped6.size()\n",
    "Data_grouped6_sum = Data_grouped6_sum.to_frame()\n",
    "Data_grouped6_sum.columns = ['2017']\n",
    "\n",
    "Data_grouped7 = Data_2018.groupby(['Code'])\n",
    "Data_grouped7_sum = Data_grouped7.size()\n",
    "Data_grouped7_sum = Data_grouped7_sum.to_frame()\n",
    "Data_grouped7_sum.columns = ['2018']\n",
    "\n",
    "Data_grouped8 = Data_2019.groupby(['Code'])\n",
    "Data_grouped8_sum = Data_grouped8.size()\n",
    "Data_grouped8_sum = Data_grouped8_sum.to_frame()\n",
    "Data_grouped8_sum.columns = ['2019']\n",
    "\n",
    "Data_grouped_sum2 = pd.concat([Data_grouped5_sum,Data_grouped6_sum,Data_grouped7_sum,Data_grouped8_sum], axis=1,sort=False)"
   ]
  },
  {
   "cell_type": "code",
   "execution_count": 17,
   "metadata": {},
   "outputs": [],
   "source": [
    "#Each Year Month\n",
    "Data_grouped9 = Data_01.groupby(['Code'])\n",
    "Data_grouped9_sum = Data_grouped9.size()\n",
    "Data_grouped9_sum = Data_grouped9_sum.to_frame()\n",
    "Data_grouped9_sum.columns = ['JAN']\n",
    "\n",
    "Data_grouped10 = Data_02.groupby(['Code'])\n",
    "Data_grouped10_sum = Data_grouped10.size()\n",
    "Data_grouped10_sum = Data_grouped10_sum.to_frame()\n",
    "Data_grouped10_sum.columns = ['FEB']\n",
    "\n",
    "Data_grouped11 = Data_03.groupby(['Code'])\n",
    "Data_grouped11_sum = Data_grouped11.size()\n",
    "Data_grouped11_sum = Data_grouped11_sum.to_frame()\n",
    "Data_grouped11_sum.columns = ['MAR']\n",
    "\n",
    "Data_grouped12 = Data_04.groupby(['Code'])\n",
    "Data_grouped12_sum = Data_grouped12.size()\n",
    "Data_grouped12_sum = Data_grouped12_sum.to_frame()\n",
    "Data_grouped12_sum.columns = ['APR']\n",
    "\n",
    "Data_grouped13 = Data_05.groupby(['Code'])\n",
    "Data_grouped13_sum = Data_grouped13.size()\n",
    "Data_grouped13_sum = Data_grouped13_sum.to_frame()\n",
    "Data_grouped13_sum.columns = ['MAY']\n",
    "\n",
    "Data_grouped14 = Data_06.groupby(['Code'])\n",
    "Data_grouped14_sum = Data_grouped14.size()\n",
    "Data_grouped14_sum = Data_grouped14_sum.to_frame()\n",
    "Data_grouped14_sum.columns = ['JUN']\n",
    "\n",
    "Data_grouped15 = Data_07.groupby(['Code'])\n",
    "Data_grouped15_sum = Data_grouped15.size()\n",
    "Data_grouped15_sum = Data_grouped15_sum.to_frame()\n",
    "Data_grouped15_sum.columns = ['JUL']\n",
    "\n",
    "Data_grouped16 = Data_08.groupby(['Code'])\n",
    "Data_grouped16_sum = Data_grouped16.size()\n",
    "Data_grouped16_sum = Data_grouped16_sum.to_frame()\n",
    "Data_grouped16_sum.columns = ['AUG']\n",
    "\n",
    "Data_grouped17 = Data_09.groupby(['Code'])\n",
    "Data_grouped17_sum = Data_grouped17.size()\n",
    "Data_grouped17_sum = Data_grouped17_sum.to_frame()\n",
    "Data_grouped17_sum.columns = ['SEP']\n",
    "\n",
    "Data_grouped18 = Data_10.groupby(['Code'])\n",
    "Data_grouped18_sum = Data_grouped18.size()\n",
    "Data_grouped18_sum = Data_grouped18_sum.to_frame()\n",
    "Data_grouped18_sum.columns = ['OCT']\n",
    "\n",
    "Data_grouped19 = Data_11.groupby(['Code'])\n",
    "Data_grouped19_sum = Data_grouped19.size()\n",
    "Data_grouped19_sum = Data_grouped19_sum.to_frame()\n",
    "Data_grouped19_sum.columns = ['NOV']\n",
    "\n",
    "Data_grouped20 = Data_12.groupby(['Code'])\n",
    "Data_grouped20_sum = Data_grouped20.size()\n",
    "Data_grouped20_sum = Data_grouped20_sum.to_frame()\n",
    "Data_grouped20_sum.columns = ['DEC']\n",
    "\n",
    "\n",
    "Data_grouped_sum3 = pd.concat([Data_grouped9_sum,Data_grouped10_sum,Data_grouped11_sum,Data_grouped12_sum,Data_grouped13_sum,Data_grouped14_sum,Data_grouped15_sum,Data_grouped16_sum,Data_grouped17_sum,Data_grouped18_sum,Data_grouped19_sum,Data_grouped20_sum], axis=1,sort=False)"
   ]
  },
  {
   "cell_type": "code",
   "execution_count": 18,
   "metadata": {},
   "outputs": [
    {
     "data": {
      "text/html": [
       "<div>\n",
       "<style scoped>\n",
       "    .dataframe tbody tr th:only-of-type {\n",
       "        vertical-align: middle;\n",
       "    }\n",
       "\n",
       "    .dataframe tbody tr th {\n",
       "        vertical-align: top;\n",
       "    }\n",
       "\n",
       "    .dataframe thead th {\n",
       "        text-align: right;\n",
       "    }\n",
       "</style>\n",
       "<table border=\"1\" class=\"dataframe\">\n",
       "  <thead>\n",
       "    <tr style=\"text-align: right;\">\n",
       "      <th></th>\n",
       "      <th>Code</th>\n",
       "      <th>TOTAL</th>\n",
       "      <th>SPRING</th>\n",
       "      <th>FALL</th>\n",
       "      <th>WINTER</th>\n",
       "      <th>2016</th>\n",
       "      <th>2017</th>\n",
       "      <th>2018</th>\n",
       "      <th>2019</th>\n",
       "      <th>JAN</th>\n",
       "      <th>...</th>\n",
       "      <th>MAR</th>\n",
       "      <th>APR</th>\n",
       "      <th>MAY</th>\n",
       "      <th>JUN</th>\n",
       "      <th>JUL</th>\n",
       "      <th>AUG</th>\n",
       "      <th>SEP</th>\n",
       "      <th>OCT</th>\n",
       "      <th>NOV</th>\n",
       "      <th>DEC</th>\n",
       "    </tr>\n",
       "  </thead>\n",
       "  <tbody>\n",
       "    <tr>\n",
       "      <th>0</th>\n",
       "      <td>AK</td>\n",
       "      <td>45</td>\n",
       "      <td>8</td>\n",
       "      <td>5</td>\n",
       "      <td>2.0</td>\n",
       "      <td>10.0</td>\n",
       "      <td>6.0</td>\n",
       "      <td>14</td>\n",
       "      <td>15.0</td>\n",
       "      <td>0.0</td>\n",
       "      <td>...</td>\n",
       "      <td>0.0</td>\n",
       "      <td>2.0</td>\n",
       "      <td>6.0</td>\n",
       "      <td>2.0</td>\n",
       "      <td>17.0</td>\n",
       "      <td>11</td>\n",
       "      <td>3.0</td>\n",
       "      <td>0.0</td>\n",
       "      <td>0.0</td>\n",
       "      <td>0.0</td>\n",
       "    </tr>\n",
       "    <tr>\n",
       "      <th>1</th>\n",
       "      <td>AL</td>\n",
       "      <td>53</td>\n",
       "      <td>13</td>\n",
       "      <td>1</td>\n",
       "      <td>11.0</td>\n",
       "      <td>10.0</td>\n",
       "      <td>10.0</td>\n",
       "      <td>14</td>\n",
       "      <td>19.0</td>\n",
       "      <td>1.0</td>\n",
       "      <td>...</td>\n",
       "      <td>4.0</td>\n",
       "      <td>1.0</td>\n",
       "      <td>8.0</td>\n",
       "      <td>5.0</td>\n",
       "      <td>9.0</td>\n",
       "      <td>14</td>\n",
       "      <td>0.0</td>\n",
       "      <td>0.0</td>\n",
       "      <td>0.0</td>\n",
       "      <td>0.0</td>\n",
       "    </tr>\n",
       "    <tr>\n",
       "      <th>2</th>\n",
       "      <td>AR</td>\n",
       "      <td>28</td>\n",
       "      <td>4</td>\n",
       "      <td>7</td>\n",
       "      <td>11.0</td>\n",
       "      <td>4.0</td>\n",
       "      <td>8.0</td>\n",
       "      <td>9</td>\n",
       "      <td>7.0</td>\n",
       "      <td>3.0</td>\n",
       "      <td>...</td>\n",
       "      <td>1.0</td>\n",
       "      <td>0.0</td>\n",
       "      <td>3.0</td>\n",
       "      <td>5.0</td>\n",
       "      <td>0.0</td>\n",
       "      <td>1</td>\n",
       "      <td>2.0</td>\n",
       "      <td>0.0</td>\n",
       "      <td>0.0</td>\n",
       "      <td>0.0</td>\n",
       "    </tr>\n",
       "    <tr>\n",
       "      <th>3</th>\n",
       "      <td>AZ</td>\n",
       "      <td>2436</td>\n",
       "      <td>647</td>\n",
       "      <td>780</td>\n",
       "      <td>353.0</td>\n",
       "      <td>338.0</td>\n",
       "      <td>559.0</td>\n",
       "      <td>719</td>\n",
       "      <td>820.0</td>\n",
       "      <td>94.0</td>\n",
       "      <td>...</td>\n",
       "      <td>210.0</td>\n",
       "      <td>183.0</td>\n",
       "      <td>254.0</td>\n",
       "      <td>160.0</td>\n",
       "      <td>225.0</td>\n",
       "      <td>271</td>\n",
       "      <td>351.0</td>\n",
       "      <td>0.0</td>\n",
       "      <td>0.0</td>\n",
       "      <td>0.0</td>\n",
       "    </tr>\n",
       "    <tr>\n",
       "      <th>4</th>\n",
       "      <td>CA</td>\n",
       "      <td>10393</td>\n",
       "      <td>2719</td>\n",
       "      <td>2878</td>\n",
       "      <td>1737.0</td>\n",
       "      <td>1744.0</td>\n",
       "      <td>2930.0</td>\n",
       "      <td>3334</td>\n",
       "      <td>2385.0</td>\n",
       "      <td>653.0</td>\n",
       "      <td>...</td>\n",
       "      <td>779.0</td>\n",
       "      <td>917.0</td>\n",
       "      <td>1023.0</td>\n",
       "      <td>959.0</td>\n",
       "      <td>981.0</td>\n",
       "      <td>1119</td>\n",
       "      <td>1109.0</td>\n",
       "      <td>0.0</td>\n",
       "      <td>0.0</td>\n",
       "      <td>0.0</td>\n",
       "    </tr>\n",
       "  </tbody>\n",
       "</table>\n",
       "<p>5 rows × 21 columns</p>\n",
       "</div>"
      ],
      "text/plain": [
       "  Code  TOTAL  SPRING  FALL  WINTER    2016    2017  2018    2019    JAN ...   \\\n",
       "0   AK     45       8     5     2.0    10.0     6.0    14    15.0    0.0 ...    \n",
       "1   AL     53      13     1    11.0    10.0    10.0    14    19.0    1.0 ...    \n",
       "2   AR     28       4     7    11.0     4.0     8.0     9     7.0    3.0 ...    \n",
       "3   AZ   2436     647   780   353.0   338.0   559.0   719   820.0   94.0 ...    \n",
       "4   CA  10393    2719  2878  1737.0  1744.0  2930.0  3334  2385.0  653.0 ...    \n",
       "\n",
       "     MAR    APR     MAY    JUN    JUL   AUG     SEP  OCT  NOV  DEC  \n",
       "0    0.0    2.0     6.0    2.0   17.0    11     3.0  0.0  0.0  0.0  \n",
       "1    4.0    1.0     8.0    5.0    9.0    14     0.0  0.0  0.0  0.0  \n",
       "2    1.0    0.0     3.0    5.0    0.0     1     2.0  0.0  0.0  0.0  \n",
       "3  210.0  183.0   254.0  160.0  225.0   271   351.0  0.0  0.0  0.0  \n",
       "4  779.0  917.0  1023.0  959.0  981.0  1119  1109.0  0.0  0.0  0.0  \n",
       "\n",
       "[5 rows x 21 columns]"
      ]
     },
     "execution_count": 18,
     "metadata": {},
     "output_type": "execute_result"
    }
   ],
   "source": [
    "Data_grouped_sum = pd.concat([Data_grouped1_sum,Data_grouped_sum1,Data_grouped_sum2,Data_grouped_sum3], axis=1,sort=False).fillna(0)\n",
    "Data_grouped_sum = Data_grouped_sum.reset_index()\n",
    "Data_grouped_sum = Data_grouped_sum.rename(columns={'index':'Code'})\n",
    "Data_grouped_sum.head()"
   ]
  },
  {
   "cell_type": "markdown",
   "metadata": {},
   "source": [
    "##  4.2 Preparing Data for Popular Place Check-ins "
   ]
  },
  {
   "cell_type": "code",
   "execution_count": 19,
   "metadata": {},
   "outputs": [],
   "source": [
    "Latitude = Data['Latitude'].tolist()\n",
    "Longitude = Data['Longitude'].tolist()\n",
    "Address = Data.index.tolist()"
   ]
  },
  {
   "cell_type": "markdown",
   "metadata": {},
   "source": [
    "### Preparing Data for Popular Place for All check-ins from 2016 to 2019 "
   ]
  },
  {
   "cell_type": "code",
   "execution_count": 20,
   "metadata": {
    "scrolled": true
   },
   "outputs": [
    {
     "data": {
      "text/html": [
       "<div>\n",
       "<style scoped>\n",
       "    .dataframe tbody tr th:only-of-type {\n",
       "        vertical-align: middle;\n",
       "    }\n",
       "\n",
       "    .dataframe tbody tr th {\n",
       "        vertical-align: top;\n",
       "    }\n",
       "\n",
       "    .dataframe thead th {\n",
       "        text-align: right;\n",
       "    }\n",
       "</style>\n",
       "<table border=\"1\" class=\"dataframe\">\n",
       "  <thead>\n",
       "    <tr style=\"text-align: right;\">\n",
       "      <th></th>\n",
       "      <th>Total</th>\n",
       "      <th>Latitude</th>\n",
       "      <th>Longitude</th>\n",
       "    </tr>\n",
       "    <tr>\n",
       "      <th>Address</th>\n",
       "      <th></th>\n",
       "      <th></th>\n",
       "      <th></th>\n",
       "    </tr>\n",
       "  </thead>\n",
       "  <tbody>\n",
       "    <tr>\n",
       "      <th>(512) Brewing Company, Austin, Travis County, Texas, United States</th>\n",
       "      <td>1</td>\n",
       "      <td>30.222554</td>\n",
       "      <td>-97.770128</td>\n",
       "    </tr>\n",
       "    <tr>\n",
       "      <th>1 Hotel Brooklyn Bridge, Furman Street, DUMBO, Brooklyn, Kings County, New York, 11201, United States of America</th>\n",
       "      <td>3</td>\n",
       "      <td>40.702338</td>\n",
       "      <td>-73.995524</td>\n",
       "    </tr>\n",
       "    <tr>\n",
       "      <th>1 Wall Street, 1, Wall Street, Financial District, Manhattan Community Board 1, Manhattan, New York County, New York, 10005, United States of America</th>\n",
       "      <td>1</td>\n",
       "      <td>40.707302</td>\n",
       "      <td>-74.011692</td>\n",
       "    </tr>\n",
       "    <tr>\n",
       "      <th>1, 17 Mile Drive, Pacific Grove, Monterey County, California, 93950, United States</th>\n",
       "      <td>1</td>\n",
       "      <td>36.632112</td>\n",
       "      <td>-121.925996</td>\n",
       "    </tr>\n",
       "    <tr>\n",
       "      <th>1, Boston, Heritage Park Apartments, El Camino Real, Irvine, Orange County, California, 92604, United States of America</th>\n",
       "      <td>1</td>\n",
       "      <td>33.696836</td>\n",
       "      <td>-117.775532</td>\n",
       "    </tr>\n",
       "  </tbody>\n",
       "</table>\n",
       "</div>"
      ],
      "text/plain": [
       "                                                    Total   Latitude  \\\n",
       "Address                                                                \n",
       "(512) Brewing Company, Austin, Travis County, T...      1  30.222554   \n",
       "1 Hotel Brooklyn Bridge, Furman Street, DUMBO, ...      3  40.702338   \n",
       "1 Wall Street, 1, Wall Street, Financial Distri...      1  40.707302   \n",
       "1, 17 Mile Drive, Pacific Grove, Monterey Count...      1  36.632112   \n",
       "1, Boston, Heritage Park Apartments, El Camino ...      1  33.696836   \n",
       "\n",
       "                                                     Longitude  \n",
       "Address                                                         \n",
       "(512) Brewing Company, Austin, Travis County, T...  -97.770128  \n",
       "1 Hotel Brooklyn Bridge, Furman Street, DUMBO, ...  -73.995524  \n",
       "1 Wall Street, 1, Wall Street, Financial Distri...  -74.011692  \n",
       "1, 17 Mile Drive, Pacific Grove, Monterey Count... -121.925996  \n",
       "1, Boston, Heritage Park Apartments, El Camino ... -117.775532  "
      ]
     },
     "execution_count": 20,
     "metadata": {},
     "output_type": "execute_result"
    }
   ],
   "source": [
    "#Sum total visit the same place\n",
    "Data2 = Data.reset_index()\n",
    "PopPlace = Data2.groupby(['Address'])\n",
    "PopPlace_sum = PopPlace.size()\n",
    "PopPlace_sum = PopPlace_sum.to_frame()\n",
    "PopPlace_sum.columns = ['Total']\n",
    "\n",
    "#Find the latitude and longitude for the popular visit place\n",
    "for place in PopPlace_sum.index :\n",
    "    for i in range (len(Address)) :\n",
    "        if place == Address[i] :\n",
    "            PopPlace_sum.loc[place,'Latitude'] = Latitude[i]\n",
    "            PopPlace_sum.loc[place,'Longitude'] = Longitude[i]\n",
    "            \n",
    "PopPlace_sum.head()"
   ]
  },
  {
   "cell_type": "code",
   "execution_count": 21,
   "metadata": {},
   "outputs": [
    {
     "data": {
      "text/html": [
       "<div>\n",
       "<style scoped>\n",
       "    .dataframe tbody tr th:only-of-type {\n",
       "        vertical-align: middle;\n",
       "    }\n",
       "\n",
       "    .dataframe tbody tr th {\n",
       "        vertical-align: top;\n",
       "    }\n",
       "\n",
       "    .dataframe thead th {\n",
       "        text-align: right;\n",
       "    }\n",
       "</style>\n",
       "<table border=\"1\" class=\"dataframe\">\n",
       "  <thead>\n",
       "    <tr style=\"text-align: right;\">\n",
       "      <th></th>\n",
       "      <th>Total</th>\n",
       "      <th>Latitude</th>\n",
       "      <th>Longitude</th>\n",
       "      <th>State</th>\n",
       "    </tr>\n",
       "    <tr>\n",
       "      <th>Address</th>\n",
       "      <th></th>\n",
       "      <th></th>\n",
       "      <th></th>\n",
       "      <th></th>\n",
       "    </tr>\n",
       "  </thead>\n",
       "  <tbody>\n",
       "    <tr>\n",
       "      <th>Cool Springs, St. Clair County, Alabama, 39593, United States</th>\n",
       "      <td>4</td>\n",
       "      <td>33.796766</td>\n",
       "      <td>-86.329147</td>\n",
       "      <td>Alabama</td>\n",
       "    </tr>\n",
       "    <tr>\n",
       "      <th>Fairhope Municipal Pier, Magnolia Beach, Baldwin County, Alabama, United States</th>\n",
       "      <td>3</td>\n",
       "      <td>30.524980</td>\n",
       "      <td>-87.914871</td>\n",
       "      <td>Alabama</td>\n",
       "    </tr>\n",
       "    <tr>\n",
       "      <th>Gulf Shores, Baldwin County, Alabama, United States</th>\n",
       "      <td>3</td>\n",
       "      <td>30.297024</td>\n",
       "      <td>-87.645741</td>\n",
       "      <td>Alabama</td>\n",
       "    </tr>\n",
       "    <tr>\n",
       "      <th>Mobile County, Alabama, United States</th>\n",
       "      <td>3</td>\n",
       "      <td>30.648824</td>\n",
       "      <td>-88.194642</td>\n",
       "      <td>Alabama</td>\n",
       "    </tr>\n",
       "    <tr>\n",
       "      <th>Orange Beach, Baldwin County, Alabama, United States</th>\n",
       "      <td>3</td>\n",
       "      <td>30.294368</td>\n",
       "      <td>-87.573594</td>\n",
       "      <td>Alabama</td>\n",
       "    </tr>\n",
       "  </tbody>\n",
       "</table>\n",
       "</div>"
      ],
      "text/plain": [
       "                                                    Total   Latitude  \\\n",
       "Address                                                                \n",
       "Cool Springs, St. Clair County, Alabama, 39593,...      4  33.796766   \n",
       "Fairhope Municipal Pier, Magnolia Beach, Baldwi...      3  30.524980   \n",
       "Gulf Shores, Baldwin County, Alabama, United St...      3  30.297024   \n",
       "Mobile County, Alabama, United States                   3  30.648824   \n",
       "Orange Beach, Baldwin County, Alabama, United S...      3  30.294368   \n",
       "\n",
       "                                                    Longitude    State  \n",
       "Address                                                                 \n",
       "Cool Springs, St. Clair County, Alabama, 39593,... -86.329147  Alabama  \n",
       "Fairhope Municipal Pier, Magnolia Beach, Baldwi... -87.914871  Alabama  \n",
       "Gulf Shores, Baldwin County, Alabama, United St... -87.645741  Alabama  \n",
       "Mobile County, Alabama, United States              -88.194642  Alabama  \n",
       "Orange Beach, Baldwin County, Alabama, United S... -87.573594  Alabama  "
      ]
     },
     "execution_count": 21,
     "metadata": {},
     "output_type": "execute_result"
    }
   ],
   "source": [
    "#Add State\n",
    "for address in PopPlace_sum.index:\n",
    "    for i in range (len(statelist)) :\n",
    "        if statelist[i] in address :\n",
    "            PopPlace_sum.loc[address,'State'] = statelist[i]\n",
    "#Sort by State and total number of check-ins respectively\n",
    "PopPlace_sum = PopPlace_sum.sort_values(by=['State','Total'], ascending=[True,False])\n",
    "PopPlace_sum.head()"
   ]
  },
  {
   "cell_type": "markdown",
   "metadata": {},
   "source": [
    "### Preparing Data for Popular Place for All check-ins of each season"
   ]
  },
  {
   "cell_type": "code",
   "execution_count": 22,
   "metadata": {},
   "outputs": [
    {
     "data": {
      "text/html": [
       "<div>\n",
       "<style scoped>\n",
       "    .dataframe tbody tr th:only-of-type {\n",
       "        vertical-align: middle;\n",
       "    }\n",
       "\n",
       "    .dataframe tbody tr th {\n",
       "        vertical-align: top;\n",
       "    }\n",
       "\n",
       "    .dataframe thead th {\n",
       "        text-align: right;\n",
       "    }\n",
       "</style>\n",
       "<table border=\"1\" class=\"dataframe\">\n",
       "  <thead>\n",
       "    <tr style=\"text-align: right;\">\n",
       "      <th></th>\n",
       "      <th></th>\n",
       "      <th>0</th>\n",
       "      <th>State</th>\n",
       "    </tr>\n",
       "    <tr>\n",
       "      <th>Address</th>\n",
       "      <th>Season</th>\n",
       "      <th></th>\n",
       "      <th></th>\n",
       "    </tr>\n",
       "  </thead>\n",
       "  <tbody>\n",
       "    <tr>\n",
       "      <th>(512) Brewing Company, Austin, Travis County, Texas, United States</th>\n",
       "      <th>Fall</th>\n",
       "      <td>1</td>\n",
       "      <td>Texas</td>\n",
       "    </tr>\n",
       "    <tr>\n",
       "      <th rowspan=\"2\" valign=\"top\">1 Hotel Brooklyn Bridge, Furman Street, DUMBO, Brooklyn, Kings County, New York, 11201, United States of America</th>\n",
       "      <th>Fall</th>\n",
       "      <td>1</td>\n",
       "      <td>New York</td>\n",
       "    </tr>\n",
       "    <tr>\n",
       "      <th>Spring</th>\n",
       "      <td>2</td>\n",
       "      <td>New York</td>\n",
       "    </tr>\n",
       "    <tr>\n",
       "      <th>1 Wall Street, 1, Wall Street, Financial District, Manhattan Community Board 1, Manhattan, New York County, New York, 10005, United States of America</th>\n",
       "      <th>Fall</th>\n",
       "      <td>1</td>\n",
       "      <td>New York</td>\n",
       "    </tr>\n",
       "    <tr>\n",
       "      <th>1, 17 Mile Drive, Pacific Grove, Monterey County, California, 93950, United States</th>\n",
       "      <th>Summer</th>\n",
       "      <td>1</td>\n",
       "      <td>California</td>\n",
       "    </tr>\n",
       "  </tbody>\n",
       "</table>\n",
       "</div>"
      ],
      "text/plain": [
       "                                                           0       State\n",
       "Address                                            Season               \n",
       "(512) Brewing Company, Austin, Travis County, T... Fall    1       Texas\n",
       "1 Hotel Brooklyn Bridge, Furman Street, DUMBO, ... Fall    1    New York\n",
       "                                                   Spring  2    New York\n",
       "1 Wall Street, 1, Wall Street, Financial Distri... Fall    1    New York\n",
       "1, 17 Mile Drive, Pacific Grove, Monterey Count... Summer  1  California"
      ]
     },
     "execution_count": 22,
     "metadata": {},
     "output_type": "execute_result"
    }
   ],
   "source": [
    "#Sum total visit the same place\n",
    "PopPlace2 = Data2.groupby(['Address','Season'])\n",
    "PopPlace_sum2 = PopPlace2.size()\n",
    "PopPlace_sum2 = PopPlace_sum2.to_frame()\n",
    "#Add State\n",
    "for address in PopPlace_sum2.index:\n",
    "        for i in range (len(statelist)) :\n",
    "            if statelist[i] in address[0] :\n",
    "                PopPlace_sum2.loc[address,'State'] = statelist[i]\n",
    "PopPlace_sum2.head()"
   ]
  },
  {
   "cell_type": "code",
   "execution_count": 23,
   "metadata": {},
   "outputs": [
    {
     "data": {
      "text/html": [
       "<div>\n",
       "<style scoped>\n",
       "    .dataframe tbody tr th:only-of-type {\n",
       "        vertical-align: middle;\n",
       "    }\n",
       "\n",
       "    .dataframe tbody tr th {\n",
       "        vertical-align: top;\n",
       "    }\n",
       "\n",
       "    .dataframe thead th {\n",
       "        text-align: right;\n",
       "    }\n",
       "</style>\n",
       "<table border=\"1\" class=\"dataframe\">\n",
       "  <thead>\n",
       "    <tr style=\"text-align: right;\">\n",
       "      <th></th>\n",
       "      <th></th>\n",
       "      <th>0</th>\n",
       "      <th>State</th>\n",
       "      <th>Latitude</th>\n",
       "      <th>Longitude</th>\n",
       "    </tr>\n",
       "    <tr>\n",
       "      <th>Address</th>\n",
       "      <th>Season</th>\n",
       "      <th></th>\n",
       "      <th></th>\n",
       "      <th></th>\n",
       "      <th></th>\n",
       "    </tr>\n",
       "  </thead>\n",
       "  <tbody>\n",
       "    <tr>\n",
       "      <th>(512) Brewing Company, Austin, Travis County, Texas, United States</th>\n",
       "      <th>Fall</th>\n",
       "      <td>1</td>\n",
       "      <td>Texas</td>\n",
       "      <td>30.222554</td>\n",
       "      <td>-97.770128</td>\n",
       "    </tr>\n",
       "    <tr>\n",
       "      <th rowspan=\"2\" valign=\"top\">1 Hotel Brooklyn Bridge, Furman Street, DUMBO, Brooklyn, Kings County, New York, 11201, United States of America</th>\n",
       "      <th>Fall</th>\n",
       "      <td>1</td>\n",
       "      <td>New York</td>\n",
       "      <td>40.702338</td>\n",
       "      <td>-73.995524</td>\n",
       "    </tr>\n",
       "    <tr>\n",
       "      <th>Spring</th>\n",
       "      <td>2</td>\n",
       "      <td>New York</td>\n",
       "      <td>40.702338</td>\n",
       "      <td>-73.995524</td>\n",
       "    </tr>\n",
       "    <tr>\n",
       "      <th>1 Wall Street, 1, Wall Street, Financial District, Manhattan Community Board 1, Manhattan, New York County, New York, 10005, United States of America</th>\n",
       "      <th>Fall</th>\n",
       "      <td>1</td>\n",
       "      <td>New York</td>\n",
       "      <td>40.707302</td>\n",
       "      <td>-74.011692</td>\n",
       "    </tr>\n",
       "    <tr>\n",
       "      <th>1, 17 Mile Drive, Pacific Grove, Monterey County, California, 93950, United States</th>\n",
       "      <th>Summer</th>\n",
       "      <td>1</td>\n",
       "      <td>California</td>\n",
       "      <td>36.632112</td>\n",
       "      <td>-121.925996</td>\n",
       "    </tr>\n",
       "  </tbody>\n",
       "</table>\n",
       "</div>"
      ],
      "text/plain": [
       "                                                           0       State  \\\n",
       "Address                                            Season                  \n",
       "(512) Brewing Company, Austin, Travis County, T... Fall    1       Texas   \n",
       "1 Hotel Brooklyn Bridge, Furman Street, DUMBO, ... Fall    1    New York   \n",
       "                                                   Spring  2    New York   \n",
       "1 Wall Street, 1, Wall Street, Financial Distri... Fall    1    New York   \n",
       "1, 17 Mile Drive, Pacific Grove, Monterey Count... Summer  1  California   \n",
       "\n",
       "                                                            Latitude  \\\n",
       "Address                                            Season              \n",
       "(512) Brewing Company, Austin, Travis County, T... Fall    30.222554   \n",
       "1 Hotel Brooklyn Bridge, Furman Street, DUMBO, ... Fall    40.702338   \n",
       "                                                   Spring  40.702338   \n",
       "1 Wall Street, 1, Wall Street, Financial Distri... Fall    40.707302   \n",
       "1, 17 Mile Drive, Pacific Grove, Monterey Count... Summer  36.632112   \n",
       "\n",
       "                                                            Longitude  \n",
       "Address                                            Season              \n",
       "(512) Brewing Company, Austin, Travis County, T... Fall    -97.770128  \n",
       "1 Hotel Brooklyn Bridge, Furman Street, DUMBO, ... Fall    -73.995524  \n",
       "                                                   Spring  -73.995524  \n",
       "1 Wall Street, 1, Wall Street, Financial Distri... Fall    -74.011692  \n",
       "1, 17 Mile Drive, Pacific Grove, Monterey Count... Summer -121.925996  "
      ]
     },
     "execution_count": 23,
     "metadata": {},
     "output_type": "execute_result"
    }
   ],
   "source": [
    "#Add State\n",
    "for address in PopPlace_sum2.index:\n",
    "    for i in range (len(Address)) :\n",
    "        if address[0] == Address[i] :\n",
    "            PopPlace_sum2.loc[address,'Latitude'] = Latitude[i]\n",
    "            PopPlace_sum2.loc[address,'Longitude'] = Longitude[i]\n",
    "\n",
    "PopPlace_sum2.head()"
   ]
  },
  {
   "cell_type": "code",
   "execution_count": 24,
   "metadata": {},
   "outputs": [],
   "source": [
    "PopSpring = pd.DataFrame()\n",
    "PopSummer = pd.DataFrame()\n",
    "PopFall = pd.DataFrame()\n",
    "PopWinter = pd.DataFrame()\n",
    "for i in range (len(PopPlace_sum2.index)):\n",
    "        temp = {'Address': PopPlace_sum2.index[i][0],'Season':PopPlace_sum2.index[i][1],'Total': PopPlace_sum2.iloc[i,0],'State': PopPlace_sum2.iloc[i,1],'Latitude':PopPlace_sum2.iloc[i,2] ,'Longitude':PopPlace_sum2.iloc[i,3]} \n",
    "        if PopPlace_sum2.index[i][1] == 'Spring' :\n",
    "            PopSpring = PopSpring.append(temp, ignore_index=True)\n",
    "        elif PopPlace_sum2.index[i][1] == 'Summer' :\n",
    "            PopSummer = PopSummer.append(temp, ignore_index=True)\n",
    "        elif PopPlace_sum2.index[i][1] == 'Fall' :\n",
    "            PopFall = PopFall.append(temp, ignore_index=True)\n",
    "        elif PopPlace_sum2.index[i][1] == 'Winter' :\n",
    "            PopWinter = PopWinter.append(temp, ignore_index=True)           "
   ]
  },
  {
   "cell_type": "code",
   "execution_count": 25,
   "metadata": {},
   "outputs": [
    {
     "name": "stdout",
     "output_type": "stream",
     "text": [
      "(2417, 6)\n",
      "(2798, 6)\n",
      "(2582, 6)\n",
      "(1675, 6)\n"
     ]
    }
   ],
   "source": [
    "#Sort by State and total number of check-ins respectively\n",
    "PopSpring = PopSpring.sort_values(by=['State','Total'], ascending=[True,False])\n",
    "PopSummer = PopSummer.sort_values(by=['State','Total'], ascending=[True,False])\n",
    "PopFall = PopFall.sort_values(by=['State','Total'], ascending=[True,False])\n",
    "PopWinter = PopWinter.sort_values(by=['State','Total'], ascending=[True,False])\n",
    "print(PopSpring.shape)\n",
    "print(PopSummer.shape)\n",
    "print(PopFall.shape)\n",
    "print(PopWinter.shape)"
   ]
  },
  {
   "cell_type": "markdown",
   "metadata": {},
   "source": [
    "##  4.3 Preparing Crime, US Index and Temperature Data "
   ]
  },
  {
   "cell_type": "code",
   "execution_count": 26,
   "metadata": {},
   "outputs": [],
   "source": [
    "USCrime = pd.read_csv('USCrime.csv')\n",
    "USIndex = pd.read_csv('USIndex.csv')\n",
    "Temperature = pd.read_csv('Temperature.csv')"
   ]
  },
  {
   "cell_type": "code",
   "execution_count": 27,
   "metadata": {},
   "outputs": [
    {
     "data": {
      "text/plain": [
       "(25572, 8)"
      ]
     },
     "execution_count": 27,
     "metadata": {},
     "output_type": "execute_result"
    }
   ],
   "source": [
    "Data3 = pd.concat([Data_2016,Data_2017,Data_2018], ignore_index=True)\n",
    "Data3.shape"
   ]
  },
  {
   "cell_type": "code",
   "execution_count": 28,
   "metadata": {},
   "outputs": [
    {
     "data": {
      "text/html": [
       "<div>\n",
       "<style scoped>\n",
       "    .dataframe tbody tr th:only-of-type {\n",
       "        vertical-align: middle;\n",
       "    }\n",
       "\n",
       "    .dataframe tbody tr th {\n",
       "        vertical-align: top;\n",
       "    }\n",
       "\n",
       "    .dataframe thead tr th {\n",
       "        text-align: left;\n",
       "    }\n",
       "\n",
       "    .dataframe thead tr:last-of-type th {\n",
       "        text-align: right;\n",
       "    }\n",
       "</style>\n",
       "<table border=\"1\" class=\"dataframe\">\n",
       "  <thead>\n",
       "    <tr>\n",
       "      <th></th>\n",
       "      <th colspan=\"21\" halign=\"left\">Total</th>\n",
       "    </tr>\n",
       "    <tr>\n",
       "      <th>Date</th>\n",
       "      <th>2016/01</th>\n",
       "      <th>2016/02</th>\n",
       "      <th>2016/03</th>\n",
       "      <th>2016/04</th>\n",
       "      <th>2016/05</th>\n",
       "      <th>2016/06</th>\n",
       "      <th>2016/07</th>\n",
       "      <th>2016/08</th>\n",
       "      <th>2016/09</th>\n",
       "      <th>2016/10</th>\n",
       "      <th>...</th>\n",
       "      <th>2018/03</th>\n",
       "      <th>2018/04</th>\n",
       "      <th>2018/05</th>\n",
       "      <th>2018/06</th>\n",
       "      <th>2018/07</th>\n",
       "      <th>2018/08</th>\n",
       "      <th>2018/09</th>\n",
       "      <th>2018/10</th>\n",
       "      <th>2018/11</th>\n",
       "      <th>2018/12</th>\n",
       "    </tr>\n",
       "    <tr>\n",
       "      <th>State</th>\n",
       "      <th></th>\n",
       "      <th></th>\n",
       "      <th></th>\n",
       "      <th></th>\n",
       "      <th></th>\n",
       "      <th></th>\n",
       "      <th></th>\n",
       "      <th></th>\n",
       "      <th></th>\n",
       "      <th></th>\n",
       "      <th></th>\n",
       "      <th></th>\n",
       "      <th></th>\n",
       "      <th></th>\n",
       "      <th></th>\n",
       "      <th></th>\n",
       "      <th></th>\n",
       "      <th></th>\n",
       "      <th></th>\n",
       "      <th></th>\n",
       "      <th></th>\n",
       "    </tr>\n",
       "  </thead>\n",
       "  <tbody>\n",
       "    <tr>\n",
       "      <th>Washington</th>\n",
       "      <td>13.0</td>\n",
       "      <td>5.0</td>\n",
       "      <td>26.0</td>\n",
       "      <td>16.0</td>\n",
       "      <td>36.0</td>\n",
       "      <td>26.0</td>\n",
       "      <td>25.0</td>\n",
       "      <td>32.0</td>\n",
       "      <td>33.0</td>\n",
       "      <td>28.0</td>\n",
       "      <td>...</td>\n",
       "      <td>64.0</td>\n",
       "      <td>41.0</td>\n",
       "      <td>66.0</td>\n",
       "      <td>57.0</td>\n",
       "      <td>92.0</td>\n",
       "      <td>68.0</td>\n",
       "      <td>85.0</td>\n",
       "      <td>73.0</td>\n",
       "      <td>48.0</td>\n",
       "      <td>40.0</td>\n",
       "    </tr>\n",
       "    <tr>\n",
       "      <th>West Virginia</th>\n",
       "      <td>0.0</td>\n",
       "      <td>0.0</td>\n",
       "      <td>0.0</td>\n",
       "      <td>1.0</td>\n",
       "      <td>0.0</td>\n",
       "      <td>0.0</td>\n",
       "      <td>0.0</td>\n",
       "      <td>1.0</td>\n",
       "      <td>0.0</td>\n",
       "      <td>0.0</td>\n",
       "      <td>...</td>\n",
       "      <td>0.0</td>\n",
       "      <td>0.0</td>\n",
       "      <td>0.0</td>\n",
       "      <td>1.0</td>\n",
       "      <td>4.0</td>\n",
       "      <td>1.0</td>\n",
       "      <td>1.0</td>\n",
       "      <td>0.0</td>\n",
       "      <td>0.0</td>\n",
       "      <td>0.0</td>\n",
       "    </tr>\n",
       "    <tr>\n",
       "      <th>Wisconsin</th>\n",
       "      <td>1.0</td>\n",
       "      <td>3.0</td>\n",
       "      <td>2.0</td>\n",
       "      <td>0.0</td>\n",
       "      <td>1.0</td>\n",
       "      <td>3.0</td>\n",
       "      <td>2.0</td>\n",
       "      <td>0.0</td>\n",
       "      <td>1.0</td>\n",
       "      <td>0.0</td>\n",
       "      <td>...</td>\n",
       "      <td>0.0</td>\n",
       "      <td>0.0</td>\n",
       "      <td>5.0</td>\n",
       "      <td>2.0</td>\n",
       "      <td>4.0</td>\n",
       "      <td>10.0</td>\n",
       "      <td>4.0</td>\n",
       "      <td>6.0</td>\n",
       "      <td>14.0</td>\n",
       "      <td>0.0</td>\n",
       "    </tr>\n",
       "    <tr>\n",
       "      <th>Wyoming</th>\n",
       "      <td>0.0</td>\n",
       "      <td>0.0</td>\n",
       "      <td>2.0</td>\n",
       "      <td>4.0</td>\n",
       "      <td>1.0</td>\n",
       "      <td>2.0</td>\n",
       "      <td>6.0</td>\n",
       "      <td>4.0</td>\n",
       "      <td>25.0</td>\n",
       "      <td>3.0</td>\n",
       "      <td>...</td>\n",
       "      <td>0.0</td>\n",
       "      <td>2.0</td>\n",
       "      <td>8.0</td>\n",
       "      <td>0.0</td>\n",
       "      <td>4.0</td>\n",
       "      <td>11.0</td>\n",
       "      <td>12.0</td>\n",
       "      <td>19.0</td>\n",
       "      <td>14.0</td>\n",
       "      <td>5.0</td>\n",
       "    </tr>\n",
       "    <tr>\n",
       "      <th>All</th>\n",
       "      <td>251.0</td>\n",
       "      <td>196.0</td>\n",
       "      <td>393.0</td>\n",
       "      <td>438.0</td>\n",
       "      <td>452.0</td>\n",
       "      <td>395.0</td>\n",
       "      <td>599.0</td>\n",
       "      <td>647.0</td>\n",
       "      <td>733.0</td>\n",
       "      <td>676.0</td>\n",
       "      <td>...</td>\n",
       "      <td>725.0</td>\n",
       "      <td>694.0</td>\n",
       "      <td>1110.0</td>\n",
       "      <td>887.0</td>\n",
       "      <td>993.0</td>\n",
       "      <td>1187.0</td>\n",
       "      <td>1287.0</td>\n",
       "      <td>1184.0</td>\n",
       "      <td>765.0</td>\n",
       "      <td>566.0</td>\n",
       "    </tr>\n",
       "  </tbody>\n",
       "</table>\n",
       "<p>5 rows × 36 columns</p>\n",
       "</div>"
      ],
      "text/plain": [
       "                Total                                                          \\\n",
       "Date          2016/01 2016/02 2016/03 2016/04 2016/05 2016/06 2016/07 2016/08   \n",
       "State                                                                           \n",
       "Washington       13.0     5.0    26.0    16.0    36.0    26.0    25.0    32.0   \n",
       "West Virginia     0.0     0.0     0.0     1.0     0.0     0.0     0.0     1.0   \n",
       "Wisconsin         1.0     3.0     2.0     0.0     1.0     3.0     2.0     0.0   \n",
       "Wyoming           0.0     0.0     2.0     4.0     1.0     2.0     6.0     4.0   \n",
       "All             251.0   196.0   393.0   438.0   452.0   395.0   599.0   647.0   \n",
       "\n",
       "                                ...                                            \\\n",
       "Date          2016/09 2016/10   ...   2018/03 2018/04 2018/05 2018/06 2018/07   \n",
       "State                           ...                                             \n",
       "Washington       33.0    28.0   ...      64.0    41.0    66.0    57.0    92.0   \n",
       "West Virginia     0.0     0.0   ...       0.0     0.0     0.0     1.0     4.0   \n",
       "Wisconsin         1.0     0.0   ...       0.0     0.0     5.0     2.0     4.0   \n",
       "Wyoming          25.0     3.0   ...       0.0     2.0     8.0     0.0     4.0   \n",
       "All             733.0   676.0   ...     725.0   694.0  1110.0   887.0   993.0   \n",
       "\n",
       "                                                       \n",
       "Date          2018/08 2018/09 2018/10 2018/11 2018/12  \n",
       "State                                                  \n",
       "Washington       68.0    85.0    73.0    48.0    40.0  \n",
       "West Virginia     1.0     1.0     0.0     0.0     0.0  \n",
       "Wisconsin        10.0     4.0     6.0    14.0     0.0  \n",
       "Wyoming          11.0    12.0    19.0    14.0     5.0  \n",
       "All            1187.0  1287.0  1184.0   765.0   566.0  \n",
       "\n",
       "[5 rows x 36 columns]"
      ]
     },
     "execution_count": 28,
     "metadata": {},
     "output_type": "execute_result"
    }
   ],
   "source": [
    "Datax = Data3.groupby(['State','Date'])\n",
    "Datax_sum = Datax.size()\n",
    "Datax_sum = Datax_sum.to_frame()\n",
    "Datax_sum.columns = ['Total']\n",
    "Datax_sum = Datax_sum.unstack().fillna(0)\n",
    "add = Datax_sum.sum(axis = 0, skipna = True) \n",
    "Datax_sum = Datax_sum.transpose()\n",
    "Datax_sum['All'] = 0 \n",
    "Datax_sum = Datax_sum.transpose()\n",
    "Datax_sum.loc['All']['Total'] = [add[0],add[1],add[2],add[3],add[4],add[5],add[6],add[7],add[8],add[9],add[10],add[11],add[12],add[13],add[14],add[15],add[16],add[17],add[18],add[19],add[20],add[21],add[22],add[23],add[24],add[25],add[26],add[27],add[28],add[29],add[30],add[31],add[32],add[33],add[34],add[35]]\n",
    "\n",
    "Datax_sum.tail()"
   ]
  },
  {
   "cell_type": "markdown",
   "metadata": {},
   "source": [
    "###  Preparing Data for Temperature and Check-ins Plot "
   ]
  },
  {
   "cell_type": "code",
   "execution_count": 29,
   "metadata": {},
   "outputs": [
    {
     "data": {
      "text/html": [
       "<div>\n",
       "<style scoped>\n",
       "    .dataframe tbody tr th:only-of-type {\n",
       "        vertical-align: middle;\n",
       "    }\n",
       "\n",
       "    .dataframe tbody tr th {\n",
       "        vertical-align: top;\n",
       "    }\n",
       "\n",
       "    .dataframe thead th {\n",
       "        text-align: right;\n",
       "    }\n",
       "</style>\n",
       "<table border=\"1\" class=\"dataframe\">\n",
       "  <thead>\n",
       "    <tr style=\"text-align: right;\">\n",
       "      <th></th>\n",
       "      <th>Date</th>\n",
       "      <th>Temp</th>\n",
       "    </tr>\n",
       "    <tr>\n",
       "      <th>State</th>\n",
       "      <th></th>\n",
       "      <th></th>\n",
       "    </tr>\n",
       "  </thead>\n",
       "  <tbody>\n",
       "    <tr>\n",
       "      <th>All</th>\n",
       "      <td>2018/05</td>\n",
       "      <td>64.983673</td>\n",
       "    </tr>\n",
       "    <tr>\n",
       "      <th>All</th>\n",
       "      <td>2018/06</td>\n",
       "      <td>70.404082</td>\n",
       "    </tr>\n",
       "    <tr>\n",
       "      <th>All</th>\n",
       "      <td>2018/07</td>\n",
       "      <td>74.502041</td>\n",
       "    </tr>\n",
       "    <tr>\n",
       "      <th>All</th>\n",
       "      <td>2018/08</td>\n",
       "      <td>73.114286</td>\n",
       "    </tr>\n",
       "    <tr>\n",
       "      <th>All</th>\n",
       "      <td>2018/09</td>\n",
       "      <td>67.538776</td>\n",
       "    </tr>\n",
       "  </tbody>\n",
       "</table>\n",
       "</div>"
      ],
      "text/plain": [
       "          Date       Temp\n",
       "State                    \n",
       "All    2018/05  64.983673\n",
       "All    2018/06  70.404082\n",
       "All    2018/07  74.502041\n",
       "All    2018/08  73.114286\n",
       "All    2018/09  67.538776"
      ]
     },
     "execution_count": 29,
     "metadata": {},
     "output_type": "execute_result"
    }
   ],
   "source": [
    "Temperature = Temperature.drop(['Anomaly','Season'],axis=1)\n",
    "Temperature = Temperature.set_index('State')\n",
    "Temperature = Temperature[Temperature.Year != 2019]\n",
    "Temperature['Date']  = Temperature.Year.astype(str).str.cat('0'+Temperature.Month.astype(str), sep='/')\n",
    "Temperature = Temperature.drop(['Month','Year'],axis=1)\n",
    "Temperature.rename(columns={'Value':'Temp'},inplace=True)\n",
    "AvgTemp = Temperature.copy()\n",
    "AvgTemp = AvgTemp.groupby('Date')['Temp'].sum().reset_index()\n",
    "AvgTemp['Temp'] = AvgTemp['Temp']/49\n",
    "AvgTemp['State'] = 'All'\n",
    "Temperature = Temperature.reset_index()\n",
    "Temperature = pd.concat([Temperature,AvgTemp], axis=0,sort = True)\n",
    "Temperature = Temperature.set_index('State')\n",
    "\n",
    "Temperature.tail()"
   ]
  },
  {
   "cell_type": "code",
   "execution_count": 30,
   "metadata": {},
   "outputs": [
    {
     "data": {
      "text/html": [
       "<div>\n",
       "<style scoped>\n",
       "    .dataframe tbody tr th:only-of-type {\n",
       "        vertical-align: middle;\n",
       "    }\n",
       "\n",
       "    .dataframe tbody tr th {\n",
       "        vertical-align: top;\n",
       "    }\n",
       "\n",
       "    .dataframe thead th {\n",
       "        text-align: right;\n",
       "    }\n",
       "</style>\n",
       "<table border=\"1\" class=\"dataframe\">\n",
       "  <thead>\n",
       "    <tr style=\"text-align: right;\">\n",
       "      <th>Date</th>\n",
       "      <th>2016/01</th>\n",
       "      <th>2016/02</th>\n",
       "      <th>2016/03</th>\n",
       "      <th>2016/04</th>\n",
       "      <th>2016/05</th>\n",
       "      <th>2016/06</th>\n",
       "      <th>2016/07</th>\n",
       "      <th>2016/08</th>\n",
       "      <th>2016/09</th>\n",
       "      <th>2016/10</th>\n",
       "      <th>...</th>\n",
       "      <th>2018/03</th>\n",
       "      <th>2018/04</th>\n",
       "      <th>2018/05</th>\n",
       "      <th>2018/06</th>\n",
       "      <th>2018/07</th>\n",
       "      <th>2018/08</th>\n",
       "      <th>2018/09</th>\n",
       "      <th>2018/10</th>\n",
       "      <th>2018/11</th>\n",
       "      <th>2018/12</th>\n",
       "    </tr>\n",
       "  </thead>\n",
       "  <tbody>\n",
       "    <tr>\n",
       "      <th>Total</th>\n",
       "      <td>251</td>\n",
       "      <td>196</td>\n",
       "      <td>393</td>\n",
       "      <td>438</td>\n",
       "      <td>452</td>\n",
       "      <td>395</td>\n",
       "      <td>599</td>\n",
       "      <td>647</td>\n",
       "      <td>733</td>\n",
       "      <td>676</td>\n",
       "      <td>...</td>\n",
       "      <td>725</td>\n",
       "      <td>694</td>\n",
       "      <td>1110</td>\n",
       "      <td>887</td>\n",
       "      <td>993</td>\n",
       "      <td>1187</td>\n",
       "      <td>1287</td>\n",
       "      <td>1184</td>\n",
       "      <td>765</td>\n",
       "      <td>566</td>\n",
       "    </tr>\n",
       "  </tbody>\n",
       "</table>\n",
       "<p>1 rows × 36 columns</p>\n",
       "</div>"
      ],
      "text/plain": [
       "Date   2016/01  2016/02  2016/03  2016/04  2016/05  2016/06  2016/07  2016/08  \\\n",
       "Total      251      196      393      438      452      395      599      647   \n",
       "\n",
       "Date   2016/09  2016/10   ...     2018/03  2018/04  2018/05  2018/06  2018/07  \\\n",
       "Total      733      676   ...         725      694     1110      887      993   \n",
       "\n",
       "Date   2018/08  2018/09  2018/10  2018/11  2018/12  \n",
       "Total     1187     1287     1184      765      566  \n",
       "\n",
       "[1 rows x 36 columns]"
      ]
     },
     "execution_count": 30,
     "metadata": {},
     "output_type": "execute_result"
    }
   ],
   "source": [
    "#See how many posts for each year\n",
    "Data_dategroup = Data3.groupby(['Date'])\n",
    "Data_datesize = Data_dategroup.size()\n",
    "Data_datesize = Data_datesize.to_frame()\n",
    "Data_datesize.columns = ['Total']\n",
    "Data_datesize = Data_datesize.transpose()\n",
    "Data_datesize"
   ]
  },
  {
   "cell_type": "markdown",
   "metadata": {},
   "source": [
    "### Preparing Data for US Index and Check-ins Plot "
   ]
  },
  {
   "cell_type": "code",
   "execution_count": 31,
   "metadata": {},
   "outputs": [
    {
     "data": {
      "text/html": [
       "<div>\n",
       "<style scoped>\n",
       "    .dataframe tbody tr th:only-of-type {\n",
       "        vertical-align: middle;\n",
       "    }\n",
       "\n",
       "    .dataframe tbody tr th {\n",
       "        vertical-align: top;\n",
       "    }\n",
       "\n",
       "    .dataframe thead th {\n",
       "        text-align: right;\n",
       "    }\n",
       "</style>\n",
       "<table border=\"1\" class=\"dataframe\">\n",
       "  <thead>\n",
       "    <tr style=\"text-align: right;\">\n",
       "      <th></th>\n",
       "      <th>Date</th>\n",
       "      <th>value</th>\n",
       "      <th>Month</th>\n",
       "      <th>Year</th>\n",
       "      <th>Season</th>\n",
       "    </tr>\n",
       "  </thead>\n",
       "  <tbody>\n",
       "    <tr>\n",
       "      <th>0</th>\n",
       "      <td>2016/01</td>\n",
       "      <td>101.077</td>\n",
       "      <td>01</td>\n",
       "      <td>2016</td>\n",
       "      <td>Winter</td>\n",
       "    </tr>\n",
       "    <tr>\n",
       "      <th>1</th>\n",
       "      <td>2016/02</td>\n",
       "      <td>99.728</td>\n",
       "      <td>02</td>\n",
       "      <td>2016</td>\n",
       "      <td>Winter</td>\n",
       "    </tr>\n",
       "    <tr>\n",
       "      <th>2</th>\n",
       "      <td>2016/03</td>\n",
       "      <td>97.693</td>\n",
       "      <td>03</td>\n",
       "      <td>2016</td>\n",
       "      <td>Spring</td>\n",
       "    </tr>\n",
       "    <tr>\n",
       "      <th>3</th>\n",
       "      <td>2016/04</td>\n",
       "      <td>96.341</td>\n",
       "      <td>04</td>\n",
       "      <td>2016</td>\n",
       "      <td>Spring</td>\n",
       "    </tr>\n",
       "    <tr>\n",
       "      <th>4</th>\n",
       "      <td>2016/05</td>\n",
       "      <td>97.419</td>\n",
       "      <td>05</td>\n",
       "      <td>2016</td>\n",
       "      <td>Spring</td>\n",
       "    </tr>\n",
       "  </tbody>\n",
       "</table>\n",
       "</div>"
      ],
      "text/plain": [
       "      Date    value Month  Year  Season\n",
       "0  2016/01  101.077    01  2016  Winter\n",
       "1  2016/02   99.728    02  2016  Winter\n",
       "2  2016/03   97.693    03  2016  Spring\n",
       "3  2016/04   96.341    04  2016  Spring\n",
       "4  2016/05   97.419    05  2016  Spring"
      ]
     },
     "execution_count": 31,
     "metadata": {},
     "output_type": "execute_result"
    }
   ],
   "source": [
    "USIndex.rename(columns={'date':'Date'},inplace=True)\n",
    "USIndex = USIndex[USIndex.Year != 2019]\n",
    "for i in range (len(USIndex.index)) :\n",
    "    if USIndex.loc[i,'Month'] in [1,2,3,4,5,6,7,8,9] :\n",
    "        USIndex.loc[i,'Month'] =  '0'+str(USIndex.loc[i,'Month'])\n",
    "        \n",
    "USIndex['Date']  = USIndex.Year.astype(str).str.cat(USIndex.Month.astype(str), sep='/')\n",
    "USIndex.head()"
   ]
  },
  {
   "cell_type": "code",
   "execution_count": 32,
   "metadata": {
    "scrolled": true
   },
   "outputs": [
    {
     "data": {
      "text/html": [
       "<div>\n",
       "<style scoped>\n",
       "    .dataframe tbody tr th:only-of-type {\n",
       "        vertical-align: middle;\n",
       "    }\n",
       "\n",
       "    .dataframe tbody tr th {\n",
       "        vertical-align: top;\n",
       "    }\n",
       "\n",
       "    .dataframe thead th {\n",
       "        text-align: right;\n",
       "    }\n",
       "</style>\n",
       "<table border=\"1\" class=\"dataframe\">\n",
       "  <thead>\n",
       "    <tr style=\"text-align: right;\">\n",
       "      <th>Date</th>\n",
       "      <th>2016/01</th>\n",
       "      <th>2016/02</th>\n",
       "      <th>2016/03</th>\n",
       "      <th>2016/04</th>\n",
       "      <th>2016/05</th>\n",
       "      <th>2016/06</th>\n",
       "      <th>2016/07</th>\n",
       "      <th>2016/08</th>\n",
       "      <th>2016/09</th>\n",
       "      <th>2016/10</th>\n",
       "      <th>...</th>\n",
       "      <th>2018/03</th>\n",
       "      <th>2018/04</th>\n",
       "      <th>2018/05</th>\n",
       "      <th>2018/06</th>\n",
       "      <th>2018/07</th>\n",
       "      <th>2018/08</th>\n",
       "      <th>2018/09</th>\n",
       "      <th>2018/10</th>\n",
       "      <th>2018/11</th>\n",
       "      <th>2018/12</th>\n",
       "    </tr>\n",
       "  </thead>\n",
       "  <tbody>\n",
       "    <tr>\n",
       "      <th>USIndex</th>\n",
       "      <td>101.077</td>\n",
       "      <td>99.728</td>\n",
       "      <td>97.693</td>\n",
       "      <td>96.341</td>\n",
       "      <td>97.419</td>\n",
       "      <td>97.802</td>\n",
       "      <td>98.294</td>\n",
       "      <td>97.514</td>\n",
       "      <td>98.26</td>\n",
       "      <td>99.18</td>\n",
       "      <td>...</td>\n",
       "      <td>95.011</td>\n",
       "      <td>94.997</td>\n",
       "      <td>97.522</td>\n",
       "      <td>99.017</td>\n",
       "      <td>99.335</td>\n",
       "      <td>100.28</td>\n",
       "      <td>100.262</td>\n",
       "      <td>100.903</td>\n",
       "      <td>101.974</td>\n",
       "      <td>102.002</td>\n",
       "    </tr>\n",
       "  </tbody>\n",
       "</table>\n",
       "<p>1 rows × 36 columns</p>\n",
       "</div>"
      ],
      "text/plain": [
       "Date     2016/01  2016/02  2016/03  2016/04  2016/05  2016/06  2016/07  \\\n",
       "USIndex  101.077   99.728   97.693   96.341   97.419   97.802   98.294   \n",
       "\n",
       "Date     2016/08  2016/09  2016/10   ...     2018/03  2018/04  2018/05  \\\n",
       "USIndex   97.514    98.26    99.18   ...      95.011   94.997   97.522   \n",
       "\n",
       "Date     2018/06  2018/07  2018/08  2018/09  2018/10  2018/11  2018/12  \n",
       "USIndex   99.017   99.335   100.28  100.262  100.903  101.974  102.002  \n",
       "\n",
       "[1 rows x 36 columns]"
      ]
     },
     "execution_count": 32,
     "metadata": {},
     "output_type": "execute_result"
    }
   ],
   "source": [
    "USIndex = USIndex.drop(['Month','Year','Season'],axis=1)\n",
    "USIndex.rename(columns={' value':'USIndex'},inplace=True)\n",
    "USIndex = USIndex.set_index('Date')\n",
    "USIndex = USIndex.transpose()\n",
    "USIndex.head()"
   ]
  },
  {
   "cell_type": "markdown",
   "metadata": {},
   "source": [
    "### Preparing Data for Crime Per Population and Check-ins Plot "
   ]
  },
  {
   "cell_type": "code",
   "execution_count": 33,
   "metadata": {},
   "outputs": [
    {
     "data": {
      "text/html": [
       "<div>\n",
       "<style scoped>\n",
       "    .dataframe tbody tr th:only-of-type {\n",
       "        vertical-align: middle;\n",
       "    }\n",
       "\n",
       "    .dataframe tbody tr th {\n",
       "        vertical-align: top;\n",
       "    }\n",
       "\n",
       "    .dataframe thead th {\n",
       "        text-align: right;\n",
       "    }\n",
       "</style>\n",
       "<table border=\"1\" class=\"dataframe\">\n",
       "  <thead>\n",
       "    <tr style=\"text-align: right;\">\n",
       "      <th></th>\n",
       "      <th>year</th>\n",
       "      <th>population</th>\n",
       "      <th>violent_crime</th>\n",
       "      <th>homicide</th>\n",
       "      <th>rape_revised</th>\n",
       "      <th>robbery</th>\n",
       "      <th>aggravated_assault</th>\n",
       "      <th>property_crime</th>\n",
       "      <th>burglary</th>\n",
       "      <th>larceny</th>\n",
       "      <th>motor_vehicle_theft</th>\n",
       "      <th>Total</th>\n",
       "      <th>Crime/Population</th>\n",
       "    </tr>\n",
       "    <tr>\n",
       "      <th>State</th>\n",
       "      <th></th>\n",
       "      <th></th>\n",
       "      <th></th>\n",
       "      <th></th>\n",
       "      <th></th>\n",
       "      <th></th>\n",
       "      <th></th>\n",
       "      <th></th>\n",
       "      <th></th>\n",
       "      <th></th>\n",
       "      <th></th>\n",
       "      <th></th>\n",
       "      <th></th>\n",
       "    </tr>\n",
       "  </thead>\n",
       "  <tbody>\n",
       "    <tr>\n",
       "      <th>All</th>\n",
       "      <td>2016</td>\n",
       "      <td>323405935</td>\n",
       "      <td>1285606</td>\n",
       "      <td>17413</td>\n",
       "      <td>132414.0</td>\n",
       "      <td>332797</td>\n",
       "      <td>802982</td>\n",
       "      <td>7928530</td>\n",
       "      <td>1516405</td>\n",
       "      <td>5644835</td>\n",
       "      <td>767290</td>\n",
       "      <td>18428272.0</td>\n",
       "      <td>0.056982</td>\n",
       "    </tr>\n",
       "    <tr>\n",
       "      <th>Alaska</th>\n",
       "      <td>2016</td>\n",
       "      <td>741522</td>\n",
       "      <td>5966</td>\n",
       "      <td>52</td>\n",
       "      <td>1053.0</td>\n",
       "      <td>850</td>\n",
       "      <td>4011</td>\n",
       "      <td>24876</td>\n",
       "      <td>4053</td>\n",
       "      <td>17766</td>\n",
       "      <td>3057</td>\n",
       "      <td>61684.0</td>\n",
       "      <td>0.083186</td>\n",
       "    </tr>\n",
       "    <tr>\n",
       "      <th>Alabama</th>\n",
       "      <td>2016</td>\n",
       "      <td>4860545</td>\n",
       "      <td>25878</td>\n",
       "      <td>407</td>\n",
       "      <td>1915.0</td>\n",
       "      <td>4687</td>\n",
       "      <td>18869</td>\n",
       "      <td>143259</td>\n",
       "      <td>34045</td>\n",
       "      <td>97498</td>\n",
       "      <td>11716</td>\n",
       "      <td>338274.0</td>\n",
       "      <td>0.069596</td>\n",
       "    </tr>\n",
       "    <tr>\n",
       "      <th>Arkansas</th>\n",
       "      <td>2016</td>\n",
       "      <td>2988231</td>\n",
       "      <td>16563</td>\n",
       "      <td>217</td>\n",
       "      <td>2214.0</td>\n",
       "      <td>2125</td>\n",
       "      <td>12007</td>\n",
       "      <td>98092</td>\n",
       "      <td>23814</td>\n",
       "      <td>67091</td>\n",
       "      <td>7187</td>\n",
       "      <td>229310.0</td>\n",
       "      <td>0.076738</td>\n",
       "    </tr>\n",
       "    <tr>\n",
       "      <th>Arizona</th>\n",
       "      <td>2016</td>\n",
       "      <td>6908642</td>\n",
       "      <td>32542</td>\n",
       "      <td>389</td>\n",
       "      <td>3304.0</td>\n",
       "      <td>7045</td>\n",
       "      <td>21804</td>\n",
       "      <td>207317</td>\n",
       "      <td>38216</td>\n",
       "      <td>150618</td>\n",
       "      <td>18483</td>\n",
       "      <td>479718.0</td>\n",
       "      <td>0.069437</td>\n",
       "    </tr>\n",
       "  </tbody>\n",
       "</table>\n",
       "</div>"
      ],
      "text/plain": [
       "          year  population  violent_crime  homicide  rape_revised  robbery  \\\n",
       "State                                                                        \n",
       "All       2016   323405935        1285606     17413      132414.0   332797   \n",
       "Alaska    2016      741522           5966        52        1053.0      850   \n",
       "Alabama   2016     4860545          25878       407        1915.0     4687   \n",
       "Arkansas  2016     2988231          16563       217        2214.0     2125   \n",
       "Arizona   2016     6908642          32542       389        3304.0     7045   \n",
       "\n",
       "          aggravated_assault  property_crime  burglary  larceny  \\\n",
       "State                                                             \n",
       "All                   802982         7928530   1516405  5644835   \n",
       "Alaska                  4011           24876      4053    17766   \n",
       "Alabama                18869          143259     34045    97498   \n",
       "Arkansas               12007           98092     23814    67091   \n",
       "Arizona                21804          207317     38216   150618   \n",
       "\n",
       "          motor_vehicle_theft       Total  Crime/Population  \n",
       "State                                                        \n",
       "All                    767290  18428272.0          0.056982  \n",
       "Alaska                   3057     61684.0          0.083186  \n",
       "Alabama                 11716    338274.0          0.069596  \n",
       "Arkansas                 7187    229310.0          0.076738  \n",
       "Arizona                 18483    479718.0          0.069437  "
      ]
     },
     "execution_count": 33,
     "metadata": {},
     "output_type": "execute_result"
    }
   ],
   "source": [
    "USCrime['Crime/Population'] = USCrime['Total']/USCrime['population']\n",
    "USCrime = USCrime.set_index('State')\n",
    "for state in USCrime.index :\n",
    "    for i in range (len(statecode)):\n",
    "        if statecode[i] == state:\n",
    "            USCrime.loc[state,'State'] = statelist[i]\n",
    "\n",
    "USCrime = USCrime.fillna('All')\n",
    "USCrime = USCrime.set_index('State')\n",
    "USCrime.head()"
   ]
  },
  {
   "cell_type": "code",
   "execution_count": 34,
   "metadata": {},
   "outputs": [
    {
     "data": {
      "text/html": [
       "<div>\n",
       "<style scoped>\n",
       "    .dataframe tbody tr th:only-of-type {\n",
       "        vertical-align: middle;\n",
       "    }\n",
       "\n",
       "    .dataframe tbody tr th {\n",
       "        vertical-align: top;\n",
       "    }\n",
       "\n",
       "    .dataframe thead th {\n",
       "        text-align: right;\n",
       "    }\n",
       "</style>\n",
       "<table border=\"1\" class=\"dataframe\">\n",
       "  <thead>\n",
       "    <tr style=\"text-align: right;\">\n",
       "      <th></th>\n",
       "      <th>year</th>\n",
       "      <th>Crime/Population</th>\n",
       "    </tr>\n",
       "    <tr>\n",
       "      <th>State</th>\n",
       "      <th></th>\n",
       "      <th></th>\n",
       "    </tr>\n",
       "  </thead>\n",
       "  <tbody>\n",
       "    <tr>\n",
       "      <th>Alabama</th>\n",
       "      <td>2016</td>\n",
       "      <td>0.069596</td>\n",
       "    </tr>\n",
       "    <tr>\n",
       "      <th>Alabama</th>\n",
       "      <td>2018</td>\n",
       "      <td>0.066736</td>\n",
       "    </tr>\n",
       "    <tr>\n",
       "      <th>Alabama</th>\n",
       "      <td>2017</td>\n",
       "      <td>0.069431</td>\n",
       "    </tr>\n",
       "    <tr>\n",
       "      <th>Alaska</th>\n",
       "      <td>2016</td>\n",
       "      <td>0.083186</td>\n",
       "    </tr>\n",
       "    <tr>\n",
       "      <th>Alaska</th>\n",
       "      <td>2018</td>\n",
       "      <td>0.083709</td>\n",
       "    </tr>\n",
       "  </tbody>\n",
       "</table>\n",
       "</div>"
      ],
      "text/plain": [
       "         year  Crime/Population\n",
       "State                          \n",
       "Alabama  2016          0.069596\n",
       "Alabama  2018          0.066736\n",
       "Alabama  2017          0.069431\n",
       "Alaska   2016          0.083186\n",
       "Alaska   2018          0.083709"
      ]
     },
     "execution_count": 34,
     "metadata": {},
     "output_type": "execute_result"
    }
   ],
   "source": [
    "USCrime2 = USCrime.loc[:,['year','Crime/Population']]\n",
    "USCrime2 = USCrime2.sort_index()\n",
    "USCrime2.head()"
   ]
  },
  {
   "cell_type": "code",
   "execution_count": 35,
   "metadata": {
    "scrolled": true
   },
   "outputs": [
    {
     "data": {
      "text/html": [
       "<div>\n",
       "<style scoped>\n",
       "    .dataframe tbody tr th:only-of-type {\n",
       "        vertical-align: middle;\n",
       "    }\n",
       "\n",
       "    .dataframe tbody tr th {\n",
       "        vertical-align: top;\n",
       "    }\n",
       "\n",
       "    .dataframe thead th {\n",
       "        text-align: right;\n",
       "    }\n",
       "</style>\n",
       "<table border=\"1\" class=\"dataframe\">\n",
       "  <thead>\n",
       "    <tr style=\"text-align: right;\">\n",
       "      <th></th>\n",
       "      <th>2016</th>\n",
       "      <th>2017</th>\n",
       "      <th>2018</th>\n",
       "    </tr>\n",
       "  </thead>\n",
       "  <tbody>\n",
       "    <tr>\n",
       "      <th>West Virginia</th>\n",
       "      <td>2.0</td>\n",
       "      <td>5.0</td>\n",
       "      <td>8.0</td>\n",
       "    </tr>\n",
       "    <tr>\n",
       "      <th>Wyoming</th>\n",
       "      <td>48.0</td>\n",
       "      <td>37.0</td>\n",
       "      <td>76.0</td>\n",
       "    </tr>\n",
       "    <tr>\n",
       "      <th>Rhode Island</th>\n",
       "      <td>0.0</td>\n",
       "      <td>7.0</td>\n",
       "      <td>38.0</td>\n",
       "    </tr>\n",
       "    <tr>\n",
       "      <th>District of Columbia</th>\n",
       "      <td>0.0</td>\n",
       "      <td>0.0</td>\n",
       "      <td>3.0</td>\n",
       "    </tr>\n",
       "    <tr>\n",
       "      <th>All</th>\n",
       "      <td>5853.0</td>\n",
       "      <td>9019.0</td>\n",
       "      <td>10700.0</td>\n",
       "    </tr>\n",
       "  </tbody>\n",
       "</table>\n",
       "</div>"
      ],
      "text/plain": [
       "                        2016    2017     2018\n",
       "West Virginia            2.0     5.0      8.0\n",
       "Wyoming                 48.0    37.0     76.0\n",
       "Rhode Island             0.0     7.0     38.0\n",
       "District of Columbia     0.0     0.0      3.0\n",
       "All                   5853.0  9019.0  10700.0"
      ]
     },
     "execution_count": 35,
     "metadata": {},
     "output_type": "execute_result"
    }
   ],
   "source": [
    "Data_grouped_sum3 = Data_grouped_sum2.copy()\n",
    "for state in Data_grouped_sum3.index :\n",
    "    for i in range (len(statecode)):\n",
    "        if statecode[i] == state:\n",
    "            Data_grouped_sum3 = Data_grouped_sum3.rename(index={state:statelist[i]})   \n",
    "Data_grouped_sum3 = Data_grouped_sum3.loc[:,['2016','2017','2018']]\n",
    "Data_grouped_sum3 = Data_grouped_sum3.fillna(0)\n",
    "add2 = Data_grouped_sum3.sum(axis = 0) \n",
    "Data_grouped_sum3.loc['All'] = [add2[0], add2[1], add2[2]]\n",
    "Data_grouped_sum3.tail()"
   ]
  },
  {
   "cell_type": "markdown",
   "metadata": {},
   "source": [
    "## Instagram Check-ins Database"
   ]
  },
  {
   "cell_type": "code",
   "execution_count": 45,
   "metadata": {},
   "outputs": [
    {
     "name": "stdout",
     "output_type": "stream",
     "text": [
      "Welcome to US Popular Place to Check-ins Database\n",
      "\n",
      "1. Geomap of Total Check-ins by each state\n",
      "2. Total Check-ins by each state from JAN2016 to OCT2019\n",
      "3. Top Popular Check-ins\n",
      "4. Geomap of Top Popular Check-ins\n",
      "5. Check-ins vs US Index\n",
      "6. Check-ins vs Temperature\n",
      "7. Check-ins vs Crime Rate\n",
      "8. State name sheet\n",
      "q. Quit the program\n",
      "\n",
      "Please type \"8\" for each state name for input\n",
      "\n",
      "Make a selection: 1\n",
      "\n",
      "Input can be year(2016-2019), season(Spring,Summer,Fall,Winter) and month(JAN-DEC)\n",
      "Type \"Total\" for all data from 2016-2019\n",
      "\n",
      "Enter input : Total\n",
      "Data from 01/01/2016 to 10/29/2019\n"
     ]
    },
    {
     "data": {
      "application/vnd.plotly.v1+json": {
       "config": {
        "plotlyServerURL": "https://plot.ly"
       },
       "data": [
        {
         "colorbar": {
          "title": {
           "text": "Number of Check-ins"
          }
         },
         "colorscale": [
          [
           0,
           "rgb(247,252,245)"
          ],
          [
           0.125,
           "rgb(229,245,224)"
          ],
          [
           0.25,
           "rgb(199,233,192)"
          ],
          [
           0.375,
           "rgb(161,217,155)"
          ],
          [
           0.5,
           "rgb(116,196,118)"
          ],
          [
           0.625,
           "rgb(65,171,93)"
          ],
          [
           0.75,
           "rgb(35,139,69)"
          ],
          [
           0.875,
           "rgb(0,109,44)"
          ],
          [
           1,
           "rgb(0,68,27)"
          ]
         ],
         "locationmode": "USA-states",
         "locations": [
          "AK",
          "AL",
          "AR",
          "AZ",
          "CA",
          "CO",
          "CT",
          "DC",
          "DE",
          "FL",
          "GA",
          "HI",
          "IA",
          "ID",
          "IL",
          "IN",
          "KS",
          "KY",
          "LA",
          "MA",
          "MD",
          "ME",
          "MI",
          "MN",
          "MO",
          "MS",
          "MT",
          "NC",
          "ND",
          "NE",
          "NH",
          "NJ",
          "NM",
          "NV",
          "NY",
          "OH",
          "OK",
          "OR",
          "PA",
          "RI",
          "SC",
          "SD",
          "TN",
          "TX",
          "UT",
          "VA",
          "VT",
          "WA",
          "WI",
          "WV",
          "WY"
         ],
         "type": "choropleth",
         "z": [
          45,
          53,
          28,
          2436,
          10393,
          379,
          109,
          11,
          16,
          1974,
          328,
          320,
          38,
          43,
          1054,
          51,
          31,
          37,
          266,
          874,
          215,
          91,
          324,
          138,
          172,
          32,
          42,
          161,
          26,
          28,
          49,
          396,
          120,
          1857,
          5884,
          177,
          63,
          315,
          607,
          64,
          105,
          60,
          182,
          781,
          1026,
          267,
          42,
          2085,
          114,
          20,
          230
         ]
        }
       ],
       "layout": {
        "geo": {
         "scope": "usa"
        },
        "template": {
         "data": {
          "bar": [
           {
            "error_x": {
             "color": "#2a3f5f"
            },
            "error_y": {
             "color": "#2a3f5f"
            },
            "marker": {
             "line": {
              "color": "#E5ECF6",
              "width": 0.5
             }
            },
            "type": "bar"
           }
          ],
          "barpolar": [
           {
            "marker": {
             "line": {
              "color": "#E5ECF6",
              "width": 0.5
             }
            },
            "type": "barpolar"
           }
          ],
          "carpet": [
           {
            "aaxis": {
             "endlinecolor": "#2a3f5f",
             "gridcolor": "white",
             "linecolor": "white",
             "minorgridcolor": "white",
             "startlinecolor": "#2a3f5f"
            },
            "baxis": {
             "endlinecolor": "#2a3f5f",
             "gridcolor": "white",
             "linecolor": "white",
             "minorgridcolor": "white",
             "startlinecolor": "#2a3f5f"
            },
            "type": "carpet"
           }
          ],
          "choropleth": [
           {
            "colorbar": {
             "outlinewidth": 0,
             "ticks": ""
            },
            "type": "choropleth"
           }
          ],
          "contour": [
           {
            "colorbar": {
             "outlinewidth": 0,
             "ticks": ""
            },
            "colorscale": [
             [
              0,
              "#0d0887"
             ],
             [
              0.1111111111111111,
              "#46039f"
             ],
             [
              0.2222222222222222,
              "#7201a8"
             ],
             [
              0.3333333333333333,
              "#9c179e"
             ],
             [
              0.4444444444444444,
              "#bd3786"
             ],
             [
              0.5555555555555556,
              "#d8576b"
             ],
             [
              0.6666666666666666,
              "#ed7953"
             ],
             [
              0.7777777777777778,
              "#fb9f3a"
             ],
             [
              0.8888888888888888,
              "#fdca26"
             ],
             [
              1,
              "#f0f921"
             ]
            ],
            "type": "contour"
           }
          ],
          "contourcarpet": [
           {
            "colorbar": {
             "outlinewidth": 0,
             "ticks": ""
            },
            "type": "contourcarpet"
           }
          ],
          "heatmap": [
           {
            "colorbar": {
             "outlinewidth": 0,
             "ticks": ""
            },
            "colorscale": [
             [
              0,
              "#0d0887"
             ],
             [
              0.1111111111111111,
              "#46039f"
             ],
             [
              0.2222222222222222,
              "#7201a8"
             ],
             [
              0.3333333333333333,
              "#9c179e"
             ],
             [
              0.4444444444444444,
              "#bd3786"
             ],
             [
              0.5555555555555556,
              "#d8576b"
             ],
             [
              0.6666666666666666,
              "#ed7953"
             ],
             [
              0.7777777777777778,
              "#fb9f3a"
             ],
             [
              0.8888888888888888,
              "#fdca26"
             ],
             [
              1,
              "#f0f921"
             ]
            ],
            "type": "heatmap"
           }
          ],
          "heatmapgl": [
           {
            "colorbar": {
             "outlinewidth": 0,
             "ticks": ""
            },
            "colorscale": [
             [
              0,
              "#0d0887"
             ],
             [
              0.1111111111111111,
              "#46039f"
             ],
             [
              0.2222222222222222,
              "#7201a8"
             ],
             [
              0.3333333333333333,
              "#9c179e"
             ],
             [
              0.4444444444444444,
              "#bd3786"
             ],
             [
              0.5555555555555556,
              "#d8576b"
             ],
             [
              0.6666666666666666,
              "#ed7953"
             ],
             [
              0.7777777777777778,
              "#fb9f3a"
             ],
             [
              0.8888888888888888,
              "#fdca26"
             ],
             [
              1,
              "#f0f921"
             ]
            ],
            "type": "heatmapgl"
           }
          ],
          "histogram": [
           {
            "marker": {
             "colorbar": {
              "outlinewidth": 0,
              "ticks": ""
             }
            },
            "type": "histogram"
           }
          ],
          "histogram2d": [
           {
            "colorbar": {
             "outlinewidth": 0,
             "ticks": ""
            },
            "colorscale": [
             [
              0,
              "#0d0887"
             ],
             [
              0.1111111111111111,
              "#46039f"
             ],
             [
              0.2222222222222222,
              "#7201a8"
             ],
             [
              0.3333333333333333,
              "#9c179e"
             ],
             [
              0.4444444444444444,
              "#bd3786"
             ],
             [
              0.5555555555555556,
              "#d8576b"
             ],
             [
              0.6666666666666666,
              "#ed7953"
             ],
             [
              0.7777777777777778,
              "#fb9f3a"
             ],
             [
              0.8888888888888888,
              "#fdca26"
             ],
             [
              1,
              "#f0f921"
             ]
            ],
            "type": "histogram2d"
           }
          ],
          "histogram2dcontour": [
           {
            "colorbar": {
             "outlinewidth": 0,
             "ticks": ""
            },
            "colorscale": [
             [
              0,
              "#0d0887"
             ],
             [
              0.1111111111111111,
              "#46039f"
             ],
             [
              0.2222222222222222,
              "#7201a8"
             ],
             [
              0.3333333333333333,
              "#9c179e"
             ],
             [
              0.4444444444444444,
              "#bd3786"
             ],
             [
              0.5555555555555556,
              "#d8576b"
             ],
             [
              0.6666666666666666,
              "#ed7953"
             ],
             [
              0.7777777777777778,
              "#fb9f3a"
             ],
             [
              0.8888888888888888,
              "#fdca26"
             ],
             [
              1,
              "#f0f921"
             ]
            ],
            "type": "histogram2dcontour"
           }
          ],
          "mesh3d": [
           {
            "colorbar": {
             "outlinewidth": 0,
             "ticks": ""
            },
            "type": "mesh3d"
           }
          ],
          "parcoords": [
           {
            "line": {
             "colorbar": {
              "outlinewidth": 0,
              "ticks": ""
             }
            },
            "type": "parcoords"
           }
          ],
          "scatter": [
           {
            "marker": {
             "colorbar": {
              "outlinewidth": 0,
              "ticks": ""
             }
            },
            "type": "scatter"
           }
          ],
          "scatter3d": [
           {
            "line": {
             "colorbar": {
              "outlinewidth": 0,
              "ticks": ""
             }
            },
            "marker": {
             "colorbar": {
              "outlinewidth": 0,
              "ticks": ""
             }
            },
            "type": "scatter3d"
           }
          ],
          "scattercarpet": [
           {
            "marker": {
             "colorbar": {
              "outlinewidth": 0,
              "ticks": ""
             }
            },
            "type": "scattercarpet"
           }
          ],
          "scattergeo": [
           {
            "marker": {
             "colorbar": {
              "outlinewidth": 0,
              "ticks": ""
             }
            },
            "type": "scattergeo"
           }
          ],
          "scattergl": [
           {
            "marker": {
             "colorbar": {
              "outlinewidth": 0,
              "ticks": ""
             }
            },
            "type": "scattergl"
           }
          ],
          "scattermapbox": [
           {
            "marker": {
             "colorbar": {
              "outlinewidth": 0,
              "ticks": ""
             }
            },
            "type": "scattermapbox"
           }
          ],
          "scatterpolar": [
           {
            "marker": {
             "colorbar": {
              "outlinewidth": 0,
              "ticks": ""
             }
            },
            "type": "scatterpolar"
           }
          ],
          "scatterpolargl": [
           {
            "marker": {
             "colorbar": {
              "outlinewidth": 0,
              "ticks": ""
             }
            },
            "type": "scatterpolargl"
           }
          ],
          "scatterternary": [
           {
            "marker": {
             "colorbar": {
              "outlinewidth": 0,
              "ticks": ""
             }
            },
            "type": "scatterternary"
           }
          ],
          "surface": [
           {
            "colorbar": {
             "outlinewidth": 0,
             "ticks": ""
            },
            "colorscale": [
             [
              0,
              "#0d0887"
             ],
             [
              0.1111111111111111,
              "#46039f"
             ],
             [
              0.2222222222222222,
              "#7201a8"
             ],
             [
              0.3333333333333333,
              "#9c179e"
             ],
             [
              0.4444444444444444,
              "#bd3786"
             ],
             [
              0.5555555555555556,
              "#d8576b"
             ],
             [
              0.6666666666666666,
              "#ed7953"
             ],
             [
              0.7777777777777778,
              "#fb9f3a"
             ],
             [
              0.8888888888888888,
              "#fdca26"
             ],
             [
              1,
              "#f0f921"
             ]
            ],
            "type": "surface"
           }
          ],
          "table": [
           {
            "cells": {
             "fill": {
              "color": "#EBF0F8"
             },
             "line": {
              "color": "white"
             }
            },
            "header": {
             "fill": {
              "color": "#C8D4E3"
             },
             "line": {
              "color": "white"
             }
            },
            "type": "table"
           }
          ]
         },
         "layout": {
          "annotationdefaults": {
           "arrowcolor": "#2a3f5f",
           "arrowhead": 0,
           "arrowwidth": 1
          },
          "colorscale": {
           "diverging": [
            [
             0,
             "#8e0152"
            ],
            [
             0.1,
             "#c51b7d"
            ],
            [
             0.2,
             "#de77ae"
            ],
            [
             0.3,
             "#f1b6da"
            ],
            [
             0.4,
             "#fde0ef"
            ],
            [
             0.5,
             "#f7f7f7"
            ],
            [
             0.6,
             "#e6f5d0"
            ],
            [
             0.7,
             "#b8e186"
            ],
            [
             0.8,
             "#7fbc41"
            ],
            [
             0.9,
             "#4d9221"
            ],
            [
             1,
             "#276419"
            ]
           ],
           "sequential": [
            [
             0,
             "#0d0887"
            ],
            [
             0.1111111111111111,
             "#46039f"
            ],
            [
             0.2222222222222222,
             "#7201a8"
            ],
            [
             0.3333333333333333,
             "#9c179e"
            ],
            [
             0.4444444444444444,
             "#bd3786"
            ],
            [
             0.5555555555555556,
             "#d8576b"
            ],
            [
             0.6666666666666666,
             "#ed7953"
            ],
            [
             0.7777777777777778,
             "#fb9f3a"
            ],
            [
             0.8888888888888888,
             "#fdca26"
            ],
            [
             1,
             "#f0f921"
            ]
           ],
           "sequentialminus": [
            [
             0,
             "#0d0887"
            ],
            [
             0.1111111111111111,
             "#46039f"
            ],
            [
             0.2222222222222222,
             "#7201a8"
            ],
            [
             0.3333333333333333,
             "#9c179e"
            ],
            [
             0.4444444444444444,
             "#bd3786"
            ],
            [
             0.5555555555555556,
             "#d8576b"
            ],
            [
             0.6666666666666666,
             "#ed7953"
            ],
            [
             0.7777777777777778,
             "#fb9f3a"
            ],
            [
             0.8888888888888888,
             "#fdca26"
            ],
            [
             1,
             "#f0f921"
            ]
           ]
          },
          "colorway": [
           "#636efa",
           "#EF553B",
           "#00cc96",
           "#ab63fa",
           "#FFA15A",
           "#19d3f3",
           "#FF6692",
           "#B6E880",
           "#FF97FF",
           "#FECB52"
          ],
          "font": {
           "color": "#2a3f5f"
          },
          "geo": {
           "bgcolor": "white",
           "lakecolor": "white",
           "landcolor": "#E5ECF6",
           "showlakes": true,
           "showland": true,
           "subunitcolor": "white"
          },
          "hoverlabel": {
           "align": "left"
          },
          "hovermode": "closest",
          "mapbox": {
           "style": "light"
          },
          "paper_bgcolor": "white",
          "plot_bgcolor": "#E5ECF6",
          "polar": {
           "angularaxis": {
            "gridcolor": "white",
            "linecolor": "white",
            "ticks": ""
           },
           "bgcolor": "#E5ECF6",
           "radialaxis": {
            "gridcolor": "white",
            "linecolor": "white",
            "ticks": ""
           }
          },
          "scene": {
           "xaxis": {
            "backgroundcolor": "#E5ECF6",
            "gridcolor": "white",
            "gridwidth": 2,
            "linecolor": "white",
            "showbackground": true,
            "ticks": "",
            "zerolinecolor": "white"
           },
           "yaxis": {
            "backgroundcolor": "#E5ECF6",
            "gridcolor": "white",
            "gridwidth": 2,
            "linecolor": "white",
            "showbackground": true,
            "ticks": "",
            "zerolinecolor": "white"
           },
           "zaxis": {
            "backgroundcolor": "#E5ECF6",
            "gridcolor": "white",
            "gridwidth": 2,
            "linecolor": "white",
            "showbackground": true,
            "ticks": "",
            "zerolinecolor": "white"
           }
          },
          "shapedefaults": {
           "line": {
            "color": "#2a3f5f"
           }
          },
          "ternary": {
           "aaxis": {
            "gridcolor": "white",
            "linecolor": "white",
            "ticks": ""
           },
           "baxis": {
            "gridcolor": "white",
            "linecolor": "white",
            "ticks": ""
           },
           "bgcolor": "#E5ECF6",
           "caxis": {
            "gridcolor": "white",
            "linecolor": "white",
            "ticks": ""
           }
          },
          "title": {
           "x": 0.05
          },
          "xaxis": {
           "automargin": true,
           "gridcolor": "white",
           "linecolor": "white",
           "ticks": "",
           "zerolinecolor": "white",
           "zerolinewidth": 2
          },
          "yaxis": {
           "automargin": true,
           "gridcolor": "white",
           "linecolor": "white",
           "ticks": "",
           "zerolinecolor": "white",
           "zerolinewidth": 2
          }
         }
        },
        "title": {
         "text": "TOTAL Number of Instagram Check-ins"
        }
       }
      },
      "text/html": [
       "<div>\n",
       "        \n",
       "        \n",
       "            <div id=\"ced37058-56a7-4f86-a282-55690f03dce3\" class=\"plotly-graph-div\" style=\"height:525px; width:100%;\"></div>\n",
       "            <script type=\"text/javascript\">\n",
       "                require([\"plotly\"], function(Plotly) {\n",
       "                    window.PLOTLYENV=window.PLOTLYENV || {};\n",
       "                    \n",
       "                if (document.getElementById(\"ced37058-56a7-4f86-a282-55690f03dce3\")) {\n",
       "                    Plotly.newPlot(\n",
       "                        'ced37058-56a7-4f86-a282-55690f03dce3',\n",
       "                        [{\"colorbar\": {\"title\": {\"text\": \"Number of Check-ins\"}}, \"colorscale\": [[0.0, \"rgb(247,252,245)\"], [0.125, \"rgb(229,245,224)\"], [0.25, \"rgb(199,233,192)\"], [0.375, \"rgb(161,217,155)\"], [0.5, \"rgb(116,196,118)\"], [0.625, \"rgb(65,171,93)\"], [0.75, \"rgb(35,139,69)\"], [0.875, \"rgb(0,109,44)\"], [1.0, \"rgb(0,68,27)\"]], \"locationmode\": \"USA-states\", \"locations\": [\"AK\", \"AL\", \"AR\", \"AZ\", \"CA\", \"CO\", \"CT\", \"DC\", \"DE\", \"FL\", \"GA\", \"HI\", \"IA\", \"ID\", \"IL\", \"IN\", \"KS\", \"KY\", \"LA\", \"MA\", \"MD\", \"ME\", \"MI\", \"MN\", \"MO\", \"MS\", \"MT\", \"NC\", \"ND\", \"NE\", \"NH\", \"NJ\", \"NM\", \"NV\", \"NY\", \"OH\", \"OK\", \"OR\", \"PA\", \"RI\", \"SC\", \"SD\", \"TN\", \"TX\", \"UT\", \"VA\", \"VT\", \"WA\", \"WI\", \"WV\", \"WY\"], \"type\": \"choropleth\", \"z\": [45.0, 53.0, 28.0, 2436.0, 10393.0, 379.0, 109.0, 11.0, 16.0, 1974.0, 328.0, 320.0, 38.0, 43.0, 1054.0, 51.0, 31.0, 37.0, 266.0, 874.0, 215.0, 91.0, 324.0, 138.0, 172.0, 32.0, 42.0, 161.0, 26.0, 28.0, 49.0, 396.0, 120.0, 1857.0, 5884.0, 177.0, 63.0, 315.0, 607.0, 64.0, 105.0, 60.0, 182.0, 781.0, 1026.0, 267.0, 42.0, 2085.0, 114.0, 20.0, 230.0]}],\n",
       "                        {\"geo\": {\"scope\": \"usa\"}, \"template\": {\"data\": {\"bar\": [{\"error_x\": {\"color\": \"#2a3f5f\"}, \"error_y\": {\"color\": \"#2a3f5f\"}, \"marker\": {\"line\": {\"color\": \"#E5ECF6\", \"width\": 0.5}}, \"type\": \"bar\"}], \"barpolar\": [{\"marker\": {\"line\": {\"color\": \"#E5ECF6\", \"width\": 0.5}}, \"type\": \"barpolar\"}], \"carpet\": [{\"aaxis\": {\"endlinecolor\": \"#2a3f5f\", \"gridcolor\": \"white\", \"linecolor\": \"white\", \"minorgridcolor\": \"white\", \"startlinecolor\": \"#2a3f5f\"}, \"baxis\": {\"endlinecolor\": \"#2a3f5f\", \"gridcolor\": \"white\", \"linecolor\": \"white\", \"minorgridcolor\": \"white\", \"startlinecolor\": \"#2a3f5f\"}, \"type\": \"carpet\"}], \"choropleth\": [{\"colorbar\": {\"outlinewidth\": 0, \"ticks\": \"\"}, \"type\": \"choropleth\"}], \"contour\": [{\"colorbar\": {\"outlinewidth\": 0, \"ticks\": \"\"}, \"colorscale\": [[0.0, \"#0d0887\"], [0.1111111111111111, \"#46039f\"], [0.2222222222222222, \"#7201a8\"], [0.3333333333333333, \"#9c179e\"], [0.4444444444444444, \"#bd3786\"], [0.5555555555555556, \"#d8576b\"], [0.6666666666666666, \"#ed7953\"], [0.7777777777777778, \"#fb9f3a\"], [0.8888888888888888, \"#fdca26\"], [1.0, \"#f0f921\"]], \"type\": \"contour\"}], \"contourcarpet\": [{\"colorbar\": {\"outlinewidth\": 0, \"ticks\": \"\"}, \"type\": \"contourcarpet\"}], \"heatmap\": [{\"colorbar\": {\"outlinewidth\": 0, \"ticks\": \"\"}, \"colorscale\": [[0.0, \"#0d0887\"], [0.1111111111111111, \"#46039f\"], [0.2222222222222222, \"#7201a8\"], [0.3333333333333333, \"#9c179e\"], [0.4444444444444444, \"#bd3786\"], [0.5555555555555556, \"#d8576b\"], [0.6666666666666666, \"#ed7953\"], [0.7777777777777778, \"#fb9f3a\"], [0.8888888888888888, \"#fdca26\"], [1.0, \"#f0f921\"]], \"type\": \"heatmap\"}], \"heatmapgl\": [{\"colorbar\": {\"outlinewidth\": 0, \"ticks\": \"\"}, \"colorscale\": [[0.0, \"#0d0887\"], [0.1111111111111111, \"#46039f\"], [0.2222222222222222, \"#7201a8\"], [0.3333333333333333, \"#9c179e\"], [0.4444444444444444, \"#bd3786\"], [0.5555555555555556, \"#d8576b\"], [0.6666666666666666, \"#ed7953\"], [0.7777777777777778, \"#fb9f3a\"], [0.8888888888888888, \"#fdca26\"], [1.0, \"#f0f921\"]], \"type\": \"heatmapgl\"}], \"histogram\": [{\"marker\": {\"colorbar\": {\"outlinewidth\": 0, \"ticks\": \"\"}}, \"type\": \"histogram\"}], \"histogram2d\": [{\"colorbar\": {\"outlinewidth\": 0, \"ticks\": \"\"}, \"colorscale\": [[0.0, \"#0d0887\"], [0.1111111111111111, \"#46039f\"], [0.2222222222222222, \"#7201a8\"], [0.3333333333333333, \"#9c179e\"], [0.4444444444444444, \"#bd3786\"], [0.5555555555555556, \"#d8576b\"], [0.6666666666666666, \"#ed7953\"], [0.7777777777777778, \"#fb9f3a\"], [0.8888888888888888, \"#fdca26\"], [1.0, \"#f0f921\"]], \"type\": \"histogram2d\"}], \"histogram2dcontour\": [{\"colorbar\": {\"outlinewidth\": 0, \"ticks\": \"\"}, \"colorscale\": [[0.0, \"#0d0887\"], [0.1111111111111111, \"#46039f\"], [0.2222222222222222, \"#7201a8\"], [0.3333333333333333, \"#9c179e\"], [0.4444444444444444, \"#bd3786\"], [0.5555555555555556, \"#d8576b\"], [0.6666666666666666, \"#ed7953\"], [0.7777777777777778, \"#fb9f3a\"], [0.8888888888888888, \"#fdca26\"], [1.0, \"#f0f921\"]], \"type\": \"histogram2dcontour\"}], \"mesh3d\": [{\"colorbar\": {\"outlinewidth\": 0, \"ticks\": \"\"}, \"type\": \"mesh3d\"}], \"parcoords\": [{\"line\": {\"colorbar\": {\"outlinewidth\": 0, \"ticks\": \"\"}}, \"type\": \"parcoords\"}], \"scatter\": [{\"marker\": {\"colorbar\": {\"outlinewidth\": 0, \"ticks\": \"\"}}, \"type\": \"scatter\"}], \"scatter3d\": [{\"line\": {\"colorbar\": {\"outlinewidth\": 0, \"ticks\": \"\"}}, \"marker\": {\"colorbar\": {\"outlinewidth\": 0, \"ticks\": \"\"}}, \"type\": \"scatter3d\"}], \"scattercarpet\": [{\"marker\": {\"colorbar\": {\"outlinewidth\": 0, \"ticks\": \"\"}}, \"type\": \"scattercarpet\"}], \"scattergeo\": [{\"marker\": {\"colorbar\": {\"outlinewidth\": 0, \"ticks\": \"\"}}, \"type\": \"scattergeo\"}], \"scattergl\": [{\"marker\": {\"colorbar\": {\"outlinewidth\": 0, \"ticks\": \"\"}}, \"type\": \"scattergl\"}], \"scattermapbox\": [{\"marker\": {\"colorbar\": {\"outlinewidth\": 0, \"ticks\": \"\"}}, \"type\": \"scattermapbox\"}], \"scatterpolar\": [{\"marker\": {\"colorbar\": {\"outlinewidth\": 0, \"ticks\": \"\"}}, \"type\": \"scatterpolar\"}], \"scatterpolargl\": [{\"marker\": {\"colorbar\": {\"outlinewidth\": 0, \"ticks\": \"\"}}, \"type\": \"scatterpolargl\"}], \"scatterternary\": [{\"marker\": {\"colorbar\": {\"outlinewidth\": 0, \"ticks\": \"\"}}, \"type\": \"scatterternary\"}], \"surface\": [{\"colorbar\": {\"outlinewidth\": 0, \"ticks\": \"\"}, \"colorscale\": [[0.0, \"#0d0887\"], [0.1111111111111111, \"#46039f\"], [0.2222222222222222, \"#7201a8\"], [0.3333333333333333, \"#9c179e\"], [0.4444444444444444, \"#bd3786\"], [0.5555555555555556, \"#d8576b\"], [0.6666666666666666, \"#ed7953\"], [0.7777777777777778, \"#fb9f3a\"], [0.8888888888888888, \"#fdca26\"], [1.0, \"#f0f921\"]], \"type\": \"surface\"}], \"table\": [{\"cells\": {\"fill\": {\"color\": \"#EBF0F8\"}, \"line\": {\"color\": \"white\"}}, \"header\": {\"fill\": {\"color\": \"#C8D4E3\"}, \"line\": {\"color\": \"white\"}}, \"type\": \"table\"}]}, \"layout\": {\"annotationdefaults\": {\"arrowcolor\": \"#2a3f5f\", \"arrowhead\": 0, \"arrowwidth\": 1}, \"colorscale\": {\"diverging\": [[0, \"#8e0152\"], [0.1, \"#c51b7d\"], [0.2, \"#de77ae\"], [0.3, \"#f1b6da\"], [0.4, \"#fde0ef\"], [0.5, \"#f7f7f7\"], [0.6, \"#e6f5d0\"], [0.7, \"#b8e186\"], [0.8, \"#7fbc41\"], [0.9, \"#4d9221\"], [1, \"#276419\"]], \"sequential\": [[0.0, \"#0d0887\"], [0.1111111111111111, \"#46039f\"], [0.2222222222222222, \"#7201a8\"], [0.3333333333333333, \"#9c179e\"], [0.4444444444444444, \"#bd3786\"], [0.5555555555555556, \"#d8576b\"], [0.6666666666666666, \"#ed7953\"], [0.7777777777777778, \"#fb9f3a\"], [0.8888888888888888, \"#fdca26\"], [1.0, \"#f0f921\"]], \"sequentialminus\": [[0.0, \"#0d0887\"], [0.1111111111111111, \"#46039f\"], [0.2222222222222222, \"#7201a8\"], [0.3333333333333333, \"#9c179e\"], [0.4444444444444444, \"#bd3786\"], [0.5555555555555556, \"#d8576b\"], [0.6666666666666666, \"#ed7953\"], [0.7777777777777778, \"#fb9f3a\"], [0.8888888888888888, \"#fdca26\"], [1.0, \"#f0f921\"]]}, \"colorway\": [\"#636efa\", \"#EF553B\", \"#00cc96\", \"#ab63fa\", \"#FFA15A\", \"#19d3f3\", \"#FF6692\", \"#B6E880\", \"#FF97FF\", \"#FECB52\"], \"font\": {\"color\": \"#2a3f5f\"}, \"geo\": {\"bgcolor\": \"white\", \"lakecolor\": \"white\", \"landcolor\": \"#E5ECF6\", \"showlakes\": true, \"showland\": true, \"subunitcolor\": \"white\"}, \"hoverlabel\": {\"align\": \"left\"}, \"hovermode\": \"closest\", \"mapbox\": {\"style\": \"light\"}, \"paper_bgcolor\": \"white\", \"plot_bgcolor\": \"#E5ECF6\", \"polar\": {\"angularaxis\": {\"gridcolor\": \"white\", \"linecolor\": \"white\", \"ticks\": \"\"}, \"bgcolor\": \"#E5ECF6\", \"radialaxis\": {\"gridcolor\": \"white\", \"linecolor\": \"white\", \"ticks\": \"\"}}, \"scene\": {\"xaxis\": {\"backgroundcolor\": \"#E5ECF6\", \"gridcolor\": \"white\", \"gridwidth\": 2, \"linecolor\": \"white\", \"showbackground\": true, \"ticks\": \"\", \"zerolinecolor\": \"white\"}, \"yaxis\": {\"backgroundcolor\": \"#E5ECF6\", \"gridcolor\": \"white\", \"gridwidth\": 2, \"linecolor\": \"white\", \"showbackground\": true, \"ticks\": \"\", \"zerolinecolor\": \"white\"}, \"zaxis\": {\"backgroundcolor\": \"#E5ECF6\", \"gridcolor\": \"white\", \"gridwidth\": 2, \"linecolor\": \"white\", \"showbackground\": true, \"ticks\": \"\", \"zerolinecolor\": \"white\"}}, \"shapedefaults\": {\"line\": {\"color\": \"#2a3f5f\"}}, \"ternary\": {\"aaxis\": {\"gridcolor\": \"white\", \"linecolor\": \"white\", \"ticks\": \"\"}, \"baxis\": {\"gridcolor\": \"white\", \"linecolor\": \"white\", \"ticks\": \"\"}, \"bgcolor\": \"#E5ECF6\", \"caxis\": {\"gridcolor\": \"white\", \"linecolor\": \"white\", \"ticks\": \"\"}}, \"title\": {\"x\": 0.05}, \"xaxis\": {\"automargin\": true, \"gridcolor\": \"white\", \"linecolor\": \"white\", \"ticks\": \"\", \"zerolinecolor\": \"white\", \"zerolinewidth\": 2}, \"yaxis\": {\"automargin\": true, \"gridcolor\": \"white\", \"linecolor\": \"white\", \"ticks\": \"\", \"zerolinecolor\": \"white\", \"zerolinewidth\": 2}}}, \"title\": {\"text\": \"TOTAL Number of Instagram Check-ins\"}},\n",
       "                        {\"responsive\": true}\n",
       "                    ).then(function(){\n",
       "                            \n",
       "var gd = document.getElementById('ced37058-56a7-4f86-a282-55690f03dce3');\n",
       "var x = new MutationObserver(function (mutations, observer) {{\n",
       "        var display = window.getComputedStyle(gd).display;\n",
       "        if (!display || display === 'none') {{\n",
       "            console.log([gd, 'removed!']);\n",
       "            Plotly.purge(gd);\n",
       "            observer.disconnect();\n",
       "        }}\n",
       "}});\n",
       "\n",
       "// Listen for the removal of the full notebook cells\n",
       "var notebookContainer = gd.closest('#notebook-container');\n",
       "if (notebookContainer) {{\n",
       "    x.observe(notebookContainer, {childList: true});\n",
       "}}\n",
       "\n",
       "// Listen for the clearing of the current output cell\n",
       "var outputEl = gd.closest('.output');\n",
       "if (outputEl) {{\n",
       "    x.observe(outputEl, {childList: true});\n",
       "}}\n",
       "\n",
       "                        })\n",
       "                };\n",
       "                });\n",
       "            </script>\n",
       "        </div>"
      ]
     },
     "metadata": {},
     "output_type": "display_data"
    },
    {
     "name": "stdout",
     "output_type": "stream",
     "text": [
      "\n",
      "1. Geomap of Total Check-ins by each state\n",
      "2. Total Check-ins by each state from JAN2016 to OCT2019\n",
      "3. Top Popular Check-ins\n",
      "4. Geomap of Top Popular Check-ins\n",
      "5. Check-ins vs US Index\n",
      "6. Check-ins vs Temperature\n",
      "7. Check-ins vs Crime Rate\n",
      "8. State name sheet\n",
      "q. Quit the program\n",
      "\n",
      "Please type \"8\" for each state name for input\n",
      "\n",
      "Make a selection: 2\n",
      "\n",
      "Input State name starting with Capital Letter (input 'All' to see all state)\n",
      "For State name guideline, please selection \"8\" on the main menu\n",
      "\n",
      "Enter State : All\n"
     ]
    },
    {
     "data": {
      "image/png": "[encoded data removed]",
      "text/plain": [
       "<Figure size 1152x720 with 1 Axes>"
      ]
     },
     "metadata": {},
     "output_type": "display_data"
    },
    {
     "name": "stdout",
     "output_type": "stream",
     "text": [
      "\n",
      "1. Geomap of Total Check-ins by each state\n",
      "2. Total Check-ins by each state from JAN2016 to OCT2019\n",
      "3. Top Popular Check-ins\n",
      "4. Geomap of Top Popular Check-ins\n",
      "5. Check-ins vs US Index\n",
      "6. Check-ins vs Temperature\n",
      "7. Check-ins vs Crime Rate\n",
      "8. State name sheet\n",
      "q. Quit the program\n",
      "\n",
      "Please type \"8\" for each state name for input\n",
      "\n",
      "Make a selection: 3\n",
      "\n",
      "Input Season (input 'All' to see all season)\n",
      "\n",
      "Enter Season (Spring,Summer,Fall,Winter) : All\n",
      "\n",
      "Input State name starting with Capital Letter (input 'All' to see all state)\n",
      "For State name guideline, please selection \"8\" on the main menu\n",
      "\n",
      "Enter State : All\n",
      "\n",
      "Input Number of Place to show\n",
      "\n",
      "Enter number : 10\n",
      "Top 10 Poplular Place Check-ins from 01/01/2016 to 10/29/2019 of All\n",
      "                                                         State  Total\n",
      "Address                                                              \n",
      "New York, United States of America                    New York   1017\n",
      "San Francisco, San Francisco City and County, C...  California    965\n",
      "Grand Canyon National Park, Havasu Canyon Trail...     Arizona    637\n",
      "Los Angeles, Los Angeles County, California, Un...  California    600\n",
      "Las Vegas, Clark County, Nevada, United States          Nevada    584\n",
      "Times Square, West 44th Street, Times Square, T...    New York    546\n",
      "Golden Gate Bridge, Redwood Highway, Waldo, Mar...  California    510\n",
      "Washington, District of Columbia, United States...  Washington    456\n",
      "Brooklyn Bridge, DUMBO, Brooklyn, Kings County,...    New York    420\n",
      "Yosemite National Park, PO box 577, Village Dri...  California    395\n",
      "\n",
      "1. Geomap of Total Check-ins by each state\n",
      "2. Total Check-ins by each state from JAN2016 to OCT2019\n",
      "3. Top Popular Check-ins\n",
      "4. Geomap of Top Popular Check-ins\n",
      "5. Check-ins vs US Index\n",
      "6. Check-ins vs Temperature\n",
      "7. Check-ins vs Crime Rate\n",
      "8. State name sheet\n",
      "q. Quit the program\n",
      "\n",
      "Please type \"8\" for each state name for input\n",
      "\n",
      "Make a selection: 4\n",
      "\n",
      "Input Season (input 'All' to see all season)\n",
      "\n",
      "Enter Season (Spring,Summer,Fall,Winter) : All\n",
      "\n",
      "Input State name starting with Capital Letter (input 'All' to see all state)\n",
      "For State name guideline, please selection \"8\" on the main menu\n",
      "\n",
      "Enter State : All\n",
      "\n",
      "Input Number of Place to show\n",
      "\n",
      "Enter number : 10\n"
     ]
    },
    {
     "data": {
      "application/vnd.plotly.v1+json": {
       "config": {
        "plotlyServerURL": "https://plot.ly"
       },
       "data": [
        {
         "lat": [
          40.7127281,
          37.7792808,
          36.30785475,
          34.0536909,
          36.1662859,
          40.75728055,
          37.8176155,
          38.8950092,
          40.7010428,
          37.84054795
         ],
         "locationmode": "USA-states",
         "lon": [
          -74.0060152,
          -122.4192363,
          -112.29289603702401,
          -118.2427666,
          -115.149225,
          -73.98585503545921,
          -122.478312403719,
          -77.0365625,
          -73.9903534,
          -119.516587798025
         ],
         "marker": {
          "autocolorscale": false,
          "cmax": 1017,
          "color": [
           1017,
           965,
           637,
           600,
           584,
           546,
           510,
           456,
           420,
           395
          ],
          "colorbar": {
           "title": {
            "text": "Number of Check-ins"
           }
          },
          "colorscale": [
           [
            0,
            "rgb(150,0,90)"
           ],
           [
            0.125,
            "rgb(0, 0, 200)"
           ],
           [
            0.25,
            "rgb(0, 25, 255)"
           ],
           [
            0.375,
            "rgb(0, 152, 255)"
           ],
           [
            0.5,
            "rgb(44, 255, 150)"
           ],
           [
            0.625,
            "rgb(151, 255, 0)"
           ],
           [
            0.75,
            "rgb(255, 234, 0)"
           ],
           [
            0.875,
            "rgb(255, 111, 0)"
           ],
           [
            1,
            "rgb(255, 0, 0)"
           ]
          ],
          "line": {
           "color": "rgba(102, 102, 102)",
           "width": 1
          },
          "opacity": 0.8,
          "reversescale": true,
          "size": 5
         },
         "mode": "markers",
         "text": [
          "New York, United States of America, New York, Check-ins: 1017",
          "San Francisco, San Francisco City and County, California, United States of America, California, Check-ins: 965",
          "Grand Canyon National Park, Havasu Canyon Trail, Supai, Coconino County, Arizona, United States, Arizona, Check-ins: 637",
          "Los Angeles, Los Angeles County, California, United States of America, California, Check-ins: 600",
          "Las Vegas, Clark County, Nevada, United States, Nevada, Check-ins: 584",
          "Times Square, West 44th Street, Times Square, Theater District, Manhattan Community Board 5, Manhattan, New York County, New York, 10036, United States of America, New York, Check-ins: 546",
          "Golden Gate Bridge, Redwood Highway, Waldo, Marin County, California, 94965, United States of America, California, Check-ins: 510",
          "Washington, District of Columbia, United States of America, Washington, Check-ins: 456",
          "Brooklyn Bridge, DUMBO, Brooklyn, Kings County, New York, 11201-1832, United States of America, New York, Check-ins: 420",
          "Yosemite National Park, PO box 577, Village Drive, Yosemite Village, Yosemite Valley, Mariposa County, California, 95389, United States, California, Check-ins: 395"
         ],
         "type": "scattergeo"
        }
       ],
       "layout": {
        "geo": {
         "countrycolor": "rgb(217, 217, 217)",
         "countrywidth": 0.5,
         "landcolor": "rgb(250, 250, 250)",
         "projection": {
          "type": "albers usa"
         },
         "scope": "usa",
         "showland": true,
         "subunitcolor": "rgb(217, 217, 217)",
         "subunitwidth": 0.5
        },
        "template": {
         "data": {
          "bar": [
           {
            "error_x": {
             "color": "#2a3f5f"
            },
            "error_y": {
             "color": "#2a3f5f"
            },
            "marker": {
             "line": {
              "color": "#E5ECF6",
              "width": 0.5
             }
            },
            "type": "bar"
           }
          ],
          "barpolar": [
           {
            "marker": {
             "line": {
              "color": "#E5ECF6",
              "width": 0.5
             }
            },
            "type": "barpolar"
           }
          ],
          "carpet": [
           {
            "aaxis": {
             "endlinecolor": "#2a3f5f",
             "gridcolor": "white",
             "linecolor": "white",
             "minorgridcolor": "white",
             "startlinecolor": "#2a3f5f"
            },
            "baxis": {
             "endlinecolor": "#2a3f5f",
             "gridcolor": "white",
             "linecolor": "white",
             "minorgridcolor": "white",
             "startlinecolor": "#2a3f5f"
            },
            "type": "carpet"
           }
          ],
          "choropleth": [
           {
            "colorbar": {
             "outlinewidth": 0,
             "ticks": ""
            },
            "type": "choropleth"
           }
          ],
          "contour": [
           {
            "colorbar": {
             "outlinewidth": 0,
             "ticks": ""
            },
            "colorscale": [
             [
              0,
              "#0d0887"
             ],
             [
              0.1111111111111111,
              "#46039f"
             ],
             [
              0.2222222222222222,
              "#7201a8"
             ],
             [
              0.3333333333333333,
              "#9c179e"
             ],
             [
              0.4444444444444444,
              "#bd3786"
             ],
             [
              0.5555555555555556,
              "#d8576b"
             ],
             [
              0.6666666666666666,
              "#ed7953"
             ],
             [
              0.7777777777777778,
              "#fb9f3a"
             ],
             [
              0.8888888888888888,
              "#fdca26"
             ],
             [
              1,
              "#f0f921"
             ]
            ],
            "type": "contour"
           }
          ],
          "contourcarpet": [
           {
            "colorbar": {
             "outlinewidth": 0,
             "ticks": ""
            },
            "type": "contourcarpet"
           }
          ],
          "heatmap": [
           {
            "colorbar": {
             "outlinewidth": 0,
             "ticks": ""
            },
            "colorscale": [
             [
              0,
              "#0d0887"
             ],
             [
              0.1111111111111111,
              "#46039f"
             ],
             [
              0.2222222222222222,
              "#7201a8"
             ],
             [
              0.3333333333333333,
              "#9c179e"
             ],
             [
              0.4444444444444444,
              "#bd3786"
             ],
             [
              0.5555555555555556,
              "#d8576b"
             ],
             [
              0.6666666666666666,
              "#ed7953"
             ],
             [
              0.7777777777777778,
              "#fb9f3a"
             ],
             [
              0.8888888888888888,
              "#fdca26"
             ],
             [
              1,
              "#f0f921"
             ]
            ],
            "type": "heatmap"
           }
          ],
          "heatmapgl": [
           {
            "colorbar": {
             "outlinewidth": 0,
             "ticks": ""
            },
            "colorscale": [
             [
              0,
              "#0d0887"
             ],
             [
              0.1111111111111111,
              "#46039f"
             ],
             [
              0.2222222222222222,
              "#7201a8"
             ],
             [
              0.3333333333333333,
              "#9c179e"
             ],
             [
              0.4444444444444444,
              "#bd3786"
             ],
             [
              0.5555555555555556,
              "#d8576b"
             ],
             [
              0.6666666666666666,
              "#ed7953"
             ],
             [
              0.7777777777777778,
              "#fb9f3a"
             ],
             [
              0.8888888888888888,
              "#fdca26"
             ],
             [
              1,
              "#f0f921"
             ]
            ],
            "type": "heatmapgl"
           }
          ],
          "histogram": [
           {
            "marker": {
             "colorbar": {
              "outlinewidth": 0,
              "ticks": ""
             }
            },
            "type": "histogram"
           }
          ],
          "histogram2d": [
           {
            "colorbar": {
             "outlinewidth": 0,
             "ticks": ""
            },
            "colorscale": [
             [
              0,
              "#0d0887"
             ],
             [
              0.1111111111111111,
              "#46039f"
             ],
             [
              0.2222222222222222,
              "#7201a8"
             ],
             [
              0.3333333333333333,
              "#9c179e"
             ],
             [
              0.4444444444444444,
              "#bd3786"
             ],
             [
              0.5555555555555556,
              "#d8576b"
             ],
             [
              0.6666666666666666,
              "#ed7953"
             ],
             [
              0.7777777777777778,
              "#fb9f3a"
             ],
             [
              0.8888888888888888,
              "#fdca26"
             ],
             [
              1,
              "#f0f921"
             ]
            ],
            "type": "histogram2d"
           }
          ],
          "histogram2dcontour": [
           {
            "colorbar": {
             "outlinewidth": 0,
             "ticks": ""
            },
            "colorscale": [
             [
              0,
              "#0d0887"
             ],
             [
              0.1111111111111111,
              "#46039f"
             ],
             [
              0.2222222222222222,
              "#7201a8"
             ],
             [
              0.3333333333333333,
              "#9c179e"
             ],
             [
              0.4444444444444444,
              "#bd3786"
             ],
             [
              0.5555555555555556,
              "#d8576b"
             ],
             [
              0.6666666666666666,
              "#ed7953"
             ],
             [
              0.7777777777777778,
              "#fb9f3a"
             ],
             [
              0.8888888888888888,
              "#fdca26"
             ],
             [
              1,
              "#f0f921"
             ]
            ],
            "type": "histogram2dcontour"
           }
          ],
          "mesh3d": [
           {
            "colorbar": {
             "outlinewidth": 0,
             "ticks": ""
            },
            "type": "mesh3d"
           }
          ],
          "parcoords": [
           {
            "line": {
             "colorbar": {
              "outlinewidth": 0,
              "ticks": ""
             }
            },
            "type": "parcoords"
           }
          ],
          "scatter": [
           {
            "marker": {
             "colorbar": {
              "outlinewidth": 0,
              "ticks": ""
             }
            },
            "type": "scatter"
           }
          ],
          "scatter3d": [
           {
            "line": {
             "colorbar": {
              "outlinewidth": 0,
              "ticks": ""
             }
            },
            "marker": {
             "colorbar": {
              "outlinewidth": 0,
              "ticks": ""
             }
            },
            "type": "scatter3d"
           }
          ],
          "scattercarpet": [
           {
            "marker": {
             "colorbar": {
              "outlinewidth": 0,
              "ticks": ""
             }
            },
            "type": "scattercarpet"
           }
          ],
          "scattergeo": [
           {
            "marker": {
             "colorbar": {
              "outlinewidth": 0,
              "ticks": ""
             }
            },
            "type": "scattergeo"
           }
          ],
          "scattergl": [
           {
            "marker": {
             "colorbar": {
              "outlinewidth": 0,
              "ticks": ""
             }
            },
            "type": "scattergl"
           }
          ],
          "scattermapbox": [
           {
            "marker": {
             "colorbar": {
              "outlinewidth": 0,
              "ticks": ""
             }
            },
            "type": "scattermapbox"
           }
          ],
          "scatterpolar": [
           {
            "marker": {
             "colorbar": {
              "outlinewidth": 0,
              "ticks": ""
             }
            },
            "type": "scatterpolar"
           }
          ],
          "scatterpolargl": [
           {
            "marker": {
             "colorbar": {
              "outlinewidth": 0,
              "ticks": ""
             }
            },
            "type": "scatterpolargl"
           }
          ],
          "scatterternary": [
           {
            "marker": {
             "colorbar": {
              "outlinewidth": 0,
              "ticks": ""
             }
            },
            "type": "scatterternary"
           }
          ],
          "surface": [
           {
            "colorbar": {
             "outlinewidth": 0,
             "ticks": ""
            },
            "colorscale": [
             [
              0,
              "#0d0887"
             ],
             [
              0.1111111111111111,
              "#46039f"
             ],
             [
              0.2222222222222222,
              "#7201a8"
             ],
             [
              0.3333333333333333,
              "#9c179e"
             ],
             [
              0.4444444444444444,
              "#bd3786"
             ],
             [
              0.5555555555555556,
              "#d8576b"
             ],
             [
              0.6666666666666666,
              "#ed7953"
             ],
             [
              0.7777777777777778,
              "#fb9f3a"
             ],
             [
              0.8888888888888888,
              "#fdca26"
             ],
             [
              1,
              "#f0f921"
             ]
            ],
            "type": "surface"
           }
          ],
          "table": [
           {
            "cells": {
             "fill": {
              "color": "#EBF0F8"
             },
             "line": {
              "color": "white"
             }
            },
            "header": {
             "fill": {
              "color": "#C8D4E3"
             },
             "line": {
              "color": "white"
             }
            },
            "type": "table"
           }
          ]
         },
         "layout": {
          "annotationdefaults": {
           "arrowcolor": "#2a3f5f",
           "arrowhead": 0,
           "arrowwidth": 1
          },
          "colorscale": {
           "diverging": [
            [
             0,
             "#8e0152"
            ],
            [
             0.1,
             "#c51b7d"
            ],
            [
             0.2,
             "#de77ae"
            ],
            [
             0.3,
             "#f1b6da"
            ],
            [
             0.4,
             "#fde0ef"
            ],
            [
             0.5,
             "#f7f7f7"
            ],
            [
             0.6,
             "#e6f5d0"
            ],
            [
             0.7,
             "#b8e186"
            ],
            [
             0.8,
             "#7fbc41"
            ],
            [
             0.9,
             "#4d9221"
            ],
            [
             1,
             "#276419"
            ]
           ],
           "sequential": [
            [
             0,
             "#0d0887"
            ],
            [
             0.1111111111111111,
             "#46039f"
            ],
            [
             0.2222222222222222,
             "#7201a8"
            ],
            [
             0.3333333333333333,
             "#9c179e"
            ],
            [
             0.4444444444444444,
             "#bd3786"
            ],
            [
             0.5555555555555556,
             "#d8576b"
            ],
            [
             0.6666666666666666,
             "#ed7953"
            ],
            [
             0.7777777777777778,
             "#fb9f3a"
            ],
            [
             0.8888888888888888,
             "#fdca26"
            ],
            [
             1,
             "#f0f921"
            ]
           ],
           "sequentialminus": [
            [
             0,
             "#0d0887"
            ],
            [
             0.1111111111111111,
             "#46039f"
            ],
            [
             0.2222222222222222,
             "#7201a8"
            ],
            [
             0.3333333333333333,
             "#9c179e"
            ],
            [
             0.4444444444444444,
             "#bd3786"
            ],
            [
             0.5555555555555556,
             "#d8576b"
            ],
            [
             0.6666666666666666,
             "#ed7953"
            ],
            [
             0.7777777777777778,
             "#fb9f3a"
            ],
            [
             0.8888888888888888,
             "#fdca26"
            ],
            [
             1,
             "#f0f921"
            ]
           ]
          },
          "colorway": [
           "#636efa",
           "#EF553B",
           "#00cc96",
           "#ab63fa",
           "#FFA15A",
           "#19d3f3",
           "#FF6692",
           "#B6E880",
           "#FF97FF",
           "#FECB52"
          ],
          "font": {
           "color": "#2a3f5f"
          },
          "geo": {
           "bgcolor": "white",
           "lakecolor": "white",
           "landcolor": "#E5ECF6",
           "showlakes": true,
           "showland": true,
           "subunitcolor": "white"
          },
          "hoverlabel": {
           "align": "left"
          },
          "hovermode": "closest",
          "mapbox": {
           "style": "light"
          },
          "paper_bgcolor": "white",
          "plot_bgcolor": "#E5ECF6",
          "polar": {
           "angularaxis": {
            "gridcolor": "white",
            "linecolor": "white",
            "ticks": ""
           },
           "bgcolor": "#E5ECF6",
           "radialaxis": {
            "gridcolor": "white",
            "linecolor": "white",
            "ticks": ""
           }
          },
          "scene": {
           "xaxis": {
            "backgroundcolor": "#E5ECF6",
            "gridcolor": "white",
            "gridwidth": 2,
            "linecolor": "white",
            "showbackground": true,
            "ticks": "",
            "zerolinecolor": "white"
           },
           "yaxis": {
            "backgroundcolor": "#E5ECF6",
            "gridcolor": "white",
            "gridwidth": 2,
            "linecolor": "white",
            "showbackground": true,
            "ticks": "",
            "zerolinecolor": "white"
           },
           "zaxis": {
            "backgroundcolor": "#E5ECF6",
            "gridcolor": "white",
            "gridwidth": 2,
            "linecolor": "white",
            "showbackground": true,
            "ticks": "",
            "zerolinecolor": "white"
           }
          },
          "shapedefaults": {
           "line": {
            "color": "#2a3f5f"
           }
          },
          "ternary": {
           "aaxis": {
            "gridcolor": "white",
            "linecolor": "white",
            "ticks": ""
           },
           "baxis": {
            "gridcolor": "white",
            "linecolor": "white",
            "ticks": ""
           },
           "bgcolor": "#E5ECF6",
           "caxis": {
            "gridcolor": "white",
            "linecolor": "white",
            "ticks": ""
           }
          },
          "title": {
           "x": 0.05
          },
          "xaxis": {
           "automargin": true,
           "gridcolor": "white",
           "linecolor": "white",
           "ticks": "",
           "zerolinecolor": "white",
           "zerolinewidth": 2
          },
          "yaxis": {
           "automargin": true,
           "gridcolor": "white",
           "linecolor": "white",
           "ticks": "",
           "zerolinecolor": "white",
           "zerolinewidth": 2
          }
         }
        },
        "title": {
         "text": "Top 10 of All Most Check-ins Place"
        }
       }
      },
      "text/html": [
       "<div>\n",
       "        \n",
       "        \n",
       "            <div id=\"a73db88d-2773-4627-a34d-ff21c09ee865\" class=\"plotly-graph-div\" style=\"height:525px; width:100%;\"></div>\n",
       "            <script type=\"text/javascript\">\n",
       "                require([\"plotly\"], function(Plotly) {\n",
       "                    window.PLOTLYENV=window.PLOTLYENV || {};\n",
       "                    \n",
       "                if (document.getElementById(\"a73db88d-2773-4627-a34d-ff21c09ee865\")) {\n",
       "                    Plotly.newPlot(\n",
       "                        'a73db88d-2773-4627-a34d-ff21c09ee865',\n",
       "                        [{\"lat\": [40.7127281, 37.7792808, 36.30785475, 34.0536909, 36.1662859, 40.75728055, 37.8176155, 38.8950092, 40.7010428, 37.84054795], \"locationmode\": \"USA-states\", \"lon\": [-74.0060152, -122.4192363, -112.29289603702401, -118.2427666, -115.149225, -73.98585503545921, -122.478312403719, -77.0365625, -73.9903534, -119.516587798025], \"marker\": {\"autocolorscale\": false, \"cmax\": 1017, \"color\": [1017, 965, 637, 600, 584, 546, 510, 456, 420, 395], \"colorbar\": {\"title\": {\"text\": \"Number of Check-ins\"}}, \"colorscale\": [[0, \"rgb(150,0,90)\"], [0.125, \"rgb(0, 0, 200)\"], [0.25, \"rgb(0, 25, 255)\"], [0.375, \"rgb(0, 152, 255)\"], [0.5, \"rgb(44, 255, 150)\"], [0.625, \"rgb(151, 255, 0)\"], [0.75, \"rgb(255, 234, 0)\"], [0.875, \"rgb(255, 111, 0)\"], [1, \"rgb(255, 0, 0)\"]], \"line\": {\"color\": \"rgba(102, 102, 102)\", \"width\": 1}, \"opacity\": 0.8, \"reversescale\": true, \"size\": 5}, \"mode\": \"markers\", \"text\": [\"New York, United States of America, New York, Check-ins: 1017\", \"San Francisco, San Francisco City and County, California, United States of America, California, Check-ins: 965\", \"Grand Canyon National Park, Havasu Canyon Trail, Supai, Coconino County, Arizona, United States, Arizona, Check-ins: 637\", \"Los Angeles, Los Angeles County, California, United States of America, California, Check-ins: 600\", \"Las Vegas, Clark County, Nevada, United States, Nevada, Check-ins: 584\", \"Times Square, West 44th Street, Times Square, Theater District, Manhattan Community Board 5, Manhattan, New York County, New York, 10036, United States of America, New York, Check-ins: 546\", \"Golden Gate Bridge, Redwood Highway, Waldo, Marin County, California, 94965, United States of America, California, Check-ins: 510\", \"Washington, District of Columbia, United States of America, Washington, Check-ins: 456\", \"Brooklyn Bridge, DUMBO, Brooklyn, Kings County, New York, 11201-1832, United States of America, New York, Check-ins: 420\", \"Yosemite National Park, PO box 577, Village Drive, Yosemite Village, Yosemite Valley, Mariposa County, California, 95389, United States, California, Check-ins: 395\"], \"type\": \"scattergeo\"}],\n",
       "                        {\"geo\": {\"countrycolor\": \"rgb(217, 217, 217)\", \"countrywidth\": 0.5, \"landcolor\": \"rgb(250, 250, 250)\", \"projection\": {\"type\": \"albers usa\"}, \"scope\": \"usa\", \"showland\": true, \"subunitcolor\": \"rgb(217, 217, 217)\", \"subunitwidth\": 0.5}, \"template\": {\"data\": {\"bar\": [{\"error_x\": {\"color\": \"#2a3f5f\"}, \"error_y\": {\"color\": \"#2a3f5f\"}, \"marker\": {\"line\": {\"color\": \"#E5ECF6\", \"width\": 0.5}}, \"type\": \"bar\"}], \"barpolar\": [{\"marker\": {\"line\": {\"color\": \"#E5ECF6\", \"width\": 0.5}}, \"type\": \"barpolar\"}], \"carpet\": [{\"aaxis\": {\"endlinecolor\": \"#2a3f5f\", \"gridcolor\": \"white\", \"linecolor\": \"white\", \"minorgridcolor\": \"white\", \"startlinecolor\": \"#2a3f5f\"}, \"baxis\": {\"endlinecolor\": \"#2a3f5f\", \"gridcolor\": \"white\", \"linecolor\": \"white\", \"minorgridcolor\": \"white\", \"startlinecolor\": \"#2a3f5f\"}, \"type\": \"carpet\"}], \"choropleth\": [{\"colorbar\": {\"outlinewidth\": 0, \"ticks\": \"\"}, \"type\": \"choropleth\"}], \"contour\": [{\"colorbar\": {\"outlinewidth\": 0, \"ticks\": \"\"}, \"colorscale\": [[0.0, \"#0d0887\"], [0.1111111111111111, \"#46039f\"], [0.2222222222222222, \"#7201a8\"], [0.3333333333333333, \"#9c179e\"], [0.4444444444444444, \"#bd3786\"], [0.5555555555555556, \"#d8576b\"], [0.6666666666666666, \"#ed7953\"], [0.7777777777777778, \"#fb9f3a\"], [0.8888888888888888, \"#fdca26\"], [1.0, \"#f0f921\"]], \"type\": \"contour\"}], \"contourcarpet\": [{\"colorbar\": {\"outlinewidth\": 0, \"ticks\": \"\"}, \"type\": \"contourcarpet\"}], \"heatmap\": [{\"colorbar\": {\"outlinewidth\": 0, \"ticks\": \"\"}, \"colorscale\": [[0.0, \"#0d0887\"], [0.1111111111111111, \"#46039f\"], [0.2222222222222222, \"#7201a8\"], [0.3333333333333333, \"#9c179e\"], [0.4444444444444444, \"#bd3786\"], [0.5555555555555556, \"#d8576b\"], [0.6666666666666666, \"#ed7953\"], [0.7777777777777778, \"#fb9f3a\"], [0.8888888888888888, \"#fdca26\"], [1.0, \"#f0f921\"]], \"type\": \"heatmap\"}], \"heatmapgl\": [{\"colorbar\": {\"outlinewidth\": 0, \"ticks\": \"\"}, \"colorscale\": [[0.0, \"#0d0887\"], [0.1111111111111111, \"#46039f\"], [0.2222222222222222, \"#7201a8\"], [0.3333333333333333, \"#9c179e\"], [0.4444444444444444, \"#bd3786\"], [0.5555555555555556, \"#d8576b\"], [0.6666666666666666, \"#ed7953\"], [0.7777777777777778, \"#fb9f3a\"], [0.8888888888888888, \"#fdca26\"], [1.0, \"#f0f921\"]], \"type\": \"heatmapgl\"}], \"histogram\": [{\"marker\": {\"colorbar\": {\"outlinewidth\": 0, \"ticks\": \"\"}}, \"type\": \"histogram\"}], \"histogram2d\": [{\"colorbar\": {\"outlinewidth\": 0, \"ticks\": \"\"}, \"colorscale\": [[0.0, \"#0d0887\"], [0.1111111111111111, \"#46039f\"], [0.2222222222222222, \"#7201a8\"], [0.3333333333333333, \"#9c179e\"], [0.4444444444444444, \"#bd3786\"], [0.5555555555555556, \"#d8576b\"], [0.6666666666666666, \"#ed7953\"], [0.7777777777777778, \"#fb9f3a\"], [0.8888888888888888, \"#fdca26\"], [1.0, \"#f0f921\"]], \"type\": \"histogram2d\"}], \"histogram2dcontour\": [{\"colorbar\": {\"outlinewidth\": 0, \"ticks\": \"\"}, \"colorscale\": [[0.0, \"#0d0887\"], [0.1111111111111111, \"#46039f\"], [0.2222222222222222, \"#7201a8\"], [0.3333333333333333, \"#9c179e\"], [0.4444444444444444, \"#bd3786\"], [0.5555555555555556, \"#d8576b\"], [0.6666666666666666, \"#ed7953\"], [0.7777777777777778, \"#fb9f3a\"], [0.8888888888888888, \"#fdca26\"], [1.0, \"#f0f921\"]], \"type\": \"histogram2dcontour\"}], \"mesh3d\": [{\"colorbar\": {\"outlinewidth\": 0, \"ticks\": \"\"}, \"type\": \"mesh3d\"}], \"parcoords\": [{\"line\": {\"colorbar\": {\"outlinewidth\": 0, \"ticks\": \"\"}}, \"type\": \"parcoords\"}], \"scatter\": [{\"marker\": {\"colorbar\": {\"outlinewidth\": 0, \"ticks\": \"\"}}, \"type\": \"scatter\"}], \"scatter3d\": [{\"line\": {\"colorbar\": {\"outlinewidth\": 0, \"ticks\": \"\"}}, \"marker\": {\"colorbar\": {\"outlinewidth\": 0, \"ticks\": \"\"}}, \"type\": \"scatter3d\"}], \"scattercarpet\": [{\"marker\": {\"colorbar\": {\"outlinewidth\": 0, \"ticks\": \"\"}}, \"type\": \"scattercarpet\"}], \"scattergeo\": [{\"marker\": {\"colorbar\": {\"outlinewidth\": 0, \"ticks\": \"\"}}, \"type\": \"scattergeo\"}], \"scattergl\": [{\"marker\": {\"colorbar\": {\"outlinewidth\": 0, \"ticks\": \"\"}}, \"type\": \"scattergl\"}], \"scattermapbox\": [{\"marker\": {\"colorbar\": {\"outlinewidth\": 0, \"ticks\": \"\"}}, \"type\": \"scattermapbox\"}], \"scatterpolar\": [{\"marker\": {\"colorbar\": {\"outlinewidth\": 0, \"ticks\": \"\"}}, \"type\": \"scatterpolar\"}], \"scatterpolargl\": [{\"marker\": {\"colorbar\": {\"outlinewidth\": 0, \"ticks\": \"\"}}, \"type\": \"scatterpolargl\"}], \"scatterternary\": [{\"marker\": {\"colorbar\": {\"outlinewidth\": 0, \"ticks\": \"\"}}, \"type\": \"scatterternary\"}], \"surface\": [{\"colorbar\": {\"outlinewidth\": 0, \"ticks\": \"\"}, \"colorscale\": [[0.0, \"#0d0887\"], [0.1111111111111111, \"#46039f\"], [0.2222222222222222, \"#7201a8\"], [0.3333333333333333, \"#9c179e\"], [0.4444444444444444, \"#bd3786\"], [0.5555555555555556, \"#d8576b\"], [0.6666666666666666, \"#ed7953\"], [0.7777777777777778, \"#fb9f3a\"], [0.8888888888888888, \"#fdca26\"], [1.0, \"#f0f921\"]], \"type\": \"surface\"}], \"table\": [{\"cells\": {\"fill\": {\"color\": \"#EBF0F8\"}, \"line\": {\"color\": \"white\"}}, \"header\": {\"fill\": {\"color\": \"#C8D4E3\"}, \"line\": {\"color\": \"white\"}}, \"type\": \"table\"}]}, \"layout\": {\"annotationdefaults\": {\"arrowcolor\": \"#2a3f5f\", \"arrowhead\": 0, \"arrowwidth\": 1}, \"colorscale\": {\"diverging\": [[0, \"#8e0152\"], [0.1, \"#c51b7d\"], [0.2, \"#de77ae\"], [0.3, \"#f1b6da\"], [0.4, \"#fde0ef\"], [0.5, \"#f7f7f7\"], [0.6, \"#e6f5d0\"], [0.7, \"#b8e186\"], [0.8, \"#7fbc41\"], [0.9, \"#4d9221\"], [1, \"#276419\"]], \"sequential\": [[0.0, \"#0d0887\"], [0.1111111111111111, \"#46039f\"], [0.2222222222222222, \"#7201a8\"], [0.3333333333333333, \"#9c179e\"], [0.4444444444444444, \"#bd3786\"], [0.5555555555555556, \"#d8576b\"], [0.6666666666666666, \"#ed7953\"], [0.7777777777777778, \"#fb9f3a\"], [0.8888888888888888, \"#fdca26\"], [1.0, \"#f0f921\"]], \"sequentialminus\": [[0.0, \"#0d0887\"], [0.1111111111111111, \"#46039f\"], [0.2222222222222222, \"#7201a8\"], [0.3333333333333333, \"#9c179e\"], [0.4444444444444444, \"#bd3786\"], [0.5555555555555556, \"#d8576b\"], [0.6666666666666666, \"#ed7953\"], [0.7777777777777778, \"#fb9f3a\"], [0.8888888888888888, \"#fdca26\"], [1.0, \"#f0f921\"]]}, \"colorway\": [\"#636efa\", \"#EF553B\", \"#00cc96\", \"#ab63fa\", \"#FFA15A\", \"#19d3f3\", \"#FF6692\", \"#B6E880\", \"#FF97FF\", \"#FECB52\"], \"font\": {\"color\": \"#2a3f5f\"}, \"geo\": {\"bgcolor\": \"white\", \"lakecolor\": \"white\", \"landcolor\": \"#E5ECF6\", \"showlakes\": true, \"showland\": true, \"subunitcolor\": \"white\"}, \"hoverlabel\": {\"align\": \"left\"}, \"hovermode\": \"closest\", \"mapbox\": {\"style\": \"light\"}, \"paper_bgcolor\": \"white\", \"plot_bgcolor\": \"#E5ECF6\", \"polar\": {\"angularaxis\": {\"gridcolor\": \"white\", \"linecolor\": \"white\", \"ticks\": \"\"}, \"bgcolor\": \"#E5ECF6\", \"radialaxis\": {\"gridcolor\": \"white\", \"linecolor\": \"white\", \"ticks\": \"\"}}, \"scene\": {\"xaxis\": {\"backgroundcolor\": \"#E5ECF6\", \"gridcolor\": \"white\", \"gridwidth\": 2, \"linecolor\": \"white\", \"showbackground\": true, \"ticks\": \"\", \"zerolinecolor\": \"white\"}, \"yaxis\": {\"backgroundcolor\": \"#E5ECF6\", \"gridcolor\": \"white\", \"gridwidth\": 2, \"linecolor\": \"white\", \"showbackground\": true, \"ticks\": \"\", \"zerolinecolor\": \"white\"}, \"zaxis\": {\"backgroundcolor\": \"#E5ECF6\", \"gridcolor\": \"white\", \"gridwidth\": 2, \"linecolor\": \"white\", \"showbackground\": true, \"ticks\": \"\", \"zerolinecolor\": \"white\"}}, \"shapedefaults\": {\"line\": {\"color\": \"#2a3f5f\"}}, \"ternary\": {\"aaxis\": {\"gridcolor\": \"white\", \"linecolor\": \"white\", \"ticks\": \"\"}, \"baxis\": {\"gridcolor\": \"white\", \"linecolor\": \"white\", \"ticks\": \"\"}, \"bgcolor\": \"#E5ECF6\", \"caxis\": {\"gridcolor\": \"white\", \"linecolor\": \"white\", \"ticks\": \"\"}}, \"title\": {\"x\": 0.05}, \"xaxis\": {\"automargin\": true, \"gridcolor\": \"white\", \"linecolor\": \"white\", \"ticks\": \"\", \"zerolinecolor\": \"white\", \"zerolinewidth\": 2}, \"yaxis\": {\"automargin\": true, \"gridcolor\": \"white\", \"linecolor\": \"white\", \"ticks\": \"\", \"zerolinecolor\": \"white\", \"zerolinewidth\": 2}}}, \"title\": {\"text\": \"Top 10 of All Most Check-ins Place\"}},\n",
       "                        {\"responsive\": true}\n",
       "                    ).then(function(){\n",
       "                            \n",
       "var gd = document.getElementById('a73db88d-2773-4627-a34d-ff21c09ee865');\n",
       "var x = new MutationObserver(function (mutations, observer) {{\n",
       "        var display = window.getComputedStyle(gd).display;\n",
       "        if (!display || display === 'none') {{\n",
       "            console.log([gd, 'removed!']);\n",
       "            Plotly.purge(gd);\n",
       "            observer.disconnect();\n",
       "        }}\n",
       "}});\n",
       "\n",
       "// Listen for the removal of the full notebook cells\n",
       "var notebookContainer = gd.closest('#notebook-container');\n",
       "if (notebookContainer) {{\n",
       "    x.observe(notebookContainer, {childList: true});\n",
       "}}\n",
       "\n",
       "// Listen for the clearing of the current output cell\n",
       "var outputEl = gd.closest('.output');\n",
       "if (outputEl) {{\n",
       "    x.observe(outputEl, {childList: true});\n",
       "}}\n",
       "\n",
       "                        })\n",
       "                };\n",
       "                });\n",
       "            </script>\n",
       "        </div>"
      ]
     },
     "metadata": {},
     "output_type": "display_data"
    },
    {
     "name": "stdout",
     "output_type": "stream",
     "text": [
      "\n",
      "1. Geomap of Total Check-ins by each state\n",
      "2. Total Check-ins by each state from JAN2016 to OCT2019\n",
      "3. Top Popular Check-ins\n",
      "4. Geomap of Top Popular Check-ins\n",
      "5. Check-ins vs US Index\n",
      "6. Check-ins vs Temperature\n",
      "7. Check-ins vs Crime Rate\n",
      "8. State name sheet\n",
      "q. Quit the program\n",
      "\n",
      "Please type \"8\" for each state name for input\n",
      "\n",
      "Make a selection: 5\n"
     ]
    },
    {
     "data": {
      "image/png": "[encoded data removed]",
      "text/plain": [
       "<Figure size 432x288 with 2 Axes>"
      ]
     },
     "metadata": {},
     "output_type": "display_data"
    },
    {
     "name": "stdout",
     "output_type": "stream",
     "text": [
      "\n",
      "1. Geomap of Total Check-ins by each state\n",
      "2. Total Check-ins by each state from JAN2016 to OCT2019\n",
      "3. Top Popular Check-ins\n",
      "4. Geomap of Top Popular Check-ins\n",
      "5. Check-ins vs US Index\n",
      "6. Check-ins vs Temperature\n",
      "7. Check-ins vs Crime Rate\n",
      "8. State name sheet\n",
      "q. Quit the program\n",
      "\n",
      "Please type \"8\" for each state name for input\n",
      "\n",
      "Make a selection: 6\n",
      "\n",
      "Input State name starting with Capital Letter (input 'All' to see for all state)\n",
      "For State name guideline, please selection \"8\" on the main menu\n",
      "\n",
      "Enter input : All\n"
     ]
    },
    {
     "data": {
      "image/png": "[encoded data removed]",
      "text/plain": [
       "<Figure size 432x288 with 2 Axes>"
      ]
     },
     "metadata": {},
     "output_type": "display_data"
    },
    {
     "name": "stdout",
     "output_type": "stream",
     "text": [
      "\n",
      "1. Geomap of Total Check-ins by each state\n",
      "2. Total Check-ins by each state from JAN2016 to OCT2019\n",
      "3. Top Popular Check-ins\n",
      "4. Geomap of Top Popular Check-ins\n",
      "5. Check-ins vs US Index\n",
      "6. Check-ins vs Temperature\n",
      "7. Check-ins vs Crime Rate\n",
      "8. State name sheet\n",
      "q. Quit the program\n",
      "\n",
      "Please type \"8\" for each state name for input\n",
      "\n",
      "Make a selection: 7\n",
      "\n",
      "Input State name starting with Capital Letter (input 'All' to see for all state)\n",
      "For State name guideline, please selection \"8\" on the main menu\n",
      "\n",
      "Enter input : All\n"
     ]
    },
    {
     "data": {
      "image/png": "[encoded data removed]",
      "text/plain": [
       "<Figure size 432x288 with 2 Axes>"
      ]
     },
     "metadata": {},
     "output_type": "display_data"
    },
    {
     "name": "stdout",
     "output_type": "stream",
     "text": [
      "\n",
      "1. Geomap of Total Check-ins by each state\n",
      "2. Total Check-ins by each state from JAN2016 to OCT2019\n",
      "3. Top Popular Check-ins\n",
      "4. Geomap of Top Popular Check-ins\n",
      "5. Check-ins vs US Index\n",
      "6. Check-ins vs Temperature\n",
      "7. Check-ins vs Crime Rate\n",
      "8. State name sheet\n",
      "q. Quit the program\n",
      "\n",
      "Please type \"8\" for each state name for input\n",
      "\n",
      "Make a selection: q\n"
     ]
    }
   ],
   "source": [
    "def menu():\n",
    "    print()\n",
    "    print('1. Geomap of Total Check-ins by each state')\n",
    "    print('2. Total Check-ins by each state from JAN2016 to OCT2019')\n",
    "    print('3. Top Popular Check-ins')\n",
    "    print('4. Geomap of Top Popular Check-ins')\n",
    "    print('5. Check-ins vs US Index')\n",
    "    print('6. Check-ins vs Temperature')\n",
    "    print('7. Check-ins vs Crime Rate')\n",
    "    print('8. State name sheet')\n",
    "    print('q. Quit the program')\n",
    "    print()\n",
    "    print('Please type \"8\" for each state name for input')\n",
    "    print()\n",
    "\n",
    "def processRequest(selection):\n",
    "    if selection == '1':\n",
    "        Geomapplot(selection)\n",
    "    elif selection == '2':\n",
    "        NumberCheckins(selection)    \n",
    "    elif selection == '3':\n",
    "        PopCheckins(selection)\n",
    "    elif selection == '4':\n",
    "        GeoPopCheckins(selection)\n",
    "    elif selection == '5':\n",
    "        CheckinsVSUSIndex(selection)\n",
    "    elif selection == '6':\n",
    "        CheckinsVSTemp(selection)\n",
    "    elif selection == '7':\n",
    "        CheckinsVSCrime(selection)  \n",
    "    elif selection == '8':\n",
    "        StateNameSheet(selection) \n",
    "    else:\n",
    "        return 'q' \n",
    "\n",
    "#using plotly to draw a choropleth map of a US\n",
    "def Geomapplot(selection):\n",
    "    print()\n",
    "    print('Input can be year(2016-2019), season(Spring,Summer,Fall,Winter) and month(JAN-DEC)')\n",
    "    print('Type \"Total\" for all data from 2016-2019')\n",
    "    print()\n",
    "    search = input('Enter input : ').upper().replace(\" \",\"\")\n",
    "    \n",
    "    try :\n",
    "        fig = go.Figure(data=go.Choropleth(\n",
    "            locations=Data_grouped_sum['Code'], \n",
    "            z = Data_grouped_sum[search].astype(float),\n",
    "            locationmode = 'USA-states', \n",
    "            colorscale = 'Greens',\n",
    "            colorbar_title ='Number of Check-ins',\n",
    "        ))\n",
    "\n",
    "        fig.update_layout(\n",
    "            title_text = search + ' Number of Instagram Check-ins',\n",
    "            geo_scope='usa',\n",
    "        )\n",
    "        print('Data from 01/01/2016 to 10/29/2019')\n",
    "        fig.show()\n",
    "                       \n",
    "    except :\n",
    "        print()\n",
    "        print('Error : Typing Wrong Input')\n",
    "                       \n",
    "\n",
    "def NumberCheckins(selection):\n",
    "    print()\n",
    "    print(\"Input State name starting with Capital Letter (input 'All' to see all state)\")\n",
    "    print('For State name guideline, please selection \"8\" on the main menu')\n",
    "    print()\n",
    "    state = input('Enter State : ')\n",
    "    \n",
    "    try :\n",
    "        Plot = Datax_sum.loc[state].plot(legend=True, figsize=(16,10),title = state + ' Number of Check-ins from JAN2016 to OCT2019')\n",
    "        Plot.set_ylabel('Number of Check-ins')\n",
    "        Plot.set_xlabel('Year (JAN2016 to OCT2019)')\n",
    "        plt.show()\n",
    "    \n",
    "    except :\n",
    "        print()\n",
    "        print('Error : Typing Wrong State Name or no Data for this state')\n",
    "        print('Please selection \"8\" on the main menu to see all state name')\n",
    "        \n",
    "def PopCheckins(selection):\n",
    "    print()\n",
    "    print(\"Input Season (input 'All' to see all season)\")\n",
    "    print()\n",
    "    season = input('Enter Season (Spring,Summer,Fall,Winter) : ').upper().replace(\" \",\"\")\n",
    "    print()\n",
    "    print(\"Input State name starting with Capital Letter (input 'All' to see all state)\")\n",
    "    print('For State name guideline, please selection \"8\" on the main menu')\n",
    "    print()\n",
    "    state = input('Enter State : ')\n",
    "    print()\n",
    "    print('Input Number of Place to show')\n",
    "    print()\n",
    "    number = input('Enter number : ')\n",
    "    seasonlist = ['SUMMER','WINTER','FALL','SPRING']\n",
    "    \n",
    "    if season == 'ALL':\n",
    "        PopPlaceState = PopPlace_sum.sort_values(by=['Total'], ascending=False)\n",
    "        \n",
    "        try :\n",
    "            if state != 'All':\n",
    "                PopPlaceState = PopPlace_sum.loc[(PopPlace_sum.State == state),]\n",
    "            PopPlaceState = PopPlaceState.loc[:,['State','Total']]\n",
    "            print('Top ' + number + ' Poplular Place Check-ins from 01/01/2016 to 10/29/2019 of ' + state)\n",
    "            print(PopPlaceState.head(int(number)))\n",
    "\n",
    "        except :\n",
    "            print()\n",
    "            print('Error : Typing Wrong State Name or no Data for this state')\n",
    "            print('Please selection \"8\" on the main menu to see all state name')\n",
    "    \n",
    "    elif season in seasonlist:\n",
    "        if season == 'SPRING':\n",
    "            dataframe = PopSpring \n",
    "        elif season == 'SUMMER':\n",
    "            dataframe = PopSummer \n",
    "        elif season == 'FALL':\n",
    "            dataframe = PopFall \n",
    "        elif season == 'WINTER':\n",
    "            dataframe = PopWinter    \n",
    "    \n",
    "        try :\n",
    "            if state != 'All':\n",
    "                dataframe = dataframe.loc[(dataframe.State == state),]   \n",
    "                \n",
    "            PopPlaceState = dataframe.sort_values(by=['Total'], ascending=False)\n",
    "            PopPlaceState = PopPlaceState.loc[:,['Address','State','Total']]\n",
    "            PopPlaceState = PopPlaceState.set_index('Address')\n",
    "            print('Top '+ number + ' Poplular Place Check-ins on '+ season + ' of ' + state)\n",
    "            print(PopPlaceState.head(int(number)))\n",
    "\n",
    "        except :\n",
    "            print()\n",
    "            print('Error : Typing Wrong State Name or no Data for this state in this season')\n",
    "            print('Please selection \"8\" on the main menu to see all state name')\n",
    "          \n",
    "    else :\n",
    "        print()\n",
    "        print('Error : Typing Wrong Season')\n",
    "\n",
    "def GeoPopCheckins(selection):\n",
    "    print()\n",
    "    print(\"Input Season (input 'All' to see all season)\")\n",
    "    print()\n",
    "    season = input('Enter Season (Spring,Summer,Fall,Winter) : ').upper().replace(\" \",\"\")\n",
    "    print()\n",
    "    print(\"Input State name starting with Capital Letter (input 'All' to see all state)\")\n",
    "    print('For State name guideline, please selection \"8\" on the main menu')\n",
    "    print()\n",
    "    state = input('Enter State : ')\n",
    "    print()\n",
    "    print('Input Number of Place to show')\n",
    "    print()\n",
    "    number = input('Enter number : ')\n",
    "    seasonlist = ['SUMMER','WINTER','FALL','SPRING']\n",
    "    \n",
    "    if season == 'ALL':\n",
    "        Pop = PopPlace_sum.sort_values(by=['Total'], ascending=False)\n",
    "        if state != 'All':\n",
    "               Pop =  Pop.loc[(Pop.State == state),]\n",
    "        Pop = Pop.head(int(number))\n",
    "        \n",
    "        try :\n",
    "            scl = [0,\"rgb(150,0,90)\"],[0.125,\"rgb(0, 0, 200)\"],[0.25,\"rgb(0, 25, 255)\"],\\\n",
    "            [0.375,\"rgb(0, 152, 255)\"],[0.5,\"rgb(44, 255, 150)\"],[0.625,\"rgb(151, 255, 0)\"],\\\n",
    "            [0.75,\"rgb(255, 234, 0)\"],[0.875,\"rgb(255, 111, 0)\"],[1,\"rgb(255, 0, 0)\"]\n",
    "\n",
    "            fig = go.Figure(data=go.Scattergeo(\n",
    "                    locationmode = 'USA-states',\n",
    "                    lat = Pop['Latitude'],\n",
    "                    lon = Pop['Longitude'],\n",
    "                    text = Pop.index + ', ' + Pop['State'] + ', ' + 'Check-ins: ' +Pop['Total'].astype(str),\n",
    "                    mode = 'markers',\n",
    "                    marker = dict(\n",
    "                        size = 5,\n",
    "                        opacity = 0.8,\n",
    "                        reversescale = True,\n",
    "                        autocolorscale = False,\n",
    "                        line = dict(\n",
    "                            width=1,\n",
    "                            color='rgba(102, 102, 102)'\n",
    "                        ),\n",
    "                        colorscale = scl,\n",
    "                        color = Pop['Total'],\n",
    "                        cmax = Pop['Total'].max(),\n",
    "                        colorbar_title=\"Number of Check-ins\"\n",
    "                    )))\n",
    "\n",
    "            fig.update_layout(\n",
    "                    title = 'Top ' + number + ' of '+ state + ' Most Check-ins Place',\n",
    "                    geo = dict(\n",
    "                        scope='usa',\n",
    "                        projection_type='albers usa',\n",
    "                        showland = True,\n",
    "                        landcolor = \"rgb(250, 250, 250)\",\n",
    "                        subunitcolor = \"rgb(217, 217, 217)\",\n",
    "                        countrycolor = \"rgb(217, 217, 217)\",\n",
    "                        countrywidth = 0.5,\n",
    "                        subunitwidth = 0.5\n",
    "                    ),\n",
    "                )\n",
    "            fig.show()\n",
    "        except :\n",
    "            print()\n",
    "            print('Error : Typing Wrong State Name or no Data for this state')\n",
    "            print('Please selection \"8\" on the main menu to see all state name')\n",
    "       \n",
    "    elif season in seasonlist:\n",
    "        if season == 'SPRING':\n",
    "            dataframe = PopSpring \n",
    "        elif season == 'SUMMER':\n",
    "            dataframe = PopSummer \n",
    "        elif season == 'FALL':\n",
    "            dataframe = PopFall \n",
    "        elif season == 'WINTER':\n",
    "            dataframe = PopWinter \n",
    "        \n",
    "        if state != 'All':\n",
    "            dataframe =  dataframe.loc[(dataframe.State == state),]\n",
    "        \n",
    "        try :\n",
    "            Pop = dataframe\n",
    "            Pop = Pop.set_index('Address')\n",
    "            Pop = Pop.sort_values(by=['Total'], ascending=False)\n",
    "            Pop = Pop.head(int(number))\n",
    "            \n",
    "            scl = [0,\"rgb(150,0,90)\"],[0.125,\"rgb(0, 0, 200)\"],[0.25,\"rgb(0, 25, 255)\"],\\\n",
    "            [0.375,\"rgb(0, 152, 255)\"],[0.5,\"rgb(44, 255, 150)\"],[0.625,\"rgb(151, 255, 0)\"],\\\n",
    "            [0.75,\"rgb(255, 234, 0)\"],[0.875,\"rgb(255, 111, 0)\"],[1,\"rgb(255, 0, 0)\"]\n",
    "\n",
    "            fig = go.Figure(data=go.Scattergeo(\n",
    "                    locationmode = 'USA-states',\n",
    "                    lat = Pop['Latitude'],\n",
    "                    lon = Pop['Longitude'],\n",
    "                    text = Pop.index + ', ' + Pop['State'] + ', ' + 'Check-ins: ' +Pop['Total'].astype(str),\n",
    "                    mode = 'markers',\n",
    "                    marker = dict(\n",
    "                        size = 5,\n",
    "                        opacity = 0.8,\n",
    "                        reversescale = True,\n",
    "                        autocolorscale = False,\n",
    "                        line = dict(\n",
    "                            width=1,\n",
    "                            color='rgba(102, 102, 102)'\n",
    "                        ),\n",
    "                        colorscale = scl,\n",
    "                        color = Pop['Total'],\n",
    "                        cmax = Pop['Total'].max(),\n",
    "                        colorbar_title=\"Number of Check-ins\"\n",
    "                    )))\n",
    "\n",
    "            fig.update_layout(\n",
    "                    title = 'Top ' + number + ' of '+state + ' Most Check-ins Place in '+ season,\n",
    "                    geo = dict(\n",
    "                        scope='usa',\n",
    "                        projection_type='albers usa',\n",
    "                        showland = True,\n",
    "                        landcolor = \"rgb(250, 250, 250)\",\n",
    "                        subunitcolor = \"rgb(217, 217, 217)\",\n",
    "                        countrycolor = \"rgb(217, 217, 217)\",\n",
    "                        countrywidth = 0.5,\n",
    "                        subunitwidth = 0.5\n",
    "                    ),\n",
    "                )\n",
    "            fig.show()\n",
    "       \n",
    "            \n",
    "        except :\n",
    "            print()\n",
    "            print('Error : Typing Wrong State Name or no Data for this state in this season')\n",
    "            print('Please selection \"8\" on the main menu to see all state name')\n",
    "            \n",
    "    else :\n",
    "        print()\n",
    "        print('Error : Typing Wrong Season')\n",
    "        \n",
    "def CheckinsVSUSIndex(selection):\n",
    "    #combine two graph with different y-axis\n",
    "    fig, ax1 = plt.subplots()\n",
    "    ax2 = fig.add_axes()\n",
    "    ax2 = ax1.twinx()\n",
    "\n",
    "    #First graph plot\n",
    "    ax1.set_ylabel('Number of US Trip Check-ins)', color='red')\n",
    "    ax1.tick_params(axis='y', labelcolor='red')\n",
    "    lns1 = ax1.plot(Data_datesize.loc['Total'], color='red', lw=3, alpha= 0.6, label='Number of US Trip Check-ins', marker='o')\n",
    "\n",
    "    #Second graph plot\n",
    "    ax2.set_ylabel('US Index', color='blue')\n",
    "    ax2.tick_params(axis='y', labelcolor='blue')\n",
    "    lns2 = ax2.plot(USIndex.loc['USIndex'], color='blue', lw=3, alpha= 0.6, label='US Index', marker='o')\n",
    "\n",
    "    plt.title('Number of US Trip Check-ins vs US Index JAN2016 to DEC2018') \n",
    "    # Label 2 line in the graph\n",
    "    leg = lns1 + lns2\n",
    "    labs = [l.get_label() for l in leg]\n",
    "    ax1.legend(leg, labs, loc=1)\n",
    "    plt.grid()\n",
    "    plt.xticks([])\n",
    "    plt.show()\n",
    "\n",
    "def CheckinsVSTemp(selection):\n",
    "    print()\n",
    "    print(\"Input State name starting with Capital Letter (input 'All' to see for all state)\")\n",
    "    print('For State name guideline, please selection \"8\" on the main menu')\n",
    "    print()\n",
    "    state = input('Enter input : ')\n",
    "    try :\n",
    "        Checkins = Datax_sum.loc[state]\n",
    "        Checkins = Checkins.loc['Total']\n",
    "        Checkins = Checkins.to_frame()\n",
    "        \n",
    "        Temp = Temperature[Temperature.index == state]\n",
    "        Temp = Temp.loc[:,('Date','Temp')]\n",
    "        Temp = Temp.set_index('Date')\n",
    "\n",
    "        #combine two graph with different y-axis\n",
    "        fig, ax1 = plt.subplots()\n",
    "        ax2 = fig.add_axes()\n",
    "        ax2 = ax1.twinx()\n",
    "\n",
    "        #First graph plot\n",
    "        ax1.set_ylabel('Number of US Trip Check-ins)', color='red')\n",
    "        ax1.tick_params(axis='y', labelcolor='red')\n",
    "        lns1 = ax1.plot(Checkins, color='red', lw=3, alpha= 0.6, label='Number of US Trip Check-ins', marker='o')\n",
    "\n",
    "        #Second graph plot\n",
    "        ax2.set_ylabel('Temperature (℉)', color='blue')\n",
    "        ax2.tick_params(axis='y', labelcolor='blue')\n",
    "        lns2 = ax2.plot(Temp, color='blue', lw=3, alpha= 0.6, label='Temperature', marker='o')\n",
    "\n",
    "        plt.title(state + ' :Number of US Trip Check-ins vs Temperature (℉) JAN2016 to DEC2018') \n",
    "        # Label 2 line in the graph\n",
    "        leg = lns1 + lns2\n",
    "        labs = [l.get_label() for l in leg]\n",
    "        ax1.legend(leg, labs, loc=1)\n",
    "        plt.grid()\n",
    "        plt.xticks([])\n",
    "        plt.show() \n",
    "    except :\n",
    "        print()\n",
    "        print('Error : Typing Wrong State Name or no Data for this state')\n",
    "        print('Please selection \"8\" on the main menu to see all state name') \n",
    "\n",
    "def CheckinsVSCrime(selection):\n",
    "    print()\n",
    "    print(\"Input State name starting with Capital Letter (input 'All' to see for all state)\")\n",
    "    print('For State name guideline, please selection \"8\" on the main menu')\n",
    "    print()\n",
    "    state = input('Enter input : ')\n",
    "    try :\n",
    "        Crime = USCrime2[USCrime2.index == state]\n",
    "        Crime = Crime.loc[:,('year','Crime/Population')]\n",
    "        Crime = Crime.set_index('year')\n",
    "        Crime = Crime.sort_index()\n",
    "\n",
    "        Checkins = Data_grouped_sum3.loc[state].to_frame()\n",
    "        Checkins.index.name = 'year'\n",
    "        Checkins.index = Checkins.index.astype(str).astype(int)\n",
    "\n",
    "        #combine two graph with different y-axis\n",
    "        fig, ax1 = plt.subplots()\n",
    "        ax2 = fig.add_axes()\n",
    "        ax2 = ax1.twinx()\n",
    "\n",
    "        #First graph plot\n",
    "        ax1.set_ylabel('Number of US Trip Check-ins)', color='red')\n",
    "        ax1.tick_params(axis='y', labelcolor='red')\n",
    "        lns1 = ax1.plot(Checkins, color='red', lw=3, alpha= 0.6, label='Number of US Trip Check-ins', marker='o')\n",
    "\n",
    "        #Second graph plot\n",
    "        ax2.set_ylabel('CrimePerPopulation', color='blue')\n",
    "        ax2.tick_params(axis='y', labelcolor='blue')\n",
    "        lns2 = ax2.plot(Crime, color='blue', lw=3, alpha= 0.6, label='CrimePerPopulation', marker='o')\n",
    "\n",
    "        plt.title(state + ' :Number of US Trip Check-ins vs CrimePerPopulation 2016 to 2018') \n",
    "        # Label 2 line in the graph\n",
    "        leg = lns1 + lns2\n",
    "        labs = [l.get_label() for l in leg]\n",
    "        ax1.legend(leg, labs, loc=1)\n",
    "        plt.grid()\n",
    "        plt.xticks([])\n",
    "        plt.show()\n",
    "     \n",
    "    except :\n",
    "        print()\n",
    "        print('Error : Typing Wrong State Name or no Data for this state')\n",
    "        print('Please selection \"8\" on the main menu to see all state name')    \n",
    "\n",
    "def StateNameSheet(selection) :\n",
    "    statenamesheet = statesheet.copy()\n",
    "    statenamesheet = statenamesheet.set_index('state')\n",
    "    print(statenamesheet)\n",
    "\n",
    "def main():\n",
    "    print('Welcome to US Popular Place to Check-ins Database')     \n",
    "    selection = ''\n",
    "    while selection != 'q':\n",
    "        menu()\n",
    "        selection = input('Make a selection: ')\n",
    "        response = processRequest(selection)\n",
    "        if response == 'q':\n",
    "            break\n",
    "                                 \n",
    "main()"
   ]
  }
 ],
 "metadata": {
  "kernelspec": {
   "display_name": "Python 3",
   "language": "python",
   "name": "python3"
  },
  "language_info": {
   "codemirror_mode": {
    "name": "ipython",
    "version": 3
   },
   "file_extension": ".py",
   "mimetype": "text/x-python",
   "name": "python",
   "nbconvert_exporter": "python",
   "pygments_lexer": "ipython3",
   "version": "3.6.5"
  }
 },
 "nbformat": 4,
 "nbformat_minor": 2
}
