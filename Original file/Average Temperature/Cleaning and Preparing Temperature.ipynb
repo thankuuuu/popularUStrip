{
 "cells": [
  {
   "cell_type": "code",
   "execution_count": 2,
   "metadata": {},
   "outputs": [],
   "source": [
    "import pandas as pd \n",
    "import numpy as np"
   ]
  },
  {
   "cell_type": "code",
   "execution_count": 3,
   "metadata": {},
   "outputs": [],
   "source": [
    "USIndex = pd.DataFrame()\n",
    "\n",
    "for i in range (1,50) :\n",
    "    try :\n",
    "        number = str(i)\n",
    "        state = pd.read_csv(number + '-tavg-all-1-2016-2019.csv', nrows = 1)\n",
    "        df = pd.read_csv(number + '-tavg-all-1-2016-2019.csv', header = 4)\n",
    "        State = state.columns[0]\n",
    "        df['Date'] = df['Date'].apply(str)\n",
    "\n",
    "        # Extracing Month, Year and add the season\n",
    "        month = []\n",
    "        year = []\n",
    "        season = []\n",
    "        for i in range (len(df.index)):\n",
    "                year.append((df.loc[i,'Date'][0:4]))\n",
    "                month.append((df.loc[i,'Date'][4:6]))  \n",
    "                if df.loc[i,'Date'][4:6] in ['03','04','05'] :\n",
    "                    season.append('Spring')\n",
    "                elif df.loc[i,'Date'][4:6] in ['06','07','08'] :\n",
    "                    season.append('Summer')\n",
    "                elif df.loc[i,'Date'][4:6] in ['09','10','11'] :\n",
    "                    season.append('Fall')\n",
    "                elif df.loc[i,'Date'][4:6] in ['12','01','02'] :\n",
    "                    season.append('Winter') \n",
    "        join = {'Month':month,'Year':year,'Season':season}\n",
    "        df2 = pd.DataFrame(join)\n",
    "        Data = pd.concat([df,df2], axis=1)\n",
    "        Data['State'] = pd.Series(State)\n",
    "        Data = Data.replace(np.nan, State, regex=True)\n",
    "        Data.set_index('State', inplace=True)\n",
    "        USIndex = pd.concat([USIndex,Data], axis=0)\n",
    "    except :\n",
    "        pass"
   ]
  },
  {
   "cell_type": "code",
   "execution_count": 9,
   "metadata": {},
   "outputs": [
    {
     "name": "stdout",
     "output_type": "stream",
     "text": [
      "           Date  Value  Anomaly Month  Year  Season\n",
      "State                                              \n",
      "Alabama  201601   43.0     -1.9    01  2016  Winter\n",
      "Alabama  201602   49.8      1.5    02  2016  Winter\n",
      "Alabama  201603   59.7      4.9    03  2016  Spring\n",
      "Alabama  201604   63.6      0.7    04  2016  Spring\n",
      "Alabama  201605   70.2     -0.4    05  2016  Spring\n",
      "           Date  Value  Anomaly Month  Year  Season\n",
      "State                                              \n",
      "Wyoming  201809   57.2      3.4    09  2018    Fall\n",
      "Wyoming  201810   41.0     -1.8    10  2018    Fall\n",
      "Wyoming  201811   28.5     -0.4    11  2018    Fall\n",
      "Wyoming  201812   21.4      0.2    12  2018  Winter\n",
      "Wyoming  201901   22.1      3.6    01  2019  Winter\n"
     ]
    },
    {
     "data": {
      "text/plain": [
       "(1776, 6)"
      ]
     },
     "execution_count": 9,
     "metadata": {},
     "output_type": "execute_result"
    }
   ],
   "source": [
    "print(USIndex.head())\n",
    "print(USIndex.tail())\n",
    "USIndex.shape"
   ]
  },
  {
   "cell_type": "code",
   "execution_count": 5,
   "metadata": {},
   "outputs": [],
   "source": [
    "# Export as csv file\n",
    "USIndex.to_csv('Temperature.csv')"
   ]
  }
 ],
 "metadata": {
  "kernelspec": {
   "display_name": "Python 3",
   "language": "python",
   "name": "python3"
  },
  "language_info": {
   "codemirror_mode": {
    "name": "ipython",
    "version": 3
   },
   "file_extension": ".py",
   "mimetype": "text/x-python",
   "name": "python",
   "nbconvert_exporter": "python",
   "pygments_lexer": "ipython3",
   "version": "3.6.5"
  }
 },
 "nbformat": 4,
 "nbformat_minor": 2
}
